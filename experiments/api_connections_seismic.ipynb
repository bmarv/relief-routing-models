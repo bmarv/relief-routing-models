{
 "cells": [
  {
   "attachments": {},
   "cell_type": "markdown",
   "metadata": {},
   "source": [
    "# Api Connections - Seismic Activity"
   ]
  },
  {
   "attachments": {},
   "cell_type": "markdown",
   "metadata": {},
   "source": [
    "Investigation of the following apis:\n",
    "* https://earthquake.usgs.gov/earthquakes/feed/v1.0/geojson.php"
   ]
  },
  {
   "attachments": {},
   "cell_type": "markdown",
   "metadata": {},
   "source": [
    "* Finding Recent & Historic Earthquakes\n",
    "* information provided by the U.S. Department of the Interior "
   ]
  },
  {
   "cell_type": "code",
   "execution_count": 2,
   "metadata": {},
   "outputs": [],
   "source": [
    "import requests"
   ]
  },
  {
   "cell_type": "code",
   "execution_count": 3,
   "metadata": {},
   "outputs": [],
   "source": [
    "base_path = 'https://earthquake.usgs.gov/fdsnws/event/1/'\n",
    "count_method = 'count?format=geojson'\n",
    "query_method = 'query?format=geojson'\n",
    "\n"
   ]
  },
  {
   "cell_type": "code",
   "execution_count": 5,
   "metadata": {},
   "outputs": [],
   "source": [
    "timeframe_params ={\n",
    "    'starttime': '2014-01-01',\n",
    "    'endtime': '2014-01-02'\n",
    "}"
   ]
  },
  {
   "cell_type": "code",
   "execution_count": 6,
   "metadata": {},
   "outputs": [
    {
     "data": {
      "text/plain": [
       "'&starttime=2014-01-01&endtime=2014-01-02'"
      ]
     },
     "execution_count": 6,
     "metadata": {},
     "output_type": "execute_result"
    }
   ],
   "source": [
    "r1_params_string = ''\n",
    "for k, v in timeframe_params.items():\n",
    "    r1_params_string += f'&{k}={v}'\n",
    "r1_params_string"
   ]
  },
  {
   "cell_type": "code",
   "execution_count": 7,
   "metadata": {},
   "outputs": [],
   "source": [
    "query_url = f'{base_path}{query_method}&{r1_params_string}'"
   ]
  },
  {
   "cell_type": "code",
   "execution_count": 8,
   "metadata": {},
   "outputs": [],
   "source": [
    "r = requests.get(\n",
    "    query_url\n",
    ")"
   ]
  },
  {
   "cell_type": "code",
   "execution_count": 15,
   "metadata": {},
   "outputs": [],
   "source": [
    "earthquakes = r.json()['features']"
   ]
  },
  {
   "cell_type": "code",
   "execution_count": 22,
   "metadata": {},
   "outputs": [
    {
     "name": "stdout",
     "output_type": "stream",
     "text": [
      "\n",
      "      magnitude: 1.29\n",
      "      coordinates: [-116.7776667, 33.6633333, 11.008]\n",
      "      ids: ,ci11408890,\n",
      "      \n"
     ]
    }
   ],
   "source": [
    "print(f'''\n",
    "      magnitude: {earthquakes[0]['properties']['mag']}\n",
    "      coordinates: {earthquakes[0]['geometry']['coordinates']}\n",
    "      ids: {earthquakes[0]['properties']['ids']}\n",
    "      '''\n",
    ")"
   ]
  }
 ],
 "metadata": {
  "kernelspec": {
   "display_name": ".venv",
   "language": "python",
   "name": "python3"
  },
  "language_info": {
   "codemirror_mode": {
    "name": "ipython",
    "version": 3
   },
   "file_extension": ".py",
   "mimetype": "text/x-python",
   "name": "python",
   "nbconvert_exporter": "python",
   "pygments_lexer": "ipython3",
   "version": "3.10.4"
  },
  "orig_nbformat": 4
 },
 "nbformat": 4,
 "nbformat_minor": 2
}
