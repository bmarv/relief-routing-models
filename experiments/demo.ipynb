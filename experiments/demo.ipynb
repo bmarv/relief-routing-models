{
 "cells": [
  {
   "cell_type": "code",
   "execution_count": 5,
   "metadata": {},
   "outputs": [],
   "source": [
    "from dotenv import dotenv_values\n",
    "import requests\n",
    "import folium\n",
    "import pandas as pd"
   ]
  },
  {
   "cell_type": "code",
   "execution_count": 6,
   "metadata": {},
   "outputs": [],
   "source": [
    "base_path = 'https://api.openrouteservice.org/'\n",
    "profile_car = 'driving-car'\n",
    "# environment vars\n",
    "config = dotenv_values(\"../.env\")\n",
    "ors_api_key = config['ORS_API_KEY']\n",
    "# endpoints\n",
    "directions_endpoint = 'v2/directions/'\n",
    "geocode_search_endpoint = 'geocode/search'"
   ]
  },
  {
   "cell_type": "code",
   "execution_count": 7,
   "metadata": {},
   "outputs": [],
   "source": [
    "def get_request_for_ors(\n",
    "    endpoint: str,\n",
    "    parameters: dict,\n",
    "    profile = None,\n",
    "    json_ize = True\n",
    "):\n",
    "    params_string = ''\n",
    "    for k, v in parameters.items():\n",
    "        params_string += f'&{k}={v}'\n",
    "    params_string\n",
    "    if profile is not None:\n",
    "        request_url = f'{base_path}{endpoint}{profile}?api_key={ors_api_key}{params_string}'\n",
    "    else:\n",
    "        request_url = f'{base_path}{endpoint}?api_key={ors_api_key}{params_string}'\n",
    "    r = requests.get(request_url)\n",
    "    if json_ize:\n",
    "        return r.json()\n",
    "    return r"
   ]
  },
  {
   "cell_type": "code",
   "execution_count": null,
   "metadata": {},
   "outputs": [],
   "source": [
    "r1_params = {\n",
    "    'start':  '8.681495,49.41461',\n",
    "    'end': '8.687872,49.420318'\n",
    "}\n",
    "r = get_request_for_ors(\n",
    "    endpoint= directions_endpoint,\n",
    "    parameters= r1_params,\n",
    "    profile= profile_car,\n",
    "    json_ize= True\n",
    ")\n",
    "r"
   ]
  },
  {
   "cell_type": "code",
   "execution_count": 9,
   "metadata": {},
   "outputs": [
    {
     "data": {
      "text/plain": [
       "[[49.414601, 8.681496],\n",
       " [49.414599, 8.68147],\n",
       " [49.41465, 8.681488],\n",
       " [49.415698, 8.681423],\n",
       " [49.415746, 8.681423],\n",
       " [49.415802, 8.681427],\n",
       " [49.416087, 8.681509],\n",
       " [49.41659, 8.681656],\n",
       " [49.417081, 8.681825],\n",
       " [49.417287, 8.681875],\n",
       " [49.417392, 8.681881],\n",
       " [49.417393, 8.682057],\n",
       " [49.41739, 8.682107],\n",
       " [49.417389, 8.682461],\n",
       " [49.417387, 8.682676],\n",
       " [49.41738, 8.683379],\n",
       " [49.417372, 8.683595],\n",
       " [49.417368, 8.683709],\n",
       " [49.417365, 8.685294],\n",
       " [49.417365, 8.685359],\n",
       " [49.417365, 8.685442],\n",
       " [49.41737, 8.685713],\n",
       " [49.417365, 8.686407],\n",
       " [49.417366, 8.686717],\n",
       " [49.417365, 8.686806],\n",
       " [49.41736, 8.68703],\n",
       " [49.417357, 8.687156],\n",
       " [49.417353, 8.687376],\n",
       " [49.417351, 8.687466],\n",
       " [49.417349, 8.687547],\n",
       " [49.417361, 8.688256],\n",
       " [49.417381, 8.688802],\n",
       " [49.417434, 8.688793],\n",
       " [49.418194, 8.68871],\n",
       " [49.418464, 8.688647],\n",
       " [49.418963, 8.688539],\n",
       " [49.41963, 8.688398],\n",
       " [49.419828, 8.690104],\n",
       " [49.419833, 8.690123],\n",
       " [49.420216, 8.689854],\n",
       " [49.420514, 8.689652],\n",
       " [49.42051, 8.68963],\n",
       " [49.420393, 8.688601],\n",
       " [49.420318, 8.687872]]"
      ]
     },
     "execution_count": 9,
     "metadata": {},
     "output_type": "execute_result"
    }
   ],
   "source": [
    "reversed_coordinates = [list(reversed(coord))\n",
    "                            for coord \n",
    "                            in r['features'][0]['geometry']['coordinates']\n",
    "                        ]\n",
    "reversed_coordinates"
   ]
  },
  {
   "cell_type": "code",
   "execution_count": 20,
   "metadata": {},
   "outputs": [
    {
     "data": {
      "text/html": [
       "<div style=\"width:100%;\"><div style=\"position:relative;width:100%;height:0;padding-bottom:60%;\"><span style=\"color:#565656\">Make this Notebook Trusted to load map: File -> Trust Notebook</span><iframe srcdoc=\"&lt;!DOCTYPE html&gt;\n",
       "&lt;html&gt;\n",
       "&lt;head&gt;\n",
       "    \n",
       "    &lt;meta http-equiv=&quot;content-type&quot; content=&quot;text/html; charset=UTF-8&quot; /&gt;\n",
       "    \n",
       "        &lt;script&gt;\n",
       "            L_NO_TOUCH = false;\n",
       "            L_DISABLE_3D = false;\n",
       "        &lt;/script&gt;\n",
       "    \n",
       "    &lt;style&gt;html, body {width: 100%;height: 100%;margin: 0;padding: 0;}&lt;/style&gt;\n",
       "    &lt;style&gt;#map {position:absolute;top:0;bottom:0;right:0;left:0;}&lt;/style&gt;\n",
       "    &lt;script src=&quot;https://cdn.jsdelivr.net/npm/leaflet@1.9.3/dist/leaflet.js&quot;&gt;&lt;/script&gt;\n",
       "    &lt;script src=&quot;https://code.jquery.com/jquery-1.12.4.min.js&quot;&gt;&lt;/script&gt;\n",
       "    &lt;script src=&quot;https://cdn.jsdelivr.net/npm/bootstrap@5.2.2/dist/js/bootstrap.bundle.min.js&quot;&gt;&lt;/script&gt;\n",
       "    &lt;script src=&quot;https://cdnjs.cloudflare.com/ajax/libs/Leaflet.awesome-markers/2.0.2/leaflet.awesome-markers.js&quot;&gt;&lt;/script&gt;\n",
       "    &lt;link rel=&quot;stylesheet&quot; href=&quot;https://cdn.jsdelivr.net/npm/leaflet@1.9.3/dist/leaflet.css&quot;/&gt;\n",
       "    &lt;link rel=&quot;stylesheet&quot; href=&quot;https://cdn.jsdelivr.net/npm/bootstrap@5.2.2/dist/css/bootstrap.min.css&quot;/&gt;\n",
       "    &lt;link rel=&quot;stylesheet&quot; href=&quot;https://netdna.bootstrapcdn.com/bootstrap/3.0.0/css/bootstrap.min.css&quot;/&gt;\n",
       "    &lt;link rel=&quot;stylesheet&quot; href=&quot;https://cdn.jsdelivr.net/npm/@fortawesome/fontawesome-free@6.2.0/css/all.min.css&quot;/&gt;\n",
       "    &lt;link rel=&quot;stylesheet&quot; href=&quot;https://cdnjs.cloudflare.com/ajax/libs/Leaflet.awesome-markers/2.0.2/leaflet.awesome-markers.css&quot;/&gt;\n",
       "    &lt;link rel=&quot;stylesheet&quot; href=&quot;https://cdn.jsdelivr.net/gh/python-visualization/folium/folium/templates/leaflet.awesome.rotate.min.css&quot;/&gt;\n",
       "    \n",
       "            &lt;meta name=&quot;viewport&quot; content=&quot;width=device-width,\n",
       "                initial-scale=1.0, maximum-scale=1.0, user-scalable=no&quot; /&gt;\n",
       "            &lt;style&gt;\n",
       "                #map_29822fdc494d95d7eaafd9fc766ae680 {\n",
       "                    position: relative;\n",
       "                    width: 100.0%;\n",
       "                    height: 100.0%;\n",
       "                    left: 0.0%;\n",
       "                    top: 0.0%;\n",
       "                }\n",
       "                .leaflet-container { font-size: 1rem; }\n",
       "            &lt;/style&gt;\n",
       "        \n",
       "&lt;/head&gt;\n",
       "&lt;body&gt;\n",
       "    \n",
       "    \n",
       "            &lt;div class=&quot;folium-map&quot; id=&quot;map_29822fdc494d95d7eaafd9fc766ae680&quot; &gt;&lt;/div&gt;\n",
       "        \n",
       "&lt;/body&gt;\n",
       "&lt;script&gt;\n",
       "    \n",
       "    \n",
       "            var map_29822fdc494d95d7eaafd9fc766ae680 = L.map(\n",
       "                &quot;map_29822fdc494d95d7eaafd9fc766ae680&quot;,\n",
       "                {\n",
       "                    center: [49.414599, 8.690123],\n",
       "                    crs: L.CRS.EPSG3857,\n",
       "                    zoom: 13,\n",
       "                    zoomControl: true,\n",
       "                    preferCanvas: false,\n",
       "                }\n",
       "            );\n",
       "\n",
       "            \n",
       "\n",
       "        \n",
       "    \n",
       "            var tile_layer_2bdfc0c59715231c8ce4212dd8af165e = L.tileLayer(\n",
       "                &quot;https://cartodb-basemaps-{s}.global.ssl.fastly.net/light_all/{z}/{x}/{y}.png&quot;,\n",
       "                {&quot;attribution&quot;: &quot;\\u0026copy; \\u003ca target=\\&quot;_blank\\&quot; href=\\&quot;http://www.openstreetmap.org/copyright\\&quot;\\u003eOpenStreetMap\\u003c/a\\u003e contributors \\u0026copy; \\u003ca target=\\&quot;_blank\\&quot; href=\\&quot;http://cartodb.com/attributions\\&quot;\\u003eCartoDB\\u003c/a\\u003e, CartoDB \\u003ca target=\\&quot;_blank\\&quot; href =\\&quot;http://cartodb.com/attributions\\&quot;\\u003eattributions\\u003c/a\\u003e&quot;, &quot;detectRetina&quot;: false, &quot;maxNativeZoom&quot;: 18, &quot;maxZoom&quot;: 18, &quot;minZoom&quot;: 0, &quot;noWrap&quot;: false, &quot;opacity&quot;: 1, &quot;subdomains&quot;: &quot;abc&quot;, &quot;tms&quot;: false}\n",
       "            ).addTo(map_29822fdc494d95d7eaafd9fc766ae680);\n",
       "        \n",
       "&lt;/script&gt;\n",
       "&lt;/html&gt;\" style=\"position:absolute;width:100%;height:100%;left:0;top:0;border:none !important;\" allowfullscreen webkitallowfullscreen mozallowfullscreen></iframe></div></div>"
      ],
      "text/plain": [
       "<folium.folium.Map at 0x15b6ff220>"
      ]
     },
     "execution_count": 20,
     "metadata": {},
     "output_type": "execute_result"
    }
   ],
   "source": [
    "m = folium.Map(\n",
    "    location= (\n",
    "        r['features'][0]['bbox'][1], \n",
    "        r['features'][0]['bbox'][2]\n",
    "    ), \n",
    "    tiles='cartodbpositron', \n",
    "    zoom_start=13\n",
    ")\n",
    "m"
   ]
  }
 ],
 "metadata": {
  "kernelspec": {
   "display_name": ".venv",
   "language": "python",
   "name": "python3"
  },
  "language_info": {
   "codemirror_mode": {
    "name": "ipython",
    "version": 3
   },
   "file_extension": ".py",
   "mimetype": "text/x-python",
   "name": "python",
   "nbconvert_exporter": "python",
   "pygments_lexer": "ipython3",
   "version": "3.10.4"
  },
  "orig_nbformat": 4
 },
 "nbformat": 4,
 "nbformat_minor": 2
}
