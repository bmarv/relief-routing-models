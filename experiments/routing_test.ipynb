{
 "cells": [
  {
   "cell_type": "code",
   "execution_count": 1,
   "metadata": {},
   "outputs": [],
   "source": [
    "import importlib\n"
   ]
  },
  {
   "cell_type": "code",
   "execution_count": 2,
   "metadata": {},
   "outputs": [
    {
     "data": {
      "text/plain": [
       "<module 'api.carthography' from '/Users/marv/Documents/uni/relief-routing-models/api/carthography.py'>"
      ]
     },
     "execution_count": 2,
     "metadata": {},
     "output_type": "execute_result"
    }
   ],
   "source": [
    "import api.carthography\n",
    "importlib.reload(api.carthography)"
   ]
  },
  {
   "cell_type": "code",
   "execution_count": 3,
   "metadata": {},
   "outputs": [],
   "source": [
    "coord_list = [[8.681496, 49.414601],\n",
    " [8.68147, 49.414599],\n",
    " [8.681488, 49.41465],\n",
    " [8.681423, 49.415698],\n",
    " [8.681423, 49.415746],\n",
    " [8.681427, 49.415802],\n",
    " [8.681509, 49.416087],\n",
    " [8.681656, 49.41659],\n",
    " [8.681825, 49.417081],\n",
    " [8.681875, 49.417287],\n",
    " [8.681881, 49.417392],\n",
    " [8.682057, 49.417393],\n",
    " [8.682107, 49.41739],\n",
    " [8.682461, 49.417389],\n",
    " [8.682676, 49.417387],\n",
    " [8.683379, 49.41738],\n",
    " [8.683595, 49.417372],\n",
    " [8.683709, 49.417368],\n",
    " [8.685294, 49.417365],\n",
    " [8.685359, 49.417365],\n",
    " [8.685442, 49.417365],\n",
    " [8.685713, 49.41737],\n",
    " [8.686407, 49.417365],\n",
    " [8.686717, 49.417366],\n",
    " [8.686806, 49.417365],\n",
    " [8.68703, 49.41736],\n",
    " [8.687156, 49.417357],\n",
    " [8.687376, 49.417353],\n",
    " [8.687466, 49.417351],\n",
    " [8.687547, 49.417349],\n",
    " [8.688256, 49.417361],\n",
    " [8.688802, 49.417381],\n",
    " [8.688793, 49.417434],\n",
    " [8.68871, 49.418194],\n",
    " [8.688647, 49.418464],\n",
    " [8.688539, 49.418963],\n",
    " [8.688398, 49.41963],\n",
    " [8.690104, 49.419828],\n",
    " [8.690123, 49.419833],\n",
    " [8.689854, 49.420216],\n",
    " [8.689652, 49.420514],\n",
    " [8.68963, 49.42051],\n",
    " [8.688601, 49.420393],\n",
    " [8.687872, 49.420318]]"
   ]
  },
  {
   "cell_type": "code",
   "execution_count": 4,
   "metadata": {},
   "outputs": [],
   "source": [
    "bbox = [13.3227222, 52.513078, 13.3299002, 52.5162578]"
   ]
  },
  {
   "cell_type": "code",
   "execution_count": 5,
   "metadata": {},
   "outputs": [
    {
     "data": {
      "text/html": [
       "<div style=\"width:100%;\"><div style=\"position:relative;width:100%;height:0;padding-bottom:60%;\"><span style=\"color:#565656\">Make this Notebook Trusted to load map: File -> Trust Notebook</span><iframe srcdoc=\"&lt;!DOCTYPE html&gt;\n",
       "&lt;html&gt;\n",
       "&lt;head&gt;\n",
       "    \n",
       "    &lt;meta http-equiv=&quot;content-type&quot; content=&quot;text/html; charset=UTF-8&quot; /&gt;\n",
       "    \n",
       "        &lt;script&gt;\n",
       "            L_NO_TOUCH = false;\n",
       "            L_DISABLE_3D = false;\n",
       "        &lt;/script&gt;\n",
       "    \n",
       "    &lt;style&gt;html, body {width: 100%;height: 100%;margin: 0;padding: 0;}&lt;/style&gt;\n",
       "    &lt;style&gt;#map {position:absolute;top:0;bottom:0;right:0;left:0;}&lt;/style&gt;\n",
       "    &lt;script src=&quot;https://cdn.jsdelivr.net/npm/leaflet@1.9.3/dist/leaflet.js&quot;&gt;&lt;/script&gt;\n",
       "    &lt;script src=&quot;https://code.jquery.com/jquery-1.12.4.min.js&quot;&gt;&lt;/script&gt;\n",
       "    &lt;script src=&quot;https://cdn.jsdelivr.net/npm/bootstrap@5.2.2/dist/js/bootstrap.bundle.min.js&quot;&gt;&lt;/script&gt;\n",
       "    &lt;script src=&quot;https://cdnjs.cloudflare.com/ajax/libs/Leaflet.awesome-markers/2.0.2/leaflet.awesome-markers.js&quot;&gt;&lt;/script&gt;\n",
       "    &lt;link rel=&quot;stylesheet&quot; href=&quot;https://cdn.jsdelivr.net/npm/leaflet@1.9.3/dist/leaflet.css&quot;/&gt;\n",
       "    &lt;link rel=&quot;stylesheet&quot; href=&quot;https://cdn.jsdelivr.net/npm/bootstrap@5.2.2/dist/css/bootstrap.min.css&quot;/&gt;\n",
       "    &lt;link rel=&quot;stylesheet&quot; href=&quot;https://netdna.bootstrapcdn.com/bootstrap/3.0.0/css/bootstrap.min.css&quot;/&gt;\n",
       "    &lt;link rel=&quot;stylesheet&quot; href=&quot;https://cdn.jsdelivr.net/npm/@fortawesome/fontawesome-free@6.2.0/css/all.min.css&quot;/&gt;\n",
       "    &lt;link rel=&quot;stylesheet&quot; href=&quot;https://cdnjs.cloudflare.com/ajax/libs/Leaflet.awesome-markers/2.0.2/leaflet.awesome-markers.css&quot;/&gt;\n",
       "    &lt;link rel=&quot;stylesheet&quot; href=&quot;https://cdn.jsdelivr.net/gh/python-visualization/folium/folium/templates/leaflet.awesome.rotate.min.css&quot;/&gt;\n",
       "    \n",
       "            &lt;meta name=&quot;viewport&quot; content=&quot;width=device-width,\n",
       "                initial-scale=1.0, maximum-scale=1.0, user-scalable=no&quot; /&gt;\n",
       "            &lt;style&gt;\n",
       "                #map_57de923fcda0bccd18267700145fab51 {\n",
       "                    position: relative;\n",
       "                    width: 100.0%;\n",
       "                    height: 100.0%;\n",
       "                    left: 0.0%;\n",
       "                    top: 0.0%;\n",
       "                }\n",
       "                .leaflet-container { font-size: 1rem; }\n",
       "            &lt;/style&gt;\n",
       "        \n",
       "&lt;/head&gt;\n",
       "&lt;body&gt;\n",
       "    \n",
       "    \n",
       "            &lt;div class=&quot;folium-map&quot; id=&quot;map_57de923fcda0bccd18267700145fab51&quot; &gt;&lt;/div&gt;\n",
       "        \n",
       "&lt;/body&gt;\n",
       "&lt;script&gt;\n",
       "    \n",
       "    \n",
       "            var map_57de923fcda0bccd18267700145fab51 = L.map(\n",
       "                &quot;map_57de923fcda0bccd18267700145fab51&quot;,\n",
       "                {\n",
       "                    center: [52.513078, 13.3299002],\n",
       "                    crs: L.CRS.EPSG3857,\n",
       "                    zoom: 13,\n",
       "                    zoomControl: true,\n",
       "                    preferCanvas: false,\n",
       "                }\n",
       "            );\n",
       "\n",
       "            \n",
       "\n",
       "        \n",
       "    \n",
       "            var tile_layer_dda9593d57b857f29cb11024895ad632 = L.tileLayer(\n",
       "                &quot;https://cartodb-basemaps-{s}.global.ssl.fastly.net/light_all/{z}/{x}/{y}.png&quot;,\n",
       "                {&quot;attribution&quot;: &quot;\\u0026copy; \\u003ca target=\\&quot;_blank\\&quot; href=\\&quot;http://www.openstreetmap.org/copyright\\&quot;\\u003eOpenStreetMap\\u003c/a\\u003e contributors \\u0026copy; \\u003ca target=\\&quot;_blank\\&quot; href=\\&quot;http://cartodb.com/attributions\\&quot;\\u003eCartoDB\\u003c/a\\u003e, CartoDB \\u003ca target=\\&quot;_blank\\&quot; href =\\&quot;http://cartodb.com/attributions\\&quot;\\u003eattributions\\u003c/a\\u003e&quot;, &quot;detectRetina&quot;: false, &quot;maxNativeZoom&quot;: 18, &quot;maxZoom&quot;: 18, &quot;minZoom&quot;: 0, &quot;noWrap&quot;: false, &quot;opacity&quot;: 1, &quot;subdomains&quot;: &quot;abc&quot;, &quot;tms&quot;: false}\n",
       "            ).addTo(map_57de923fcda0bccd18267700145fab51);\n",
       "        \n",
       "&lt;/script&gt;\n",
       "&lt;/html&gt;\" style=\"position:absolute;width:100%;height:100%;left:0;top:0;border:none !important;\" allowfullscreen webkitallowfullscreen mozallowfullscreen></iframe></div></div>"
      ],
      "text/plain": [
       "<folium.folium.Map at 0x1225eb1c0>"
      ]
     },
     "execution_count": 5,
     "metadata": {},
     "output_type": "execute_result"
    }
   ],
   "source": [
    "map_object = api.carthography.map_rectangular_area(\n",
    "    bbox\n",
    ")\n",
    "map_object"
   ]
  },
  {
   "cell_type": "code",
   "execution_count": 6,
   "metadata": {},
   "outputs": [
    {
     "data": {
      "text/plain": [
       "[[49.414601, 8.681496],\n",
       " [49.414599, 8.68147],\n",
       " [49.41465, 8.681488],\n",
       " [49.415698, 8.681423],\n",
       " [49.415746, 8.681423],\n",
       " [49.415802, 8.681427],\n",
       " [49.416087, 8.681509],\n",
       " [49.41659, 8.681656],\n",
       " [49.417081, 8.681825],\n",
       " [49.417287, 8.681875],\n",
       " [49.417392, 8.681881],\n",
       " [49.417393, 8.682057],\n",
       " [49.41739, 8.682107],\n",
       " [49.417389, 8.682461],\n",
       " [49.417387, 8.682676],\n",
       " [49.41738, 8.683379],\n",
       " [49.417372, 8.683595],\n",
       " [49.417368, 8.683709],\n",
       " [49.417365, 8.685294],\n",
       " [49.417365, 8.685359],\n",
       " [49.417365, 8.685442],\n",
       " [49.41737, 8.685713],\n",
       " [49.417365, 8.686407],\n",
       " [49.417366, 8.686717],\n",
       " [49.417365, 8.686806],\n",
       " [49.41736, 8.68703],\n",
       " [49.417357, 8.687156],\n",
       " [49.417353, 8.687376],\n",
       " [49.417351, 8.687466],\n",
       " [49.417349, 8.687547],\n",
       " [49.417361, 8.688256],\n",
       " [49.417381, 8.688802],\n",
       " [49.417434, 8.688793],\n",
       " [49.418194, 8.68871],\n",
       " [49.418464, 8.688647],\n",
       " [49.418963, 8.688539],\n",
       " [49.41963, 8.688398],\n",
       " [49.419828, 8.690104],\n",
       " [49.419833, 8.690123],\n",
       " [49.420216, 8.689854],\n",
       " [49.420514, 8.689652],\n",
       " [49.42051, 8.68963],\n",
       " [49.420393, 8.688601],\n",
       " [49.420318, 8.687872]]"
      ]
     },
     "execution_count": 6,
     "metadata": {},
     "output_type": "execute_result"
    }
   ],
   "source": [
    "importlib.reload(api.carthography)\n",
    "reversed_list = api.carthography.preprocess_coordinates(coord_list)\n",
    "reversed_list"
   ]
  },
  {
   "cell_type": "code",
   "execution_count": 7,
   "metadata": {},
   "outputs": [],
   "source": [
    "map_object_directions = api.carthography.map_route(\n",
    "    coord_list,\n",
    "    map_object\n",
    ")\n"
   ]
  },
  {
   "cell_type": "code",
   "execution_count": 8,
   "metadata": {},
   "outputs": [
    {
     "data": {
      "text/html": [
       "<div style=\"width:100%;\"><div style=\"position:relative;width:100%;height:0;padding-bottom:60%;\"><span style=\"color:#565656\">Make this Notebook Trusted to load map: File -> Trust Notebook</span><iframe srcdoc=\"&lt;!DOCTYPE html&gt;\n",
       "&lt;html&gt;\n",
       "&lt;head&gt;\n",
       "    \n",
       "    &lt;meta http-equiv=&quot;content-type&quot; content=&quot;text/html; charset=UTF-8&quot; /&gt;\n",
       "    \n",
       "        &lt;script&gt;\n",
       "            L_NO_TOUCH = false;\n",
       "            L_DISABLE_3D = false;\n",
       "        &lt;/script&gt;\n",
       "    \n",
       "    &lt;style&gt;html, body {width: 100%;height: 100%;margin: 0;padding: 0;}&lt;/style&gt;\n",
       "    &lt;style&gt;#map {position:absolute;top:0;bottom:0;right:0;left:0;}&lt;/style&gt;\n",
       "    &lt;script src=&quot;https://cdn.jsdelivr.net/npm/leaflet@1.9.3/dist/leaflet.js&quot;&gt;&lt;/script&gt;\n",
       "    &lt;script src=&quot;https://code.jquery.com/jquery-1.12.4.min.js&quot;&gt;&lt;/script&gt;\n",
       "    &lt;script src=&quot;https://cdn.jsdelivr.net/npm/bootstrap@5.2.2/dist/js/bootstrap.bundle.min.js&quot;&gt;&lt;/script&gt;\n",
       "    &lt;script src=&quot;https://cdnjs.cloudflare.com/ajax/libs/Leaflet.awesome-markers/2.0.2/leaflet.awesome-markers.js&quot;&gt;&lt;/script&gt;\n",
       "    &lt;link rel=&quot;stylesheet&quot; href=&quot;https://cdn.jsdelivr.net/npm/leaflet@1.9.3/dist/leaflet.css&quot;/&gt;\n",
       "    &lt;link rel=&quot;stylesheet&quot; href=&quot;https://cdn.jsdelivr.net/npm/bootstrap@5.2.2/dist/css/bootstrap.min.css&quot;/&gt;\n",
       "    &lt;link rel=&quot;stylesheet&quot; href=&quot;https://netdna.bootstrapcdn.com/bootstrap/3.0.0/css/bootstrap.min.css&quot;/&gt;\n",
       "    &lt;link rel=&quot;stylesheet&quot; href=&quot;https://cdn.jsdelivr.net/npm/@fortawesome/fontawesome-free@6.2.0/css/all.min.css&quot;/&gt;\n",
       "    &lt;link rel=&quot;stylesheet&quot; href=&quot;https://cdnjs.cloudflare.com/ajax/libs/Leaflet.awesome-markers/2.0.2/leaflet.awesome-markers.css&quot;/&gt;\n",
       "    &lt;link rel=&quot;stylesheet&quot; href=&quot;https://cdn.jsdelivr.net/gh/python-visualization/folium/folium/templates/leaflet.awesome.rotate.min.css&quot;/&gt;\n",
       "    \n",
       "            &lt;meta name=&quot;viewport&quot; content=&quot;width=device-width,\n",
       "                initial-scale=1.0, maximum-scale=1.0, user-scalable=no&quot; /&gt;\n",
       "            &lt;style&gt;\n",
       "                #map_57de923fcda0bccd18267700145fab51 {\n",
       "                    position: relative;\n",
       "                    width: 100.0%;\n",
       "                    height: 100.0%;\n",
       "                    left: 0.0%;\n",
       "                    top: 0.0%;\n",
       "                }\n",
       "                .leaflet-container { font-size: 1rem; }\n",
       "            &lt;/style&gt;\n",
       "        \n",
       "&lt;/head&gt;\n",
       "&lt;body&gt;\n",
       "    \n",
       "    \n",
       "            &lt;div class=&quot;folium-map&quot; id=&quot;map_57de923fcda0bccd18267700145fab51&quot; &gt;&lt;/div&gt;\n",
       "        \n",
       "&lt;/body&gt;\n",
       "&lt;script&gt;\n",
       "    \n",
       "    \n",
       "            var map_57de923fcda0bccd18267700145fab51 = L.map(\n",
       "                &quot;map_57de923fcda0bccd18267700145fab51&quot;,\n",
       "                {\n",
       "                    center: [52.513078, 13.3299002],\n",
       "                    crs: L.CRS.EPSG3857,\n",
       "                    zoom: 13,\n",
       "                    zoomControl: true,\n",
       "                    preferCanvas: false,\n",
       "                }\n",
       "            );\n",
       "\n",
       "            \n",
       "\n",
       "        \n",
       "    \n",
       "            var tile_layer_dda9593d57b857f29cb11024895ad632 = L.tileLayer(\n",
       "                &quot;https://cartodb-basemaps-{s}.global.ssl.fastly.net/light_all/{z}/{x}/{y}.png&quot;,\n",
       "                {&quot;attribution&quot;: &quot;\\u0026copy; \\u003ca target=\\&quot;_blank\\&quot; href=\\&quot;http://www.openstreetmap.org/copyright\\&quot;\\u003eOpenStreetMap\\u003c/a\\u003e contributors \\u0026copy; \\u003ca target=\\&quot;_blank\\&quot; href=\\&quot;http://cartodb.com/attributions\\&quot;\\u003eCartoDB\\u003c/a\\u003e, CartoDB \\u003ca target=\\&quot;_blank\\&quot; href =\\&quot;http://cartodb.com/attributions\\&quot;\\u003eattributions\\u003c/a\\u003e&quot;, &quot;detectRetina&quot;: false, &quot;maxNativeZoom&quot;: 18, &quot;maxZoom&quot;: 18, &quot;minZoom&quot;: 0, &quot;noWrap&quot;: false, &quot;opacity&quot;: 1, &quot;subdomains&quot;: &quot;abc&quot;, &quot;tms&quot;: false}\n",
       "            ).addTo(map_57de923fcda0bccd18267700145fab51);\n",
       "        \n",
       "    \n",
       "            var poly_line_fd531056b3800af8529130a78729e08e = L.polyline(\n",
       "                [[49.414601, 8.681496], [49.414599, 8.68147], [49.41465, 8.681488], [49.415698, 8.681423], [49.415746, 8.681423], [49.415802, 8.681427], [49.416087, 8.681509], [49.41659, 8.681656], [49.417081, 8.681825], [49.417287, 8.681875], [49.417392, 8.681881], [49.417393, 8.682057], [49.41739, 8.682107], [49.417389, 8.682461], [49.417387, 8.682676], [49.41738, 8.683379], [49.417372, 8.683595], [49.417368, 8.683709], [49.417365, 8.685294], [49.417365, 8.685359], [49.417365, 8.685442], [49.41737, 8.685713], [49.417365, 8.686407], [49.417366, 8.686717], [49.417365, 8.686806], [49.41736, 8.68703], [49.417357, 8.687156], [49.417353, 8.687376], [49.417351, 8.687466], [49.417349, 8.687547], [49.417361, 8.688256], [49.417381, 8.688802], [49.417434, 8.688793], [49.418194, 8.68871], [49.418464, 8.688647], [49.418963, 8.688539], [49.41963, 8.688398], [49.419828, 8.690104], [49.419833, 8.690123], [49.420216, 8.689854], [49.420514, 8.689652], [49.42051, 8.68963], [49.420393, 8.688601], [49.420318, 8.687872]],\n",
       "                {&quot;bubblingMouseEvents&quot;: true, &quot;color&quot;: &quot;#3388ff&quot;, &quot;dashArray&quot;: null, &quot;dashOffset&quot;: null, &quot;fill&quot;: false, &quot;fillColor&quot;: &quot;#3388ff&quot;, &quot;fillOpacity&quot;: 0.2, &quot;fillRule&quot;: &quot;evenodd&quot;, &quot;lineCap&quot;: &quot;round&quot;, &quot;lineJoin&quot;: &quot;round&quot;, &quot;noClip&quot;: false, &quot;opacity&quot;: 1.0, &quot;smoothFactor&quot;: 1.0, &quot;stroke&quot;: true, &quot;weight&quot;: 3}\n",
       "            ).addTo(map_57de923fcda0bccd18267700145fab51);\n",
       "        \n",
       "&lt;/script&gt;\n",
       "&lt;/html&gt;\" style=\"position:absolute;width:100%;height:100%;left:0;top:0;border:none !important;\" allowfullscreen webkitallowfullscreen mozallowfullscreen></iframe></div></div>"
      ],
      "text/plain": [
       "<folium.folium.Map at 0x1225eb1c0>"
      ]
     },
     "execution_count": 8,
     "metadata": {},
     "output_type": "execute_result"
    }
   ],
   "source": [
    "map_object_directions[1].add_to(map_object)\n",
    "map_object"
   ]
  },
  {
   "cell_type": "code",
   "execution_count": 9,
   "metadata": {},
   "outputs": [
    {
     "data": {
      "text/html": [
       "<div style=\"width:100%;\"><div style=\"position:relative;width:100%;height:0;padding-bottom:60%;\"><span style=\"color:#565656\">Make this Notebook Trusted to load map: File -> Trust Notebook</span><iframe srcdoc=\"&lt;!DOCTYPE html&gt;\n",
       "&lt;html&gt;\n",
       "&lt;head&gt;\n",
       "    \n",
       "    &lt;meta http-equiv=&quot;content-type&quot; content=&quot;text/html; charset=UTF-8&quot; /&gt;\n",
       "    \n",
       "        &lt;script&gt;\n",
       "            L_NO_TOUCH = false;\n",
       "            L_DISABLE_3D = false;\n",
       "        &lt;/script&gt;\n",
       "    \n",
       "    &lt;style&gt;html, body {width: 100%;height: 100%;margin: 0;padding: 0;}&lt;/style&gt;\n",
       "    &lt;style&gt;#map {position:absolute;top:0;bottom:0;right:0;left:0;}&lt;/style&gt;\n",
       "    &lt;script src=&quot;https://cdn.jsdelivr.net/npm/leaflet@1.9.3/dist/leaflet.js&quot;&gt;&lt;/script&gt;\n",
       "    &lt;script src=&quot;https://code.jquery.com/jquery-1.12.4.min.js&quot;&gt;&lt;/script&gt;\n",
       "    &lt;script src=&quot;https://cdn.jsdelivr.net/npm/bootstrap@5.2.2/dist/js/bootstrap.bundle.min.js&quot;&gt;&lt;/script&gt;\n",
       "    &lt;script src=&quot;https://cdnjs.cloudflare.com/ajax/libs/Leaflet.awesome-markers/2.0.2/leaflet.awesome-markers.js&quot;&gt;&lt;/script&gt;\n",
       "    &lt;link rel=&quot;stylesheet&quot; href=&quot;https://cdn.jsdelivr.net/npm/leaflet@1.9.3/dist/leaflet.css&quot;/&gt;\n",
       "    &lt;link rel=&quot;stylesheet&quot; href=&quot;https://cdn.jsdelivr.net/npm/bootstrap@5.2.2/dist/css/bootstrap.min.css&quot;/&gt;\n",
       "    &lt;link rel=&quot;stylesheet&quot; href=&quot;https://netdna.bootstrapcdn.com/bootstrap/3.0.0/css/bootstrap.min.css&quot;/&gt;\n",
       "    &lt;link rel=&quot;stylesheet&quot; href=&quot;https://cdn.jsdelivr.net/npm/@fortawesome/fontawesome-free@6.2.0/css/all.min.css&quot;/&gt;\n",
       "    &lt;link rel=&quot;stylesheet&quot; href=&quot;https://cdnjs.cloudflare.com/ajax/libs/Leaflet.awesome-markers/2.0.2/leaflet.awesome-markers.css&quot;/&gt;\n",
       "    &lt;link rel=&quot;stylesheet&quot; href=&quot;https://cdn.jsdelivr.net/gh/python-visualization/folium/folium/templates/leaflet.awesome.rotate.min.css&quot;/&gt;\n",
       "    \n",
       "            &lt;meta name=&quot;viewport&quot; content=&quot;width=device-width,\n",
       "                initial-scale=1.0, maximum-scale=1.0, user-scalable=no&quot; /&gt;\n",
       "            &lt;style&gt;\n",
       "                #map_57de923fcda0bccd18267700145fab51 {\n",
       "                    position: relative;\n",
       "                    width: 100.0%;\n",
       "                    height: 100.0%;\n",
       "                    left: 0.0%;\n",
       "                    top: 0.0%;\n",
       "                }\n",
       "                .leaflet-container { font-size: 1rem; }\n",
       "            &lt;/style&gt;\n",
       "        \n",
       "&lt;/head&gt;\n",
       "&lt;body&gt;\n",
       "    \n",
       "    \n",
       "            &lt;div class=&quot;folium-map&quot; id=&quot;map_57de923fcda0bccd18267700145fab51&quot; &gt;&lt;/div&gt;\n",
       "        \n",
       "&lt;/body&gt;\n",
       "&lt;script&gt;\n",
       "    \n",
       "    \n",
       "            var map_57de923fcda0bccd18267700145fab51 = L.map(\n",
       "                &quot;map_57de923fcda0bccd18267700145fab51&quot;,\n",
       "                {\n",
       "                    center: [52.513078, 13.3299002],\n",
       "                    crs: L.CRS.EPSG3857,\n",
       "                    zoom: 13,\n",
       "                    zoomControl: true,\n",
       "                    preferCanvas: false,\n",
       "                }\n",
       "            );\n",
       "\n",
       "            \n",
       "\n",
       "        \n",
       "    \n",
       "            var tile_layer_dda9593d57b857f29cb11024895ad632 = L.tileLayer(\n",
       "                &quot;https://cartodb-basemaps-{s}.global.ssl.fastly.net/light_all/{z}/{x}/{y}.png&quot;,\n",
       "                {&quot;attribution&quot;: &quot;\\u0026copy; \\u003ca target=\\&quot;_blank\\&quot; href=\\&quot;http://www.openstreetmap.org/copyright\\&quot;\\u003eOpenStreetMap\\u003c/a\\u003e contributors \\u0026copy; \\u003ca target=\\&quot;_blank\\&quot; href=\\&quot;http://cartodb.com/attributions\\&quot;\\u003eCartoDB\\u003c/a\\u003e, CartoDB \\u003ca target=\\&quot;_blank\\&quot; href =\\&quot;http://cartodb.com/attributions\\&quot;\\u003eattributions\\u003c/a\\u003e&quot;, &quot;detectRetina&quot;: false, &quot;maxNativeZoom&quot;: 18, &quot;maxZoom&quot;: 18, &quot;minZoom&quot;: 0, &quot;noWrap&quot;: false, &quot;opacity&quot;: 1, &quot;subdomains&quot;: &quot;abc&quot;, &quot;tms&quot;: false}\n",
       "            ).addTo(map_57de923fcda0bccd18267700145fab51);\n",
       "        \n",
       "    \n",
       "            var poly_line_fd531056b3800af8529130a78729e08e = L.polyline(\n",
       "                [[49.414601, 8.681496], [49.414599, 8.68147], [49.41465, 8.681488], [49.415698, 8.681423], [49.415746, 8.681423], [49.415802, 8.681427], [49.416087, 8.681509], [49.41659, 8.681656], [49.417081, 8.681825], [49.417287, 8.681875], [49.417392, 8.681881], [49.417393, 8.682057], [49.41739, 8.682107], [49.417389, 8.682461], [49.417387, 8.682676], [49.41738, 8.683379], [49.417372, 8.683595], [49.417368, 8.683709], [49.417365, 8.685294], [49.417365, 8.685359], [49.417365, 8.685442], [49.41737, 8.685713], [49.417365, 8.686407], [49.417366, 8.686717], [49.417365, 8.686806], [49.41736, 8.68703], [49.417357, 8.687156], [49.417353, 8.687376], [49.417351, 8.687466], [49.417349, 8.687547], [49.417361, 8.688256], [49.417381, 8.688802], [49.417434, 8.688793], [49.418194, 8.68871], [49.418464, 8.688647], [49.418963, 8.688539], [49.41963, 8.688398], [49.419828, 8.690104], [49.419833, 8.690123], [49.420216, 8.689854], [49.420514, 8.689652], [49.42051, 8.68963], [49.420393, 8.688601], [49.420318, 8.687872]],\n",
       "                {&quot;bubblingMouseEvents&quot;: true, &quot;color&quot;: &quot;#3388ff&quot;, &quot;dashArray&quot;: null, &quot;dashOffset&quot;: null, &quot;fill&quot;: false, &quot;fillColor&quot;: &quot;#3388ff&quot;, &quot;fillOpacity&quot;: 0.2, &quot;fillRule&quot;: &quot;evenodd&quot;, &quot;lineCap&quot;: &quot;round&quot;, &quot;lineJoin&quot;: &quot;round&quot;, &quot;noClip&quot;: false, &quot;opacity&quot;: 1.0, &quot;smoothFactor&quot;: 1.0, &quot;stroke&quot;: true, &quot;weight&quot;: 3}\n",
       "            ).addTo(map_57de923fcda0bccd18267700145fab51);\n",
       "        \n",
       "    \n",
       "            var poly_line_6dad312ad487a0f46aa0fad52a984a37 = L.polyline(\n",
       "                [[49.414601, 8.681496], [49.414599, 8.68147], [49.41465, 8.681488], [49.415698, 8.681423], [49.415746, 8.681423], [49.415802, 8.681427], [49.416087, 8.681509], [49.41659, 8.681656], [49.417081, 8.681825], [49.417287, 8.681875], [49.417392, 8.681881], [49.417393, 8.682057], [49.41739, 8.682107], [49.417389, 8.682461], [49.417387, 8.682676], [49.41738, 8.683379], [49.417372, 8.683595], [49.417368, 8.683709], [49.417365, 8.685294], [49.417365, 8.685359], [49.417365, 8.685442], [49.41737, 8.685713], [49.417365, 8.686407], [49.417366, 8.686717], [49.417365, 8.686806], [49.41736, 8.68703], [49.417357, 8.687156], [49.417353, 8.687376], [49.417351, 8.687466], [49.417349, 8.687547], [49.417361, 8.688256], [49.417381, 8.688802], [49.417434, 8.688793], [49.418194, 8.68871], [49.418464, 8.688647], [49.418963, 8.688539], [49.41963, 8.688398], [49.419828, 8.690104], [49.419833, 8.690123], [49.420216, 8.689854], [49.420514, 8.689652], [49.42051, 8.68963], [49.420393, 8.688601], [49.420318, 8.687872]],\n",
       "                {&quot;bubblingMouseEvents&quot;: true, &quot;color&quot;: &quot;#3388ff&quot;, &quot;dashArray&quot;: null, &quot;dashOffset&quot;: null, &quot;fill&quot;: false, &quot;fillColor&quot;: &quot;#3388ff&quot;, &quot;fillOpacity&quot;: 0.2, &quot;fillRule&quot;: &quot;evenodd&quot;, &quot;lineCap&quot;: &quot;round&quot;, &quot;lineJoin&quot;: &quot;round&quot;, &quot;noClip&quot;: false, &quot;opacity&quot;: 1.0, &quot;smoothFactor&quot;: 1.0, &quot;stroke&quot;: true, &quot;weight&quot;: 3}\n",
       "            ).addTo(map_57de923fcda0bccd18267700145fab51);\n",
       "        \n",
       "&lt;/script&gt;\n",
       "&lt;/html&gt;\" style=\"position:absolute;width:100%;height:100%;left:0;top:0;border:none !important;\" allowfullscreen webkitallowfullscreen mozallowfullscreen></iframe></div></div>"
      ],
      "text/plain": [
       "<folium.folium.Map at 0x1225eb1c0>"
      ]
     },
     "execution_count": 9,
     "metadata": {},
     "output_type": "execute_result"
    }
   ],
   "source": [
    "reversed_list = api.carthography.preprocess_coordinates(coord_list)\n",
    "import folium\n",
    "folium.PolyLine(\n",
    "    locations=reversed_list\n",
    ").add_to(map_object)\n",
    "map_object"
   ]
  },
  {
   "cell_type": "code",
   "execution_count": 10,
   "metadata": {},
   "outputs": [
    {
     "data": {
      "text/plain": [
       "<module 'api.routing' from '/Users/marv/Documents/uni/relief-routing-models/api/routing.py'>"
      ]
     },
     "execution_count": 10,
     "metadata": {},
     "output_type": "execute_result"
    }
   ],
   "source": [
    "import api.routing\n",
    "importlib.reload(api.routing)"
   ]
  },
  {
   "cell_type": "code",
   "execution_count": 11,
   "metadata": {},
   "outputs": [
    {
     "ename": "JSONDecodeError",
     "evalue": "Expecting value: line 1 column 1 (char 0)",
     "output_type": "error",
     "traceback": [
      "\u001b[0;31m---------------------------------------------------------------------------\u001b[0m",
      "\u001b[0;31mJSONDecodeError\u001b[0m                           Traceback (most recent call last)",
      "File \u001b[0;32m~/Documents/uni/relief-routing-models/.venv/lib/python3.10/site-packages/requests/models.py:971\u001b[0m, in \u001b[0;36mResponse.json\u001b[0;34m(self, **kwargs)\u001b[0m\n\u001b[1;32m    970\u001b[0m \u001b[39mtry\u001b[39;00m:\n\u001b[0;32m--> 971\u001b[0m     \u001b[39mreturn\u001b[39;00m complexjson\u001b[39m.\u001b[39;49mloads(\u001b[39mself\u001b[39;49m\u001b[39m.\u001b[39;49mtext, \u001b[39m*\u001b[39;49m\u001b[39m*\u001b[39;49mkwargs)\n\u001b[1;32m    972\u001b[0m \u001b[39mexcept\u001b[39;00m JSONDecodeError \u001b[39mas\u001b[39;00m e:\n\u001b[1;32m    973\u001b[0m     \u001b[39m# Catch JSON-related errors and raise as requests.JSONDecodeError\u001b[39;00m\n\u001b[1;32m    974\u001b[0m     \u001b[39m# This aliases json.JSONDecodeError and simplejson.JSONDecodeError\u001b[39;00m\n",
      "File \u001b[0;32m~/.pyenv/versions/3.10.4/lib/python3.10/json/__init__.py:346\u001b[0m, in \u001b[0;36mloads\u001b[0;34m(s, cls, object_hook, parse_float, parse_int, parse_constant, object_pairs_hook, **kw)\u001b[0m\n\u001b[1;32m    343\u001b[0m \u001b[39mif\u001b[39;00m (\u001b[39mcls\u001b[39m \u001b[39mis\u001b[39;00m \u001b[39mNone\u001b[39;00m \u001b[39mand\u001b[39;00m object_hook \u001b[39mis\u001b[39;00m \u001b[39mNone\u001b[39;00m \u001b[39mand\u001b[39;00m\n\u001b[1;32m    344\u001b[0m         parse_int \u001b[39mis\u001b[39;00m \u001b[39mNone\u001b[39;00m \u001b[39mand\u001b[39;00m parse_float \u001b[39mis\u001b[39;00m \u001b[39mNone\u001b[39;00m \u001b[39mand\u001b[39;00m\n\u001b[1;32m    345\u001b[0m         parse_constant \u001b[39mis\u001b[39;00m \u001b[39mNone\u001b[39;00m \u001b[39mand\u001b[39;00m object_pairs_hook \u001b[39mis\u001b[39;00m \u001b[39mNone\u001b[39;00m \u001b[39mand\u001b[39;00m \u001b[39mnot\u001b[39;00m kw):\n\u001b[0;32m--> 346\u001b[0m     \u001b[39mreturn\u001b[39;00m _default_decoder\u001b[39m.\u001b[39;49mdecode(s)\n\u001b[1;32m    347\u001b[0m \u001b[39mif\u001b[39;00m \u001b[39mcls\u001b[39m \u001b[39mis\u001b[39;00m \u001b[39mNone\u001b[39;00m:\n",
      "File \u001b[0;32m~/.pyenv/versions/3.10.4/lib/python3.10/json/decoder.py:337\u001b[0m, in \u001b[0;36mJSONDecoder.decode\u001b[0;34m(self, s, _w)\u001b[0m\n\u001b[1;32m    333\u001b[0m \u001b[39m\u001b[39m\u001b[39m\"\"\"Return the Python representation of ``s`` (a ``str`` instance\u001b[39;00m\n\u001b[1;32m    334\u001b[0m \u001b[39mcontaining a JSON document).\u001b[39;00m\n\u001b[1;32m    335\u001b[0m \n\u001b[1;32m    336\u001b[0m \u001b[39m\"\"\"\u001b[39;00m\n\u001b[0;32m--> 337\u001b[0m obj, end \u001b[39m=\u001b[39m \u001b[39mself\u001b[39;49m\u001b[39m.\u001b[39;49mraw_decode(s, idx\u001b[39m=\u001b[39;49m_w(s, \u001b[39m0\u001b[39;49m)\u001b[39m.\u001b[39;49mend())\n\u001b[1;32m    338\u001b[0m end \u001b[39m=\u001b[39m _w(s, end)\u001b[39m.\u001b[39mend()\n",
      "File \u001b[0;32m~/.pyenv/versions/3.10.4/lib/python3.10/json/decoder.py:355\u001b[0m, in \u001b[0;36mJSONDecoder.raw_decode\u001b[0;34m(self, s, idx)\u001b[0m\n\u001b[1;32m    354\u001b[0m \u001b[39mexcept\u001b[39;00m \u001b[39mStopIteration\u001b[39;00m \u001b[39mas\u001b[39;00m err:\n\u001b[0;32m--> 355\u001b[0m     \u001b[39mraise\u001b[39;00m JSONDecodeError(\u001b[39m\"\u001b[39m\u001b[39mExpecting value\u001b[39m\u001b[39m\"\u001b[39m, s, err\u001b[39m.\u001b[39mvalue) \u001b[39mfrom\u001b[39;00m \u001b[39mNone\u001b[39;00m\n\u001b[1;32m    356\u001b[0m \u001b[39mreturn\u001b[39;00m obj, end\n",
      "\u001b[0;31mJSONDecodeError\u001b[0m: Expecting value: line 1 column 1 (char 0)",
      "\nDuring handling of the above exception, another exception occurred:\n",
      "\u001b[0;31mJSONDecodeError\u001b[0m                           Traceback (most recent call last)",
      "Cell \u001b[0;32mIn[11], line 1\u001b[0m\n\u001b[0;32m----> 1\u001b[0m api\u001b[39m.\u001b[39;49mrouting\u001b[39m.\u001b[39;49mget_directions_request(\n\u001b[1;32m      2\u001b[0m     [\u001b[39m8.681495\u001b[39;49m,\u001b[39m49.41461\u001b[39;49m],\n\u001b[1;32m      3\u001b[0m     [\u001b[39m8.687872\u001b[39;49m,\u001b[39m49.420318\u001b[39;49m]\n\u001b[1;32m      4\u001b[0m )\n",
      "File \u001b[0;32m~/Documents/uni/relief-routing-models/api/routing.py:73\u001b[0m, in \u001b[0;36mget_directions_request\u001b[0;34m(start_coords, end_coords)\u001b[0m\n\u001b[1;32m     68\u001b[0m end_coords_str \u001b[39m=\u001b[39m \u001b[39mstr\u001b[39m(end_coords[\u001b[39m0\u001b[39m]) \u001b[39m+\u001b[39m \u001b[39m'\u001b[39m\u001b[39m,\u001b[39m\u001b[39m'\u001b[39m \u001b[39m+\u001b[39m \u001b[39mstr\u001b[39m(end_coords[\u001b[39m1\u001b[39m])\n\u001b[1;32m     69\u001b[0m params_dict \u001b[39m=\u001b[39m {\n\u001b[1;32m     70\u001b[0m     \u001b[39m'\u001b[39m\u001b[39mstart\u001b[39m\u001b[39m'\u001b[39m: start_coords_str,\n\u001b[1;32m     71\u001b[0m     \u001b[39m'\u001b[39m\u001b[39mend\u001b[39m\u001b[39m'\u001b[39m: end_coords_str\n\u001b[1;32m     72\u001b[0m }\n\u001b[0;32m---> 73\u001b[0m r \u001b[39m=\u001b[39m get_from_request(\n\u001b[1;32m     74\u001b[0m     params_dict\u001b[39m=\u001b[39;49m params_dict,\n\u001b[1;32m     75\u001b[0m     endpoint_mode\u001b[39m=\u001b[39;49m \u001b[39m'\u001b[39;49m\u001b[39mdirections\u001b[39;49m\u001b[39m'\u001b[39;49m,\n\u001b[1;32m     76\u001b[0m     json_ize\u001b[39m=\u001b[39;49m \u001b[39mTrue\u001b[39;49;00m\n\u001b[1;32m     77\u001b[0m )\n\u001b[1;32m     78\u001b[0m \u001b[39mreturn\u001b[39;00m r\n",
      "File \u001b[0;32m~/Documents/uni/relief-routing-models/api/routing.py:54\u001b[0m, in \u001b[0;36mget_from_request\u001b[0;34m(params_dict, endpoint_mode, json_ize)\u001b[0m\n\u001b[1;32m     52\u001b[0m r \u001b[39m=\u001b[39m requests\u001b[39m.\u001b[39mget(request_url)\n\u001b[1;32m     53\u001b[0m \u001b[39mif\u001b[39;00m json_ize:\n\u001b[0;32m---> 54\u001b[0m     \u001b[39mreturn\u001b[39;00m r\u001b[39m.\u001b[39;49mjson()\n\u001b[1;32m     55\u001b[0m \u001b[39mreturn\u001b[39;00m r\n",
      "File \u001b[0;32m~/Documents/uni/relief-routing-models/.venv/lib/python3.10/site-packages/requests/models.py:975\u001b[0m, in \u001b[0;36mResponse.json\u001b[0;34m(self, **kwargs)\u001b[0m\n\u001b[1;32m    971\u001b[0m     \u001b[39mreturn\u001b[39;00m complexjson\u001b[39m.\u001b[39mloads(\u001b[39mself\u001b[39m\u001b[39m.\u001b[39mtext, \u001b[39m*\u001b[39m\u001b[39m*\u001b[39mkwargs)\n\u001b[1;32m    972\u001b[0m \u001b[39mexcept\u001b[39;00m JSONDecodeError \u001b[39mas\u001b[39;00m e:\n\u001b[1;32m    973\u001b[0m     \u001b[39m# Catch JSON-related errors and raise as requests.JSONDecodeError\u001b[39;00m\n\u001b[1;32m    974\u001b[0m     \u001b[39m# This aliases json.JSONDecodeError and simplejson.JSONDecodeError\u001b[39;00m\n\u001b[0;32m--> 975\u001b[0m     \u001b[39mraise\u001b[39;00m RequestsJSONDecodeError(e\u001b[39m.\u001b[39mmsg, e\u001b[39m.\u001b[39mdoc, e\u001b[39m.\u001b[39mpos)\n",
      "\u001b[0;31mJSONDecodeError\u001b[0m: Expecting value: line 1 column 1 (char 0)"
     ]
    }
   ],
   "source": [
    "api.routing.get_directions_request(\n",
    "    [8.681495,49.41461],\n",
    "    [8.687872,49.420318]\n",
    ")"
   ]
  },
  {
   "cell_type": "code",
   "execution_count": null,
   "metadata": {},
   "outputs": [
    {
     "data": {
      "text/plain": [
       "{'geocoding': {'version': '0.2',\n",
       "  'attribution': 'https://openrouteservice.org/terms-of-service/#attribution-geocode',\n",
       "  'query': {'text': 'Technische Universität Berlin',\n",
       "   'size': 10,\n",
       "   'layers': ['venue',\n",
       "    'street',\n",
       "    'country',\n",
       "    'macroregion',\n",
       "    'region',\n",
       "    'county',\n",
       "    'localadmin',\n",
       "    'locality',\n",
       "    'borough',\n",
       "    'neighbourhood',\n",
       "    'continent',\n",
       "    'empire',\n",
       "    'dependency',\n",
       "    'macrocounty',\n",
       "    'macrohood',\n",
       "    'microhood',\n",
       "    'disputed',\n",
       "    'postalcode',\n",
       "    'ocean',\n",
       "    'marinearea'],\n",
       "   'private': False,\n",
       "   'lang': {'name': 'English',\n",
       "    'iso6391': 'en',\n",
       "    'iso6393': 'eng',\n",
       "    'via': 'default',\n",
       "    'defaulted': True},\n",
       "   'querySize': 20,\n",
       "   'parser': 'pelias',\n",
       "   'parsed_text': {'subject': 'Technische Universität',\n",
       "    'venue': 'Technische Universität',\n",
       "    'locality': 'Berlin',\n",
       "    'admin': 'Berlin'}},\n",
       "  'warnings': [\"performance optimization: excluding 'address' layer\"],\n",
       "  'engine': {'name': 'Pelias', 'author': 'Mapzen', 'version': '1.0'},\n",
       "  'timestamp': 1687187116867},\n",
       " 'type': 'FeatureCollection',\n",
       " 'features': [{'type': 'Feature',\n",
       "   'geometry': {'type': 'Point', 'coordinates': [16.366818, 48.199207]},\n",
       "   'properties': {'id': 'node/442150343',\n",
       "    'gid': 'openstreetmap:venue:node/442150343',\n",
       "    'layer': 'venue',\n",
       "    'source': 'openstreetmap',\n",
       "    'source_id': 'node/442150343',\n",
       "    'name': 'Technische Universität',\n",
       "    'housenumber': '13',\n",
       "    'street': 'Operngasse',\n",
       "    'postalcode': '1040',\n",
       "    'confidence': 1,\n",
       "    'match_type': 'exact',\n",
       "    'accuracy': 'point',\n",
       "    'country': 'Austria',\n",
       "    'country_gid': 'whosonfirst:country:85632785',\n",
       "    'country_a': 'AUT',\n",
       "    'region': 'Vienna',\n",
       "    'region_gid': 'whosonfirst:region:85681667',\n",
       "    'region_a': 'WI',\n",
       "    'localadmin': 'Wien',\n",
       "    'localadmin_gid': 'whosonfirst:localadmin:1108838101',\n",
       "    'locality': 'Vienna',\n",
       "    'locality_gid': 'whosonfirst:locality:101748073',\n",
       "    'neighbourhood': 'Wieden',\n",
       "    'neighbourhood_gid': 'whosonfirst:neighbourhood:85898761',\n",
       "    'continent': 'Europe',\n",
       "    'continent_gid': 'whosonfirst:continent:102191581',\n",
       "    'label': 'Technische Universität, Vienna, Austria',\n",
       "    'addendum': {'osm': {'wheelchair': 'yes',\n",
       "      'operator': 'WIPARK',\n",
       "      'phone': '+43-676-84107786'}}}},\n",
       "  {'type': 'Feature',\n",
       "   'geometry': {'type': 'Point', 'coordinates': [13.325618, 52.514403]},\n",
       "   'properties': {'id': 'relation/1273140',\n",
       "    'gid': 'openstreetmap:venue:relation/1273140',\n",
       "    'layer': 'venue',\n",
       "    'source': 'openstreetmap',\n",
       "    'source_id': 'relation/1273140',\n",
       "    'name': 'Technische Universität Berlin',\n",
       "    'confidence': 1,\n",
       "    'match_type': 'exact',\n",
       "    'accuracy': 'point',\n",
       "    'country': 'Germany',\n",
       "    'country_gid': 'whosonfirst:country:85633111',\n",
       "    'country_a': 'DEU',\n",
       "    'region': 'Berlin',\n",
       "    'region_gid': 'whosonfirst:region:85682499',\n",
       "    'region_a': 'BE',\n",
       "    'localadmin': 'Berlin',\n",
       "    'localadmin_gid': 'whosonfirst:localadmin:1377694153',\n",
       "    'locality': 'Berlin',\n",
       "    'locality_gid': 'whosonfirst:locality:101909779',\n",
       "    'borough': 'Charlottenburg-Wilmersdorf',\n",
       "    'borough_gid': 'whosonfirst:borough:1108815535',\n",
       "    'neighbourhood': 'Charlottenburg',\n",
       "    'neighbourhood_gid': 'whosonfirst:neighbourhood:420784287',\n",
       "    'continent': 'Europe',\n",
       "    'continent_gid': 'whosonfirst:continent:102191581',\n",
       "    'label': 'Technische Universität Berlin, Berlin, Germany',\n",
       "    'addendum': {'osm': {'wikidata': 'Q51985'}}},\n",
       "   'bbox': [13.3227222, 52.513078, 13.3299002, 52.5162578]},\n",
       "  {'type': 'Feature',\n",
       "   'geometry': {'type': 'Point', 'coordinates': [11.566484, 48.149926]},\n",
       "   'properties': {'id': 'node/1680609182',\n",
       "    'gid': 'openstreetmap:venue:node/1680609182',\n",
       "    'layer': 'venue',\n",
       "    'source': 'openstreetmap',\n",
       "    'source_id': 'node/1680609182',\n",
       "    'name': 'Technische Universität',\n",
       "    'confidence': 1,\n",
       "    'match_type': 'exact',\n",
       "    'accuracy': 'point',\n",
       "    'country': 'Germany',\n",
       "    'country_gid': 'whosonfirst:country:85633111',\n",
       "    'country_a': 'DEU',\n",
       "    'region': 'Bavaria',\n",
       "    'region_gid': 'whosonfirst:region:85682571',\n",
       "    'region_a': 'BY',\n",
       "    'macrocounty': 'Upper Bavaria',\n",
       "    'macrocounty_gid': 'whosonfirst:macrocounty:404227567',\n",
       "    'county': 'Munich',\n",
       "    'county_gid': 'whosonfirst:county:102063261',\n",
       "    'county_a': 'MN',\n",
       "    'localadmin': 'München',\n",
       "    'localadmin_gid': 'whosonfirst:localadmin:1377690691',\n",
       "    'locality': 'Munich',\n",
       "    'locality_gid': 'whosonfirst:locality:101748479',\n",
       "    'neighbourhood': 'Schwabing',\n",
       "    'neighbourhood_gid': 'whosonfirst:neighbourhood:85900043',\n",
       "    'continent': 'Europe',\n",
       "    'continent_gid': 'whosonfirst:continent:102191581',\n",
       "    'label': 'Technische Universität, Munich, BY, Germany'}},\n",
       "  {'type': 'Feature',\n",
       "   'geometry': {'type': 'Point', 'coordinates': [7.755665, 49.42547]},\n",
       "   'properties': {'id': 'way/44491292',\n",
       "    'gid': 'openstreetmap:venue:way/44491292',\n",
       "    'layer': 'venue',\n",
       "    'source': 'openstreetmap',\n",
       "    'source_id': 'way/44491292',\n",
       "    'name': 'Technische Universität Kaiserslautern Rheinland-Pfälzische Technische Universität, Campus Kaiserslautern',\n",
       "    'confidence': 1,\n",
       "    'match_type': 'exact',\n",
       "    'accuracy': 'point',\n",
       "    'country': 'Germany',\n",
       "    'country_gid': 'whosonfirst:country:85633111',\n",
       "    'country_a': 'DEU',\n",
       "    'region': 'Rhineland-Palatinate',\n",
       "    'region_gid': 'whosonfirst:region:85682491',\n",
       "    'region_a': 'RP',\n",
       "    'county': 'Kaiserslautern',\n",
       "    'county_gid': 'whosonfirst:county:102063455',\n",
       "    'county_a': 'KS',\n",
       "    'localadmin': 'Kaiserslautern',\n",
       "    'localadmin_gid': 'whosonfirst:localadmin:1377686091',\n",
       "    'locality': 'Kaiserslautern',\n",
       "    'locality_gid': 'whosonfirst:locality:101748541',\n",
       "    'continent': 'Europe',\n",
       "    'continent_gid': 'whosonfirst:continent:102191581',\n",
       "    'label': 'Technische Universität Kaiserslautern Rheinland-Pfälzische Technische Universität, Campus Kaiserslautern, Kaiserslautern, RP, Germany',\n",
       "    'addendum': {'osm': {'wheelchair': 'limited',\n",
       "      'wikidata': 'Q678965',\n",
       "      'wikipedia': 'de:Technische Universität Kaiserslautern',\n",
       "      'website': 'https://rptu.de'}}},\n",
       "   'bbox': [7.7495138, 49.4214956, 7.7611915, 49.4279092]},\n",
       "  {'type': 'Feature',\n",
       "   'geometry': {'type': 'Point', 'coordinates': [12.93103, 50.815788]},\n",
       "   'properties': {'id': 'way/24518628',\n",
       "    'gid': 'openstreetmap:venue:way/24518628',\n",
       "    'layer': 'venue',\n",
       "    'source': 'openstreetmap',\n",
       "    'source_id': 'way/24518628',\n",
       "    'name': 'Technische Universität Chemnitz',\n",
       "    'confidence': 1,\n",
       "    'match_type': 'exact',\n",
       "    'accuracy': 'point',\n",
       "    'country': 'Germany',\n",
       "    'country_gid': 'whosonfirst:country:85633111',\n",
       "    'country_a': 'DEU',\n",
       "    'region': 'Saxony',\n",
       "    'region_gid': 'whosonfirst:region:85682523',\n",
       "    'region_a': 'SN',\n",
       "    'county': 'Chemnitz',\n",
       "    'county_gid': 'whosonfirst:county:102064213',\n",
       "    'county_a': 'CE',\n",
       "    'localadmin': 'Chemnitz',\n",
       "    'localadmin_gid': 'whosonfirst:localadmin:1377685367',\n",
       "    'locality': 'Chemnitz',\n",
       "    'locality_gid': 'whosonfirst:locality:101748601',\n",
       "    'continent': 'Europe',\n",
       "    'continent_gid': 'whosonfirst:continent:102191581',\n",
       "    'label': 'Technische Universität Chemnitz, Chemnitz, SN, Germany',\n",
       "    'addendum': {'osm': {'wheelchair': 'yes',\n",
       "      'wikidata': 'Q159630',\n",
       "      'wikipedia': 'de:Technische Universität Chemnitz',\n",
       "      'website': 'https://www.tu-chemnitz.de/'}}},\n",
       "   'bbox': [12.9231278, 50.8094596, 12.9370423, 50.8196027]},\n",
       "  {'type': 'Feature',\n",
       "   'geometry': {'type': 'Point', 'coordinates': [8.680074, 49.861678]},\n",
       "   'properties': {'id': 'relation/130868',\n",
       "    'gid': 'openstreetmap:venue:relation/130868',\n",
       "    'layer': 'venue',\n",
       "    'source': 'openstreetmap',\n",
       "    'source_id': 'relation/130868',\n",
       "    'name': 'Technische Universität Darmstadt',\n",
       "    'confidence': 1,\n",
       "    'match_type': 'exact',\n",
       "    'accuracy': 'point',\n",
       "    'country': 'Germany',\n",
       "    'country_gid': 'whosonfirst:country:85633111',\n",
       "    'country_a': 'DEU',\n",
       "    'region': 'Hesse',\n",
       "    'region_gid': 'whosonfirst:region:85682531',\n",
       "    'region_a': 'HE',\n",
       "    'macrocounty': 'Darmstadt Government Region',\n",
       "    'macrocounty_gid': 'whosonfirst:macrocounty:404227581',\n",
       "    'county': 'Darmstadt-Dieburg',\n",
       "    'county_gid': 'whosonfirst:county:102063549',\n",
       "    'county_a': 'DD',\n",
       "    'localadmin': 'Messel',\n",
       "    'localadmin_gid': 'whosonfirst:localadmin:1377693127',\n",
       "    'locality': 'Darmstadt',\n",
       "    'locality_gid': 'whosonfirst:locality:101906949',\n",
       "    'continent': 'Europe',\n",
       "    'continent_gid': 'whosonfirst:continent:102191581',\n",
       "    'label': 'Technische Universität Darmstadt, Darmstadt, HE, Germany',\n",
       "    'addendum': {'osm': {'wikidata': 'Q310695',\n",
       "      'wikipedia': 'en:Technische Universität Darmstadt'}}},\n",
       "   'bbox': [8.6756099, 49.8588335, 8.6856057, 49.8639239]},\n",
       "  {'type': 'Feature',\n",
       "   'geometry': {'type': 'Point', 'coordinates': [13.728742, 51.029156]},\n",
       "   'properties': {'id': 'way/451867229',\n",
       "    'gid': 'openstreetmap:venue:way/451867229',\n",
       "    'layer': 'venue',\n",
       "    'source': 'openstreetmap',\n",
       "    'source_id': 'way/451867229',\n",
       "    'name': 'Technische Universität StartupCube',\n",
       "    'confidence': 1,\n",
       "    'match_type': 'exact',\n",
       "    'accuracy': 'point',\n",
       "    'country': 'Germany',\n",
       "    'country_gid': 'whosonfirst:country:85633111',\n",
       "    'country_a': 'DEU',\n",
       "    'region': 'Saxony',\n",
       "    'region_gid': 'whosonfirst:region:85682523',\n",
       "    'region_a': 'SN',\n",
       "    'county': 'Dresden',\n",
       "    'county_gid': 'whosonfirst:county:102064219',\n",
       "    'county_a': 'DE',\n",
       "    'localadmin': 'Dresden',\n",
       "    'localadmin_gid': 'whosonfirst:localadmin:1377686581',\n",
       "    'locality': 'Dresden',\n",
       "    'locality_gid': 'whosonfirst:locality:101752773',\n",
       "    'continent': 'Europe',\n",
       "    'continent_gid': 'whosonfirst:continent:102191581',\n",
       "    'label': 'Technische Universität StartupCube, Dresden, SN, Germany',\n",
       "    'addendum': {'osm': {'operator': 'TU Dresden',\n",
       "      'website': 'https://tu-dresden.de/tu-dresden/profil/exzellenz/zukunftskonzept/tud-people/innovation-sheds'}}},\n",
       "   'bbox': [13.7286984, 51.0291425, 13.7287865, 51.0291692]},\n",
       "  {'type': 'Feature',\n",
       "   'geometry': {'type': 'Point', 'coordinates': [11.633606, 48.249401]},\n",
       "   'properties': {'id': 'node/5763636116',\n",
       "    'gid': 'openstreetmap:venue:node/5763636116',\n",
       "    'layer': 'venue',\n",
       "    'source': 'openstreetmap',\n",
       "    'source_id': 'node/5763636116',\n",
       "    'name': 'Technische Universität München',\n",
       "    'housenumber': '37',\n",
       "    'street': 'Parkring',\n",
       "    'confidence': 1,\n",
       "    'match_type': 'exact',\n",
       "    'accuracy': 'point',\n",
       "    'country': 'Germany',\n",
       "    'country_gid': 'whosonfirst:country:85633111',\n",
       "    'country_a': 'DEU',\n",
       "    'region': 'Bavaria',\n",
       "    'region_gid': 'whosonfirst:region:85682571',\n",
       "    'region_a': 'BY',\n",
       "    'macrocounty': 'Upper Bavaria',\n",
       "    'macrocounty_gid': 'whosonfirst:macrocounty:404227567',\n",
       "    'county': 'München',\n",
       "    'county_gid': 'whosonfirst:county:102063273',\n",
       "    'county_a': 'MU',\n",
       "    'localadmin': 'Garching b. München',\n",
       "    'localadmin_gid': 'whosonfirst:localadmin:1377692749',\n",
       "    'locality': 'Garching bei München',\n",
       "    'locality_gid': 'whosonfirst:locality:101832995',\n",
       "    'neighbourhood': 'Fröttmaning',\n",
       "    'neighbourhood_gid': 'whosonfirst:neighbourhood:85899173',\n",
       "    'continent': 'Europe',\n",
       "    'continent_gid': 'whosonfirst:continent:102191581',\n",
       "    'label': 'Technische Universität München, Garching bei München, BY, Germany',\n",
       "    'addendum': {'osm': {'opening_hours': 'Mo-Fr 8:00-17:00'}}}},\n",
       "  {'type': 'Feature',\n",
       "   'geometry': {'type': 'Point', 'coordinates': [15.450383, 47.069271]},\n",
       "   'properties': {'id': 'node/3484163593',\n",
       "    'gid': 'openstreetmap:venue:node/3484163593',\n",
       "    'layer': 'venue',\n",
       "    'source': 'openstreetmap',\n",
       "    'source_id': 'node/3484163593',\n",
       "    'name': 'Technische Universität Graz',\n",
       "    'housenumber': '12',\n",
       "    'street': 'Rechbauerstraße',\n",
       "    'postalcode': '8010',\n",
       "    'confidence': 1,\n",
       "    'match_type': 'exact',\n",
       "    'accuracy': 'point',\n",
       "    'country': 'Austria',\n",
       "    'country_gid': 'whosonfirst:country:85632785',\n",
       "    'country_a': 'AUT',\n",
       "    'region': 'Styria',\n",
       "    'region_gid': 'whosonfirst:region:85681687',\n",
       "    'region_a': 'ST',\n",
       "    'county': 'Graz',\n",
       "    'county_gid': 'whosonfirst:county:102049709',\n",
       "    'county_a': 'GZ',\n",
       "    'localadmin': 'Graz',\n",
       "    'localadmin_gid': 'whosonfirst:localadmin:1108839329',\n",
       "    'locality': 'Graz',\n",
       "    'locality_gid': 'whosonfirst:locality:101748063',\n",
       "    'continent': 'Europe',\n",
       "    'continent_gid': 'whosonfirst:continent:102191581',\n",
       "    'label': 'Technische Universität Graz, Graz, ST, Austria',\n",
       "    'addendum': {'osm': {'website': 'https://www.tugraz.at/home/'}}}},\n",
       "  {'type': 'Feature',\n",
       "   'geometry': {'type': 'Point', 'coordinates': [16.369878, 48.198926]},\n",
       "   'properties': {'id': 'node/3664526435',\n",
       "    'gid': 'openstreetmap:venue:node/3664526435',\n",
       "    'layer': 'venue',\n",
       "    'source': 'openstreetmap',\n",
       "    'source_id': 'node/3664526435',\n",
       "    'name': 'Technische Universität Wien',\n",
       "    'housenumber': '13',\n",
       "    'street': 'Karlsplatz',\n",
       "    'postalcode': '1040',\n",
       "    'confidence': 1,\n",
       "    'match_type': 'exact',\n",
       "    'accuracy': 'point',\n",
       "    'country': 'Austria',\n",
       "    'country_gid': 'whosonfirst:country:85632785',\n",
       "    'country_a': 'AUT',\n",
       "    'region': 'Vienna',\n",
       "    'region_gid': 'whosonfirst:region:85681667',\n",
       "    'region_a': 'WI',\n",
       "    'localadmin': 'Wien',\n",
       "    'localadmin_gid': 'whosonfirst:localadmin:1108838101',\n",
       "    'locality': 'Vienna',\n",
       "    'locality_gid': 'whosonfirst:locality:101748073',\n",
       "    'neighbourhood': 'Wieden',\n",
       "    'neighbourhood_gid': 'whosonfirst:neighbourhood:85898761',\n",
       "    'continent': 'Europe',\n",
       "    'continent_gid': 'whosonfirst:continent:102191581',\n",
       "    'label': 'Technische Universität Wien, Vienna, Austria',\n",
       "    'addendum': {'osm': {'wheelchair': 'limited',\n",
       "      'website': 'https://www.tuwien.ac.at'}}}}],\n",
       " 'bbox': [7.7495138, 47.069271, 16.369878, 52.5162578]}"
      ]
     },
     "execution_count": 161,
     "metadata": {},
     "output_type": "execute_result"
    }
   ],
   "source": []
  },
  {
   "cell_type": "code",
   "execution_count": null,
   "metadata": {},
   "outputs": [
    {
     "name": "stdout",
     "output_type": "stream",
     "text": [
      "request url: https://api.openrouteservice.org/v2/directions/driving-car?api_key=5b3ce3597851110001cf6248506d14ae37cf43d5bf338a7e43dcfa74&start=8.681495,49.41461&end=8.687872,49.420318\n"
     ]
    },
    {
     "data": {
      "text/plain": [
       "{'type': 'FeatureCollection',\n",
       " 'features': [{'bbox': [8.681423, 49.414599, 8.690123, 49.420514],\n",
       "   'type': 'Feature',\n",
       "   'properties': {'segments': [{'distance': 1409.2,\n",
       "      'duration': 282.0,\n",
       "      'steps': [{'distance': 1.9,\n",
       "        'duration': 0.5,\n",
       "        'type': 11,\n",
       "        'instruction': 'Head west on Gerhart-Hauptmann-Straße',\n",
       "        'name': 'Gerhart-Hauptmann-Straße',\n",
       "        'way_points': [0, 1]},\n",
       "       {'distance': 314.0,\n",
       "        'duration': 75.3,\n",
       "        'type': 3,\n",
       "        'instruction': 'Turn sharp right onto Wielandtstraße',\n",
       "        'name': 'Wielandtstraße',\n",
       "        'way_points': [1, 10]},\n",
       "       {'distance': 500.9,\n",
       "        'duration': 76.5,\n",
       "        'type': 1,\n",
       "        'instruction': 'Turn right onto Mönchhofstraße',\n",
       "        'name': 'Mönchhofstraße',\n",
       "        'way_points': [10, 31]},\n",
       "       {'distance': 251.9,\n",
       "        'duration': 60.5,\n",
       "        'type': 0,\n",
       "        'instruction': 'Turn left onto Erwin-Rohde-Straße',\n",
       "        'name': 'Erwin-Rohde-Straße',\n",
       "        'way_points': [31, 36]},\n",
       "       {'distance': 126.8,\n",
       "        'duration': 30.4,\n",
       "        'type': 1,\n",
       "        'instruction': 'Turn right onto Moltkestraße',\n",
       "        'name': 'Moltkestraße',\n",
       "        'way_points': [36, 38]},\n",
       "       {'distance': 83.0,\n",
       "        'duration': 7.5,\n",
       "        'type': 0,\n",
       "        'instruction': 'Turn left onto Handschuhsheimer Landstraße, B 3',\n",
       "        'name': 'Handschuhsheimer Landstraße, B 3',\n",
       "        'way_points': [38, 40]},\n",
       "       {'distance': 130.8,\n",
       "        'duration': 31.4,\n",
       "        'type': 0,\n",
       "        'instruction': 'Turn left onto Roonstraße',\n",
       "        'name': 'Roonstraße',\n",
       "        'way_points': [40, 43]},\n",
       "       {'distance': 0.0,\n",
       "        'duration': 0.0,\n",
       "        'type': 10,\n",
       "        'instruction': 'Arrive at Roonstraße, straight ahead',\n",
       "        'name': '-',\n",
       "        'way_points': [43, 43]}]}],\n",
       "    'summary': {'distance': 1409.2, 'duration': 282.0},\n",
       "    'way_points': [0, 43]},\n",
       "   'geometry': {'coordinates': [[8.681496, 49.414601],\n",
       "     [8.68147, 49.414599],\n",
       "     [8.681488, 49.41465],\n",
       "     [8.681423, 49.415698],\n",
       "     [8.681423, 49.415746],\n",
       "     [8.681427, 49.415802],\n",
       "     [8.681509, 49.416087],\n",
       "     [8.681656, 49.41659],\n",
       "     [8.681825, 49.417081],\n",
       "     [8.681875, 49.417287],\n",
       "     [8.681881, 49.417392],\n",
       "     [8.682057, 49.417393],\n",
       "     [8.682107, 49.41739],\n",
       "     [8.682461, 49.417389],\n",
       "     [8.682676, 49.417387],\n",
       "     [8.683379, 49.41738],\n",
       "     [8.683595, 49.417372],\n",
       "     [8.683709, 49.417368],\n",
       "     [8.685294, 49.417365],\n",
       "     [8.685359, 49.417365],\n",
       "     [8.685442, 49.417365],\n",
       "     [8.685713, 49.41737],\n",
       "     [8.686407, 49.417365],\n",
       "     [8.686717, 49.417366],\n",
       "     [8.686806, 49.417365],\n",
       "     [8.68703, 49.41736],\n",
       "     [8.687156, 49.417357],\n",
       "     [8.687376, 49.417353],\n",
       "     [8.687466, 49.417351],\n",
       "     [8.687547, 49.417349],\n",
       "     [8.688256, 49.417361],\n",
       "     [8.688802, 49.417381],\n",
       "     [8.688793, 49.417434],\n",
       "     [8.68871, 49.418194],\n",
       "     [8.688647, 49.418464],\n",
       "     [8.688539, 49.418963],\n",
       "     [8.688398, 49.41963],\n",
       "     [8.690104, 49.419828],\n",
       "     [8.690123, 49.419833],\n",
       "     [8.689854, 49.420216],\n",
       "     [8.689652, 49.420514],\n",
       "     [8.68963, 49.42051],\n",
       "     [8.688601, 49.420393],\n",
       "     [8.687872, 49.420318]],\n",
       "    'type': 'LineString'}}],\n",
       " 'bbox': [8.681423, 49.414599, 8.690123, 49.420514],\n",
       " 'metadata': {'attribution': 'openrouteservice.org | OpenStreetMap contributors',\n",
       "  'service': 'routing',\n",
       "  'timestamp': 1687186309860,\n",
       "  'query': {'coordinates': [[8.681495, 49.41461], [8.687872, 49.420318]],\n",
       "   'profile': 'driving-car',\n",
       "   'format': 'json'},\n",
       "  'engine': {'version': '6.8.1',\n",
       "   'build_date': '2023-05-22T14:27:28Z',\n",
       "   'graph_date': '2023-06-04T15:57:08Z'}}}"
      ]
     },
     "execution_count": 128,
     "metadata": {},
     "output_type": "execute_result"
    }
   ],
   "source": [
    "r = api.routing.get_from_request(\n",
    "    params_dict= {\n",
    "        'start':  '8.681495,49.41461',\n",
    "        'end': '8.687872,49.420318'\n",
    "        },\n",
    "    endpoint_mode= 'directions',\n",
    "    json_ize= True\n",
    ")\n",
    "r"
   ]
  },
  {
   "cell_type": "code",
   "execution_count": null,
   "metadata": {},
   "outputs": [
    {
     "data": {
      "text/plain": [
       "{'durations': [[0.0, 663.22, 985.28, 691.28],\n",
       "  [647.47, 0.0, 514.75, 843.28],\n",
       "  [905.03, 521.11, 0.0, 503.28],\n",
       "  [657.76, 833.93, 513.01, 0.0]],\n",
       " 'distances': [[0.0, 4044.07, 7884.37, 5455.42],\n",
       "  [4071.65, 0.0, 2716.73, 6234.41],\n",
       "  [7755.53, 3037.68, 0.0, 4007.69],\n",
       "  [5196.67, 5953.24, 3753.86, 0.0]],\n",
       " 'destinations': [{'location': [13.38395, 52.533489],\n",
       "   'snapped_distance': 13.61},\n",
       "  {'location': [13.428816, 52.519341], 'snapped_distance': 6.3},\n",
       "  {'location': [13.417828, 52.498956], 'snapped_distance': 6.69},\n",
       "  {'location': [13.37311, 52.497606], 'snapped_distance': 179.97}],\n",
       " 'sources': [{'location': [13.38395, 52.533489], 'snapped_distance': 13.61},\n",
       "  {'location': [13.428816, 52.519341], 'snapped_distance': 6.3},\n",
       "  {'location': [13.417828, 52.498956], 'snapped_distance': 6.69},\n",
       "  {'location': [13.37311, 52.497606], 'snapped_distance': 179.97}],\n",
       " 'metadata': {'attribution': 'openrouteservice.org | OpenStreetMap contributors',\n",
       "  'service': 'matrix',\n",
       "  'timestamp': 1687188546609,\n",
       "  'query': {'locations': [[13.384116, 52.533558],\n",
       "    [13.428726, 52.519355],\n",
       "    [13.41774, 52.498929],\n",
       "    [13.374825, 52.496369]],\n",
       "   'profile': 'driving-car',\n",
       "   'responseType': 'json',\n",
       "   'metrics': ['distance', 'duration']},\n",
       "  'engine': {'version': '6.8.1',\n",
       "   'build_date': '2023-05-22T14:27:28Z',\n",
       "   'graph_date': '2023-06-04T15:57:08Z'}}}"
      ]
     },
     "execution_count": 175,
     "metadata": {},
     "output_type": "execute_result"
    }
   ],
   "source": [
    "importlib.reload(api.routing)\n",
    "\n",
    "client = api.routing.get_client_ors()\n",
    "\n",
    "r = api.routing.get_matrix_ors_py(\n",
    "    [[13.384116, 52.533558], [13.428726, 52.519355], [13.41774, 52.498929], [13.374825, 52.496369]],\n",
    "    client = client\n",
    ")\n",
    "r"
   ]
  },
  {
   "cell_type": "code",
   "execution_count": null,
   "metadata": {},
   "outputs": [
    {
     "data": {
      "text/plain": [
       "<module 'api.seismic' from '/Users/marv/Documents/uni/relief-routing-models/api/seismic.py'>"
      ]
     },
     "execution_count": 193,
     "metadata": {},
     "output_type": "execute_result"
    }
   ],
   "source": [
    "import api.seismic\n",
    "importlib.reload(api.seismic)"
   ]
  },
  {
   "cell_type": "code",
   "execution_count": null,
   "metadata": {},
   "outputs": [],
   "source": [
    "r = api.seismic.get_earthquakes_within_start_and_endtime('2014-01-01', '2014-01-02')"
   ]
  },
  {
   "cell_type": "code",
   "execution_count": null,
   "metadata": {},
   "outputs": [
    {
     "data": {
      "text/plain": [
       "{'magnitude': 1.2,\n",
       " 'coordinates': [-150.0165, 61.4581, 44.6],\n",
       " 'ids': ',ak10934318,ak01421i2zj,'}"
      ]
     },
     "execution_count": 198,
     "metadata": {},
     "output_type": "execute_result"
    }
   ],
   "source": [
    "api.seismic.post_process_earthquake_results(r, 2, 'all')\n",
    "# r"
   ]
  },
  {
   "cell_type": "code",
   "execution_count": 12,
   "metadata": {},
   "outputs": [
    {
     "data": {
      "text/plain": [
       "<module 'routing.directional' from '/Users/marv/Documents/uni/relief-routing-models/routing/directional.py'>"
      ]
     },
     "execution_count": 12,
     "metadata": {},
     "output_type": "execute_result"
    }
   ],
   "source": [
    "import routing.directional\n",
    "importlib.reload(routing.directional)"
   ]
  },
  {
   "cell_type": "code",
   "execution_count": 13,
   "metadata": {},
   "outputs": [
    {
     "name": "stderr",
     "output_type": "stream",
     "text": [
      "/Users/marv/Documents/uni/relief-routing-models/.venv/lib/python3.10/site-packages/openrouteservice/client.py:195: UserWarning: Server down.\n",
      "Retrying for the 1st time.\n",
      "  warnings.warn('Server down.\\nRetrying for the {0}{1} time.'.format(retry_counter + 1,\n",
      "/Users/marv/Documents/uni/relief-routing-models/.venv/lib/python3.10/site-packages/openrouteservice/client.py:195: UserWarning: Server down.\n",
      "Retrying for the 2nd time.\n",
      "  warnings.warn('Server down.\\nRetrying for the {0}{1} time.'.format(retry_counter + 1,\n",
      "/Users/marv/Documents/uni/relief-routing-models/.venv/lib/python3.10/site-packages/openrouteservice/client.py:195: UserWarning: Server down.\n",
      "Retrying for the 3rd time.\n",
      "  warnings.warn('Server down.\\nRetrying for the {0}{1} time.'.format(retry_counter + 1,\n",
      "/Users/marv/Documents/uni/relief-routing-models/.venv/lib/python3.10/site-packages/openrouteservice/client.py:195: UserWarning: Server down.\n",
      "Retrying for the 4th time.\n",
      "  warnings.warn('Server down.\\nRetrying for the {0}{1} time.'.format(retry_counter + 1,\n",
      "/Users/marv/Documents/uni/relief-routing-models/.venv/lib/python3.10/site-packages/openrouteservice/client.py:195: UserWarning: Server down.\n",
      "Retrying for the 5th time.\n",
      "  warnings.warn('Server down.\\nRetrying for the {0}{1} time.'.format(retry_counter + 1,\n",
      "/Users/marv/Documents/uni/relief-routing-models/.venv/lib/python3.10/site-packages/openrouteservice/client.py:195: UserWarning: Server down.\n",
      "Retrying for the 6th time.\n",
      "  warnings.warn('Server down.\\nRetrying for the {0}{1} time.'.format(retry_counter + 1,\n",
      "/Users/marv/Documents/uni/relief-routing-models/.venv/lib/python3.10/site-packages/openrouteservice/client.py:195: UserWarning: Server down.\n",
      "Retrying for the 7th time.\n",
      "  warnings.warn('Server down.\\nRetrying for the {0}{1} time.'.format(retry_counter + 1,\n",
      "/Users/marv/Documents/uni/relief-routing-models/.venv/lib/python3.10/site-packages/openrouteservice/client.py:195: UserWarning: Server down.\n",
      "Retrying for the 8th time.\n",
      "  warnings.warn('Server down.\\nRetrying for the {0}{1} time.'.format(retry_counter + 1,\n"
     ]
    },
    {
     "ename": "KeyboardInterrupt",
     "evalue": "",
     "output_type": "error",
     "traceback": [
      "\u001b[0;31m---------------------------------------------------------------------------\u001b[0m",
      "\u001b[0;31mKeyboardInterrupt\u001b[0m                         Traceback (most recent call last)",
      "Cell \u001b[0;32mIn[13], line 1\u001b[0m\n\u001b[0;32m----> 1\u001b[0m route, steps_df \u001b[39m=\u001b[39m routing\u001b[39m.\u001b[39;49mdirectional\u001b[39m.\u001b[39;49mroute_directional_with_ors(\n\u001b[1;32m      2\u001b[0m     [\u001b[39m8.681495\u001b[39;49m,\u001b[39m49.41461\u001b[39;49m],[\u001b[39m8.687872\u001b[39;49m,\u001b[39m49.420318\u001b[39;49m]\n\u001b[1;32m      3\u001b[0m )\n",
      "File \u001b[0;32m~/Documents/uni/relief-routing-models/routing/directional.py:11\u001b[0m, in \u001b[0;36mroute_directional_with_ors\u001b[0;34m(start_coords, end_coords, profile, client)\u001b[0m\n\u001b[1;32m      5\u001b[0m \u001b[39mdef\u001b[39;00m \u001b[39mroute_directional_with_ors\u001b[39m(\n\u001b[1;32m      6\u001b[0m     start_coords: \u001b[39mlist\u001b[39m, \n\u001b[1;32m      7\u001b[0m     end_coords: \u001b[39mlist\u001b[39m,\n\u001b[1;32m      8\u001b[0m     profile: \u001b[39mstr\u001b[39m \u001b[39m=\u001b[39m \u001b[39m'\u001b[39m\u001b[39mdriving-car\u001b[39m\u001b[39m'\u001b[39m,\n\u001b[1;32m      9\u001b[0m     client: routing\u001b[39m.\u001b[39mors\u001b[39m.\u001b[39mClient \u001b[39m=\u001b[39m \u001b[39mNone\u001b[39;00m,\n\u001b[1;32m     10\u001b[0m ): \n\u001b[0;32m---> 11\u001b[0m     route \u001b[39m=\u001b[39m routing\u001b[39m.\u001b[39;49mget_directions_ors_py(\n\u001b[1;32m     12\u001b[0m         start_coords\u001b[39m=\u001b[39;49m start_coords,\n\u001b[1;32m     13\u001b[0m         end_coords\u001b[39m=\u001b[39;49m end_coords,\n\u001b[1;32m     14\u001b[0m         profile\u001b[39m=\u001b[39;49m profile,\n\u001b[1;32m     15\u001b[0m         client\u001b[39m=\u001b[39;49m client\n\u001b[1;32m     16\u001b[0m     )\n\u001b[1;32m     18\u001b[0m     steps_list \u001b[39m=\u001b[39m route[\u001b[39m'\u001b[39m\u001b[39mfeatures\u001b[39m\u001b[39m'\u001b[39m][\u001b[39m0\u001b[39m][\u001b[39m'\u001b[39m\u001b[39mproperties\u001b[39m\u001b[39m'\u001b[39m][\u001b[39m'\u001b[39m\u001b[39msegments\u001b[39m\u001b[39m'\u001b[39m][\u001b[39m0\u001b[39m][\u001b[39m'\u001b[39m\u001b[39msteps\u001b[39m\u001b[39m'\u001b[39m]\n\u001b[1;32m     19\u001b[0m     steps_df \u001b[39m=\u001b[39m pd\u001b[39m.\u001b[39mDataFrame(steps_list)\n",
      "File \u001b[0;32m~/Documents/uni/relief-routing-models/api/routing.py:118\u001b[0m, in \u001b[0;36mget_directions_ors_py\u001b[0;34m(start_coords, end_coords, profile, client)\u001b[0m\n\u001b[1;32m    116\u001b[0m \u001b[39mif\u001b[39;00m client \u001b[39mis\u001b[39;00m \u001b[39mNone\u001b[39;00m:\n\u001b[1;32m    117\u001b[0m     client \u001b[39m=\u001b[39m get_client_ors()\n\u001b[0;32m--> 118\u001b[0m route \u001b[39m=\u001b[39m client\u001b[39m.\u001b[39;49mdirections(\n\u001b[1;32m    119\u001b[0m     coordinates \u001b[39m=\u001b[39;49m [start_coords, end_coords],\n\u001b[1;32m    120\u001b[0m     profile \u001b[39m=\u001b[39;49m profile,\n\u001b[1;32m    121\u001b[0m     \u001b[39mformat\u001b[39;49m \u001b[39m=\u001b[39;49m \u001b[39m'\u001b[39;49m\u001b[39mgeojson\u001b[39;49m\u001b[39m'\u001b[39;49m,\n\u001b[1;32m    122\u001b[0m     validate \u001b[39m=\u001b[39;49m \u001b[39mFalse\u001b[39;49;00m\n\u001b[1;32m    123\u001b[0m )\n\u001b[1;32m    124\u001b[0m \u001b[39mreturn\u001b[39;00m route\n",
      "File \u001b[0;32m~/Documents/uni/relief-routing-models/.venv/lib/python3.10/site-packages/openrouteservice/client.py:299\u001b[0m, in \u001b[0;36m_make_api_method.<locals>.wrapper\u001b[0;34m(*args, **kwargs)\u001b[0m\n\u001b[1;32m    296\u001b[0m \u001b[39m@functools\u001b[39m\u001b[39m.\u001b[39mwraps(func)\n\u001b[1;32m    297\u001b[0m \u001b[39mdef\u001b[39;00m \u001b[39mwrapper\u001b[39m(\u001b[39m*\u001b[39margs, \u001b[39m*\u001b[39m\u001b[39m*\u001b[39mkwargs):\n\u001b[1;32m    298\u001b[0m     args[\u001b[39m0\u001b[39m]\u001b[39m.\u001b[39m_extra_params \u001b[39m=\u001b[39m kwargs\u001b[39m.\u001b[39mpop(\u001b[39m\"\u001b[39m\u001b[39mextra_params\u001b[39m\u001b[39m\"\u001b[39m, \u001b[39mNone\u001b[39;00m)\n\u001b[0;32m--> 299\u001b[0m     result \u001b[39m=\u001b[39m func(\u001b[39m*\u001b[39;49margs, \u001b[39m*\u001b[39;49m\u001b[39m*\u001b[39;49mkwargs)\n\u001b[1;32m    300\u001b[0m     \u001b[39mtry\u001b[39;00m:\n\u001b[1;32m    301\u001b[0m         \u001b[39mdel\u001b[39;00m args[\u001b[39m0\u001b[39m]\u001b[39m.\u001b[39m_extra_params\n",
      "File \u001b[0;32m~/Documents/uni/relief-routing-models/.venv/lib/python3.10/site-packages/openrouteservice/directions.py:281\u001b[0m, in \u001b[0;36mdirections\u001b[0;34m(client, coordinates, profile, format_out, format, preference, units, language, geometry, geometry_simplify, instructions, instructions_format, alternative_routes, roundabout_exits, attributes, maneuvers, radiuses, bearings, skip_segments, continue_straight, elevation, extra_info, suppress_warnings, optimized, optimize_waypoints, options, validate, dry_run)\u001b[0m\n\u001b[1;32m    278\u001b[0m \u001b[39mif\u001b[39;00m options:\n\u001b[1;32m    279\u001b[0m     params[\u001b[39m'\u001b[39m\u001b[39moptions\u001b[39m\u001b[39m'\u001b[39m] \u001b[39m=\u001b[39m options\n\u001b[0;32m--> 281\u001b[0m \u001b[39mreturn\u001b[39;00m client\u001b[39m.\u001b[39;49mrequest(\u001b[39m\"\u001b[39;49m\u001b[39m/v2/directions/\u001b[39;49m\u001b[39m\"\u001b[39;49m \u001b[39m+\u001b[39;49m profile \u001b[39m+\u001b[39;49m \u001b[39m'\u001b[39;49m\u001b[39m/\u001b[39;49m\u001b[39m'\u001b[39;49m \u001b[39m+\u001b[39;49m \u001b[39mformat\u001b[39;49m, {}, post_json\u001b[39m=\u001b[39;49mparams, dry_run\u001b[39m=\u001b[39;49mdry_run)\n",
      "File \u001b[0;32m~/Documents/uni/relief-routing-models/.venv/lib/python3.10/site-packages/openrouteservice/client.py:200\u001b[0m, in \u001b[0;36mClient.request\u001b[0;34m(self, url, get_params, first_request_time, retry_counter, requests_kwargs, post_json, dry_run)\u001b[0m\n\u001b[1;32m    193\u001b[0m \u001b[39mif\u001b[39;00m response\u001b[39m.\u001b[39mstatus_code \u001b[39min\u001b[39;00m _RETRIABLE_STATUSES:\n\u001b[1;32m    194\u001b[0m     \u001b[39m# Retry request.\u001b[39;00m\n\u001b[1;32m    195\u001b[0m     warnings\u001b[39m.\u001b[39mwarn(\u001b[39m'\u001b[39m\u001b[39mServer down.\u001b[39m\u001b[39m\\n\u001b[39;00m\u001b[39mRetrying for the \u001b[39m\u001b[39m{0}\u001b[39;00m\u001b[39m{1}\u001b[39;00m\u001b[39m time.\u001b[39m\u001b[39m'\u001b[39m\u001b[39m.\u001b[39mformat(retry_counter \u001b[39m+\u001b[39m \u001b[39m1\u001b[39m,\n\u001b[1;32m    196\u001b[0m                                                                        get_ordinal(retry_counter \u001b[39m+\u001b[39m \u001b[39m1\u001b[39m)),\n\u001b[1;32m    197\u001b[0m                   \u001b[39mUserWarning\u001b[39;00m,\n\u001b[1;32m    198\u001b[0m                   stacklevel\u001b[39m=\u001b[39m\u001b[39m1\u001b[39m)\n\u001b[0;32m--> 200\u001b[0m     \u001b[39mreturn\u001b[39;00m \u001b[39mself\u001b[39;49m\u001b[39m.\u001b[39;49mrequest(url, get_params, first_request_time,\n\u001b[1;32m    201\u001b[0m                         retry_counter \u001b[39m+\u001b[39;49m \u001b[39m1\u001b[39;49m, requests_kwargs, post_json)\n\u001b[1;32m    203\u001b[0m \u001b[39mtry\u001b[39;00m:\n\u001b[1;32m    204\u001b[0m     result \u001b[39m=\u001b[39m \u001b[39mself\u001b[39m\u001b[39m.\u001b[39m_get_body(response)\n",
      "File \u001b[0;32m~/Documents/uni/relief-routing-models/.venv/lib/python3.10/site-packages/openrouteservice/client.py:200\u001b[0m, in \u001b[0;36mClient.request\u001b[0;34m(self, url, get_params, first_request_time, retry_counter, requests_kwargs, post_json, dry_run)\u001b[0m\n\u001b[1;32m    193\u001b[0m \u001b[39mif\u001b[39;00m response\u001b[39m.\u001b[39mstatus_code \u001b[39min\u001b[39;00m _RETRIABLE_STATUSES:\n\u001b[1;32m    194\u001b[0m     \u001b[39m# Retry request.\u001b[39;00m\n\u001b[1;32m    195\u001b[0m     warnings\u001b[39m.\u001b[39mwarn(\u001b[39m'\u001b[39m\u001b[39mServer down.\u001b[39m\u001b[39m\\n\u001b[39;00m\u001b[39mRetrying for the \u001b[39m\u001b[39m{0}\u001b[39;00m\u001b[39m{1}\u001b[39;00m\u001b[39m time.\u001b[39m\u001b[39m'\u001b[39m\u001b[39m.\u001b[39mformat(retry_counter \u001b[39m+\u001b[39m \u001b[39m1\u001b[39m,\n\u001b[1;32m    196\u001b[0m                                                                        get_ordinal(retry_counter \u001b[39m+\u001b[39m \u001b[39m1\u001b[39m)),\n\u001b[1;32m    197\u001b[0m                   \u001b[39mUserWarning\u001b[39;00m,\n\u001b[1;32m    198\u001b[0m                   stacklevel\u001b[39m=\u001b[39m\u001b[39m1\u001b[39m)\n\u001b[0;32m--> 200\u001b[0m     \u001b[39mreturn\u001b[39;00m \u001b[39mself\u001b[39;49m\u001b[39m.\u001b[39;49mrequest(url, get_params, first_request_time,\n\u001b[1;32m    201\u001b[0m                         retry_counter \u001b[39m+\u001b[39;49m \u001b[39m1\u001b[39;49m, requests_kwargs, post_json)\n\u001b[1;32m    203\u001b[0m \u001b[39mtry\u001b[39;00m:\n\u001b[1;32m    204\u001b[0m     result \u001b[39m=\u001b[39m \u001b[39mself\u001b[39m\u001b[39m.\u001b[39m_get_body(response)\n",
      "    \u001b[0;31m[... skipping similar frames: Client.request at line 200 (5 times)]\u001b[0m\n",
      "File \u001b[0;32m~/Documents/uni/relief-routing-models/.venv/lib/python3.10/site-packages/openrouteservice/client.py:200\u001b[0m, in \u001b[0;36mClient.request\u001b[0;34m(self, url, get_params, first_request_time, retry_counter, requests_kwargs, post_json, dry_run)\u001b[0m\n\u001b[1;32m    193\u001b[0m \u001b[39mif\u001b[39;00m response\u001b[39m.\u001b[39mstatus_code \u001b[39min\u001b[39;00m _RETRIABLE_STATUSES:\n\u001b[1;32m    194\u001b[0m     \u001b[39m# Retry request.\u001b[39;00m\n\u001b[1;32m    195\u001b[0m     warnings\u001b[39m.\u001b[39mwarn(\u001b[39m'\u001b[39m\u001b[39mServer down.\u001b[39m\u001b[39m\\n\u001b[39;00m\u001b[39mRetrying for the \u001b[39m\u001b[39m{0}\u001b[39;00m\u001b[39m{1}\u001b[39;00m\u001b[39m time.\u001b[39m\u001b[39m'\u001b[39m\u001b[39m.\u001b[39mformat(retry_counter \u001b[39m+\u001b[39m \u001b[39m1\u001b[39m,\n\u001b[1;32m    196\u001b[0m                                                                        get_ordinal(retry_counter \u001b[39m+\u001b[39m \u001b[39m1\u001b[39m)),\n\u001b[1;32m    197\u001b[0m                   \u001b[39mUserWarning\u001b[39;00m,\n\u001b[1;32m    198\u001b[0m                   stacklevel\u001b[39m=\u001b[39m\u001b[39m1\u001b[39m)\n\u001b[0;32m--> 200\u001b[0m     \u001b[39mreturn\u001b[39;00m \u001b[39mself\u001b[39;49m\u001b[39m.\u001b[39;49mrequest(url, get_params, first_request_time,\n\u001b[1;32m    201\u001b[0m                         retry_counter \u001b[39m+\u001b[39;49m \u001b[39m1\u001b[39;49m, requests_kwargs, post_json)\n\u001b[1;32m    203\u001b[0m \u001b[39mtry\u001b[39;00m:\n\u001b[1;32m    204\u001b[0m     result \u001b[39m=\u001b[39m \u001b[39mself\u001b[39m\u001b[39m.\u001b[39m_get_body(response)\n",
      "File \u001b[0;32m~/Documents/uni/relief-routing-models/.venv/lib/python3.10/site-packages/openrouteservice/client.py:161\u001b[0m, in \u001b[0;36mClient.request\u001b[0;34m(self, url, get_params, first_request_time, retry_counter, requests_kwargs, post_json, dry_run)\u001b[0m\n\u001b[1;32m    158\u001b[0m     delay_seconds \u001b[39m=\u001b[39m \u001b[39m1.5\u001b[39m \u001b[39m*\u001b[39m\u001b[39m*\u001b[39m (retry_counter \u001b[39m-\u001b[39m \u001b[39m1\u001b[39m)\n\u001b[1;32m    160\u001b[0m     \u001b[39m# Jitter this value by 50% and pause.\u001b[39;00m\n\u001b[0;32m--> 161\u001b[0m     time\u001b[39m.\u001b[39;49msleep(delay_seconds \u001b[39m*\u001b[39;49m (random\u001b[39m.\u001b[39;49mrandom() \u001b[39m+\u001b[39;49m \u001b[39m0.5\u001b[39;49m))\n\u001b[1;32m    163\u001b[0m authed_url \u001b[39m=\u001b[39m \u001b[39mself\u001b[39m\u001b[39m.\u001b[39m_generate_auth_url(url,\n\u001b[1;32m    164\u001b[0m                                      get_params,\n\u001b[1;32m    165\u001b[0m                                      )\n\u001b[1;32m    167\u001b[0m \u001b[39m# Default to the client-level self.requests_kwargs, with method-level\u001b[39;00m\n\u001b[1;32m    168\u001b[0m \u001b[39m# requests_kwargs arg overriding.\u001b[39;00m\n",
      "\u001b[0;31mKeyboardInterrupt\u001b[0m: "
     ]
    }
   ],
   "source": [
    "route, steps_df = routing.directional.route_directional_with_ors(\n",
    "    [8.681495,49.41461],[8.687872,49.420318]\n",
    ")\n"
   ]
  },
  {
   "cell_type": "code",
   "execution_count": null,
   "metadata": {},
   "outputs": [
    {
     "data": {
      "text/html": [
       "<div style=\"width:100%;\"><div style=\"position:relative;width:100%;height:0;padding-bottom:60%;\"><span style=\"color:#565656\">Make this Notebook Trusted to load map: File -> Trust Notebook</span><iframe srcdoc=\"&lt;!DOCTYPE html&gt;\n",
       "&lt;html&gt;\n",
       "&lt;head&gt;\n",
       "    \n",
       "    &lt;meta http-equiv=&quot;content-type&quot; content=&quot;text/html; charset=UTF-8&quot; /&gt;\n",
       "    \n",
       "        &lt;script&gt;\n",
       "            L_NO_TOUCH = false;\n",
       "            L_DISABLE_3D = false;\n",
       "        &lt;/script&gt;\n",
       "    \n",
       "    &lt;style&gt;html, body {width: 100%;height: 100%;margin: 0;padding: 0;}&lt;/style&gt;\n",
       "    &lt;style&gt;#map {position:absolute;top:0;bottom:0;right:0;left:0;}&lt;/style&gt;\n",
       "    &lt;script src=&quot;https://cdn.jsdelivr.net/npm/leaflet@1.9.3/dist/leaflet.js&quot;&gt;&lt;/script&gt;\n",
       "    &lt;script src=&quot;https://code.jquery.com/jquery-1.12.4.min.js&quot;&gt;&lt;/script&gt;\n",
       "    &lt;script src=&quot;https://cdn.jsdelivr.net/npm/bootstrap@5.2.2/dist/js/bootstrap.bundle.min.js&quot;&gt;&lt;/script&gt;\n",
       "    &lt;script src=&quot;https://cdnjs.cloudflare.com/ajax/libs/Leaflet.awesome-markers/2.0.2/leaflet.awesome-markers.js&quot;&gt;&lt;/script&gt;\n",
       "    &lt;link rel=&quot;stylesheet&quot; href=&quot;https://cdn.jsdelivr.net/npm/leaflet@1.9.3/dist/leaflet.css&quot;/&gt;\n",
       "    &lt;link rel=&quot;stylesheet&quot; href=&quot;https://cdn.jsdelivr.net/npm/bootstrap@5.2.2/dist/css/bootstrap.min.css&quot;/&gt;\n",
       "    &lt;link rel=&quot;stylesheet&quot; href=&quot;https://netdna.bootstrapcdn.com/bootstrap/3.0.0/css/bootstrap.min.css&quot;/&gt;\n",
       "    &lt;link rel=&quot;stylesheet&quot; href=&quot;https://cdn.jsdelivr.net/npm/@fortawesome/fontawesome-free@6.2.0/css/all.min.css&quot;/&gt;\n",
       "    &lt;link rel=&quot;stylesheet&quot; href=&quot;https://cdnjs.cloudflare.com/ajax/libs/Leaflet.awesome-markers/2.0.2/leaflet.awesome-markers.css&quot;/&gt;\n",
       "    &lt;link rel=&quot;stylesheet&quot; href=&quot;https://cdn.jsdelivr.net/gh/python-visualization/folium/folium/templates/leaflet.awesome.rotate.min.css&quot;/&gt;\n",
       "    \n",
       "            &lt;meta name=&quot;viewport&quot; content=&quot;width=device-width,\n",
       "                initial-scale=1.0, maximum-scale=1.0, user-scalable=no&quot; /&gt;\n",
       "            &lt;style&gt;\n",
       "                #map_5cddc4ebc36296ae66c891b5d3ce9820 {\n",
       "                    position: relative;\n",
       "                    width: 100.0%;\n",
       "                    height: 100.0%;\n",
       "                    left: 0.0%;\n",
       "                    top: 0.0%;\n",
       "                }\n",
       "                .leaflet-container { font-size: 1rem; }\n",
       "            &lt;/style&gt;\n",
       "        \n",
       "&lt;/head&gt;\n",
       "&lt;body&gt;\n",
       "    \n",
       "    \n",
       "            &lt;div class=&quot;folium-map&quot; id=&quot;map_5cddc4ebc36296ae66c891b5d3ce9820&quot; &gt;&lt;/div&gt;\n",
       "        \n",
       "&lt;/body&gt;\n",
       "&lt;script&gt;\n",
       "    \n",
       "    \n",
       "            var map_5cddc4ebc36296ae66c891b5d3ce9820 = L.map(\n",
       "                &quot;map_5cddc4ebc36296ae66c891b5d3ce9820&quot;,\n",
       "                {\n",
       "                    center: [49.414599, 8.690123],\n",
       "                    crs: L.CRS.EPSG3857,\n",
       "                    zoom: 13,\n",
       "                    zoomControl: true,\n",
       "                    preferCanvas: false,\n",
       "                }\n",
       "            );\n",
       "\n",
       "            \n",
       "\n",
       "        \n",
       "    \n",
       "            var tile_layer_4e25b68c1830faa683a452960a78d001 = L.tileLayer(\n",
       "                &quot;https://cartodb-basemaps-{s}.global.ssl.fastly.net/light_all/{z}/{x}/{y}.png&quot;,\n",
       "                {&quot;attribution&quot;: &quot;\\u0026copy; \\u003ca target=\\&quot;_blank\\&quot; href=\\&quot;http://www.openstreetmap.org/copyright\\&quot;\\u003eOpenStreetMap\\u003c/a\\u003e contributors \\u0026copy; \\u003ca target=\\&quot;_blank\\&quot; href=\\&quot;http://cartodb.com/attributions\\&quot;\\u003eCartoDB\\u003c/a\\u003e, CartoDB \\u003ca target=\\&quot;_blank\\&quot; href =\\&quot;http://cartodb.com/attributions\\&quot;\\u003eattributions\\u003c/a\\u003e&quot;, &quot;detectRetina&quot;: false, &quot;maxNativeZoom&quot;: 18, &quot;maxZoom&quot;: 18, &quot;minZoom&quot;: 0, &quot;noWrap&quot;: false, &quot;opacity&quot;: 1, &quot;subdomains&quot;: &quot;abc&quot;, &quot;tms&quot;: false}\n",
       "            ).addTo(map_5cddc4ebc36296ae66c891b5d3ce9820);\n",
       "        \n",
       "    \n",
       "            var poly_line_e4be296691df954ec370debe539df3a8 = L.polyline(\n",
       "                [[49.414601, 8.681496], [49.414599, 8.68147], [49.41465, 8.681488], [49.415698, 8.681423], [49.415746, 8.681423], [49.415802, 8.681427], [49.416087, 8.681509], [49.41659, 8.681656], [49.417081, 8.681825], [49.417287, 8.681875], [49.417392, 8.681881], [49.417393, 8.682057], [49.41739, 8.682107], [49.417389, 8.682461], [49.417387, 8.682676], [49.41738, 8.683379], [49.417372, 8.683595], [49.417368, 8.683709], [49.417365, 8.685294], [49.417365, 8.685359], [49.417365, 8.685442], [49.41737, 8.685713], [49.417365, 8.686407], [49.417366, 8.686717], [49.417365, 8.686806], [49.41736, 8.68703], [49.417357, 8.687156], [49.417353, 8.687376], [49.417351, 8.687466], [49.417349, 8.687547], [49.417361, 8.688256], [49.417381, 8.688802], [49.417434, 8.688793], [49.418194, 8.68871], [49.418464, 8.688647], [49.418963, 8.688539], [49.41963, 8.688398], [49.419828, 8.690104], [49.419833, 8.690123], [49.420216, 8.689854], [49.420514, 8.689652], [49.42051, 8.68963], [49.420393, 8.688601], [49.420318, 8.687872]],\n",
       "                {&quot;bubblingMouseEvents&quot;: true, &quot;color&quot;: &quot;#3388ff&quot;, &quot;dashArray&quot;: null, &quot;dashOffset&quot;: null, &quot;fill&quot;: false, &quot;fillColor&quot;: &quot;#3388ff&quot;, &quot;fillOpacity&quot;: 0.2, &quot;fillRule&quot;: &quot;evenodd&quot;, &quot;lineCap&quot;: &quot;round&quot;, &quot;lineJoin&quot;: &quot;round&quot;, &quot;noClip&quot;: false, &quot;opacity&quot;: 1.0, &quot;smoothFactor&quot;: 1.0, &quot;stroke&quot;: true, &quot;weight&quot;: 3}\n",
       "            ).addTo(map_5cddc4ebc36296ae66c891b5d3ce9820);\n",
       "        \n",
       "&lt;/script&gt;\n",
       "&lt;/html&gt;\" style=\"position:absolute;width:100%;height:100%;left:0;top:0;border:none !important;\" allowfullscreen webkitallowfullscreen mozallowfullscreen></iframe></div></div>"
      ],
      "text/plain": [
       "<folium.folium.Map at 0x12f323100>"
      ]
     },
     "execution_count": 223,
     "metadata": {},
     "output_type": "execute_result"
    }
   ],
   "source": [
    "directional_route_map = routing.directional.display_directional_route_map(route= route)\n",
    "directional_route_map"
   ]
  },
  {
   "cell_type": "code",
   "execution_count": null,
   "metadata": {},
   "outputs": [
    {
     "data": {
      "text/html": [
       "<div>\n",
       "<style scoped>\n",
       "    .dataframe tbody tr th:only-of-type {\n",
       "        vertical-align: middle;\n",
       "    }\n",
       "\n",
       "    .dataframe tbody tr th {\n",
       "        vertical-align: top;\n",
       "    }\n",
       "\n",
       "    .dataframe thead th {\n",
       "        text-align: right;\n",
       "    }\n",
       "</style>\n",
       "<table border=\"1\" class=\"dataframe\">\n",
       "  <thead>\n",
       "    <tr style=\"text-align: right;\">\n",
       "      <th></th>\n",
       "      <th>distance</th>\n",
       "      <th>duration</th>\n",
       "      <th>type</th>\n",
       "      <th>instruction</th>\n",
       "      <th>name</th>\n",
       "      <th>way_points</th>\n",
       "    </tr>\n",
       "  </thead>\n",
       "  <tbody>\n",
       "    <tr>\n",
       "      <th>0</th>\n",
       "      <td>1.9</td>\n",
       "      <td>0.5</td>\n",
       "      <td>11</td>\n",
       "      <td>Head west on Gerhart-Hauptmann-Straße</td>\n",
       "      <td>Gerhart-Hauptmann-Straße</td>\n",
       "      <td>[0, 1]</td>\n",
       "    </tr>\n",
       "    <tr>\n",
       "      <th>1</th>\n",
       "      <td>314.0</td>\n",
       "      <td>75.3</td>\n",
       "      <td>3</td>\n",
       "      <td>Turn sharp right onto Wielandtstraße</td>\n",
       "      <td>Wielandtstraße</td>\n",
       "      <td>[1, 10]</td>\n",
       "    </tr>\n",
       "    <tr>\n",
       "      <th>2</th>\n",
       "      <td>500.9</td>\n",
       "      <td>76.5</td>\n",
       "      <td>1</td>\n",
       "      <td>Turn right onto Mönchhofstraße</td>\n",
       "      <td>Mönchhofstraße</td>\n",
       "      <td>[10, 31]</td>\n",
       "    </tr>\n",
       "    <tr>\n",
       "      <th>3</th>\n",
       "      <td>251.9</td>\n",
       "      <td>60.5</td>\n",
       "      <td>0</td>\n",
       "      <td>Turn left onto Erwin-Rohde-Straße</td>\n",
       "      <td>Erwin-Rohde-Straße</td>\n",
       "      <td>[31, 36]</td>\n",
       "    </tr>\n",
       "    <tr>\n",
       "      <th>4</th>\n",
       "      <td>126.8</td>\n",
       "      <td>30.4</td>\n",
       "      <td>1</td>\n",
       "      <td>Turn right onto Moltkestraße</td>\n",
       "      <td>Moltkestraße</td>\n",
       "      <td>[36, 38]</td>\n",
       "    </tr>\n",
       "    <tr>\n",
       "      <th>5</th>\n",
       "      <td>83.0</td>\n",
       "      <td>7.5</td>\n",
       "      <td>0</td>\n",
       "      <td>Turn left onto Handschuhsheimer Landstraße, B 3</td>\n",
       "      <td>Handschuhsheimer Landstraße, B 3</td>\n",
       "      <td>[38, 40]</td>\n",
       "    </tr>\n",
       "    <tr>\n",
       "      <th>6</th>\n",
       "      <td>130.8</td>\n",
       "      <td>31.4</td>\n",
       "      <td>0</td>\n",
       "      <td>Turn left onto Roonstraße</td>\n",
       "      <td>Roonstraße</td>\n",
       "      <td>[40, 43]</td>\n",
       "    </tr>\n",
       "    <tr>\n",
       "      <th>7</th>\n",
       "      <td>0.0</td>\n",
       "      <td>0.0</td>\n",
       "      <td>10</td>\n",
       "      <td>Arrive at Roonstraße, straight ahead</td>\n",
       "      <td>-</td>\n",
       "      <td>[43, 43]</td>\n",
       "    </tr>\n",
       "  </tbody>\n",
       "</table>\n",
       "</div>"
      ],
      "text/plain": [
       "   distance  duration  type                                      instruction  \\\n",
       "0       1.9       0.5    11            Head west on Gerhart-Hauptmann-Straße   \n",
       "1     314.0      75.3     3             Turn sharp right onto Wielandtstraße   \n",
       "2     500.9      76.5     1                   Turn right onto Mönchhofstraße   \n",
       "3     251.9      60.5     0                Turn left onto Erwin-Rohde-Straße   \n",
       "4     126.8      30.4     1                     Turn right onto Moltkestraße   \n",
       "5      83.0       7.5     0  Turn left onto Handschuhsheimer Landstraße, B 3   \n",
       "6     130.8      31.4     0                        Turn left onto Roonstraße   \n",
       "7       0.0       0.0    10             Arrive at Roonstraße, straight ahead   \n",
       "\n",
       "                               name way_points  \n",
       "0          Gerhart-Hauptmann-Straße     [0, 1]  \n",
       "1                    Wielandtstraße    [1, 10]  \n",
       "2                    Mönchhofstraße   [10, 31]  \n",
       "3                Erwin-Rohde-Straße   [31, 36]  \n",
       "4                      Moltkestraße   [36, 38]  \n",
       "5  Handschuhsheimer Landstraße, B 3   [38, 40]  \n",
       "6                        Roonstraße   [40, 43]  \n",
       "7                                 -   [43, 43]  "
      ]
     },
     "execution_count": 221,
     "metadata": {},
     "output_type": "execute_result"
    }
   ],
   "source": [
    "steps_df"
   ]
  },
  {
   "cell_type": "code",
   "execution_count": 72,
   "metadata": {},
   "outputs": [
    {
     "data": {
      "text/plain": [
       "<module 'api.carthography' from '/Users/marv/Documents/uni/relief-routing-models/api/carthography.py'>"
      ]
     },
     "execution_count": 72,
     "metadata": {},
     "output_type": "execute_result"
    }
   ],
   "source": [
    "import routing.directional\n",
    "import api.carthography\n",
    "importlib.reload(routing.directional)\n",
    "importlib.reload(api.carthography)"
   ]
  },
  {
   "cell_type": "code",
   "execution_count": 24,
   "metadata": {},
   "outputs": [],
   "source": [
    "coordinates = [[13.384116, 52.533558], [13.41774, 52.498929], [13.428726, 52.519355], [13.374825, 52.496369], [13.384116, 52.533558]]\n",
    "index_list = [0,1,2,3,0]"
   ]
  },
  {
   "cell_type": "code",
   "execution_count": 58,
   "metadata": {},
   "outputs": [
    {
     "name": "stdout",
     "output_type": "stream",
     "text": [
      "\tnode 0: [13.384116, 52.533558] \t| node 1: [13.41774, 52.498929]\n",
      "\tnode 1: [13.41774, 52.498929] \t| node 2: [13.428726, 52.519355]\n",
      "\tnode 2: [13.428726, 52.519355] \t| node 3: [13.374825, 52.496369]\n",
      "\tnode 3: [13.374825, 52.496369] \t| node 0: [13.384116, 52.533558]\n"
     ]
    }
   ],
   "source": [
    "route_list, route_sum_df = routing.directional.route_directional_as_round_trip( coordinates= coordinates, indices= index_list, profile='driving-hgv')"
   ]
  },
  {
   "cell_type": "code",
   "execution_count": 71,
   "metadata": {},
   "outputs": [
    {
     "name": "stdout",
     "output_type": "stream",
     "text": [
      "[[13.38395, 52.533489], [13.384092, 52.533363], [13.384727, 52.5328], [13.384875, 52.532667], [13.384972, 52.532581], [13.385084, 52.532451], [13.385147, 52.532376], [13.385259, 52.532266], [13.386091, 52.53153], [13.386172, 52.531434], [13.386034, 52.531409], [13.385607, 52.531299], [13.385381, 52.531215], [13.385313, 52.531179], [13.38494, 52.531073], [13.383755, 52.530747], [13.383484, 52.530673], [13.383231, 52.530604], [13.383071, 52.530567], [13.383054, 52.530569], [13.382935, 52.53058], [13.382775, 52.530569], [13.381736, 52.530268], [13.381584, 52.530186], [13.381512, 52.530149], [13.381436, 52.530127], [13.38122, 52.530063], [13.380296, 52.529789], [13.379752, 52.529628], [13.379522, 52.529556], [13.379366, 52.529493], [13.379219, 52.529438], [13.379141, 52.529409], [13.379031, 52.529373], [13.378562, 52.529234], [13.378445, 52.529199], [13.378316, 52.529193], [13.378212, 52.529187], [13.377822, 52.529077], [13.377651, 52.529043], [13.377251, 52.528952], [13.376227, 52.528654], [13.376169, 52.528636], [13.376011, 52.528512], [13.375962, 52.528472], [13.375868, 52.528443], [13.375277, 52.528265], [13.374415, 52.527998], [13.374369, 52.527982], [13.37429, 52.527976], [13.374211, 52.527972], [13.37409, 52.527957], [13.374033, 52.527946], [13.373581, 52.52781], [13.373529, 52.527794], [13.373473, 52.527777], [13.373325, 52.527731], [13.371183, 52.527071], [13.371104, 52.527052], [13.370789, 52.526987], [13.370625, 52.526947], [13.370558, 52.526931], [13.370417, 52.526897], [13.370274, 52.526862], [13.370208, 52.526846], [13.369779, 52.526713], [13.36955, 52.526642], [13.369297, 52.526564], [13.369137, 52.526514], [13.369071, 52.526494], [13.369035, 52.526483], [13.3688, 52.52641], [13.368132, 52.526203], [13.367831, 52.526099], [13.367564, 52.526007], [13.367703, 52.525806], [13.36776, 52.525721], [13.367794, 52.525673], [13.3678, 52.525175], [13.367804, 52.525105], [13.367838, 52.524792], [13.367921, 52.524498], [13.368073, 52.524174], [13.368275, 52.523929], [13.36858, 52.523713], [13.368803, 52.523564], [13.369325, 52.523395], [13.369544, 52.523318], [13.369759, 52.523216], [13.369919, 52.523109], [13.370878, 52.522052], [13.371262, 52.521594], [13.3716, 52.521126], [13.371779, 52.520774], [13.371824, 52.520478], [13.37181, 52.520141], [13.371749, 52.519952], [13.370463, 52.517668], [13.370122, 52.516924], [13.369897, 52.516257], [13.36982, 52.515959], [13.369797, 52.515848], [13.369775, 52.515661], [13.369779, 52.515107], [13.369805, 52.514766], [13.369851, 52.514434], [13.369981, 52.513911], [13.370085, 52.513515], [13.370168, 52.512991], [13.370772, 52.511626], [13.371004, 52.511203], [13.371214, 52.510874], [13.371435, 52.510314], [13.372353, 52.507457], [13.372403, 52.50723], [13.372417, 52.506944], [13.372338, 52.506565], [13.372234, 52.506203], [13.372224, 52.506169], [13.372015, 52.505286], [13.372001, 52.50524], [13.371964, 52.505161], [13.371884, 52.505091], [13.371665, 52.504911], [13.371633, 52.504884], [13.371536, 52.504804], [13.371639, 52.504756], [13.37173, 52.504713], [13.372297, 52.504415], [13.372512, 52.504264], [13.372873, 52.50395], [13.373037, 52.503757], [13.373123, 52.503656], [13.37315, 52.503624], [13.373245, 52.503509], [13.373489, 52.503233], [13.37363, 52.503111], [13.373826, 52.502984], [13.374029, 52.502859], [13.374243, 52.502726], [13.374464, 52.502603], [13.37452, 52.502571], [13.374589, 52.502531], [13.374754, 52.502435], [13.375123, 52.502218], [13.375561, 52.501961], [13.376017, 52.501692], [13.376069, 52.501661], [13.376167, 52.501606], [13.376247, 52.501533], [13.376631, 52.501187], [13.376727, 52.50107], [13.376886, 52.500827], [13.377236, 52.500292], [13.377462, 52.499987], [13.377633, 52.49981], [13.37778, 52.499672], [13.377985, 52.499512], [13.378217, 52.49935], [13.378463, 52.499211], [13.378752, 52.499077], [13.379045, 52.49897], [13.379277, 52.498903], [13.380064, 52.498762], [13.380225, 52.498735], [13.380317, 52.498723], [13.38065, 52.498683], [13.38088, 52.49866], [13.381294, 52.498638], [13.381676, 52.498639], [13.382035, 52.498646], [13.382252, 52.498651], [13.38264, 52.498663], [13.382895, 52.498669], [13.382986, 52.498672], [13.383039, 52.498673], [13.383218, 52.498676], [13.383336, 52.498678], [13.383399, 52.498678], [13.383731, 52.498679], [13.384107, 52.498654], [13.384507, 52.498606], [13.385087, 52.498508], [13.385167, 52.498492], [13.385266, 52.49847], [13.388778, 52.49764], [13.388931, 52.497613], [13.389215, 52.497569], [13.389386, 52.497545], [13.38975, 52.497498], [13.389836, 52.497487], [13.390046, 52.497463], [13.390967, 52.4974], [13.391708, 52.497395], [13.391808, 52.497396], [13.392039, 52.497399], [13.392192, 52.497405], [13.392629, 52.497432], [13.392821, 52.497449], [13.392932, 52.497458], [13.394214, 52.497571], [13.394523, 52.497599], [13.394671, 52.497615], [13.394803, 52.497634], [13.394982, 52.497668], [13.395339, 52.497755], [13.395373, 52.497764], [13.395433, 52.497782], [13.395606, 52.497832], [13.395873, 52.497918], [13.396009, 52.497968], [13.396052, 52.497983], [13.396591, 52.498146], [13.396917, 52.498207], [13.397243, 52.498248], [13.397738, 52.498273], [13.398526, 52.498271], [13.399242, 52.498276], [13.399284, 52.498277], [13.399517, 52.498278], [13.399718, 52.498276], [13.402172, 52.498295], [13.403054, 52.498304], [13.403469, 52.498303], [13.405255, 52.498309], [13.405754, 52.498311], [13.406347, 52.498318], [13.406568, 52.498323], [13.406847, 52.498324], [13.407104, 52.498327], [13.408214, 52.498349], [13.409072, 52.498394], [13.409326, 52.498408], [13.409511, 52.498416], [13.409999, 52.498439], [13.410435, 52.49846], [13.410546, 52.498466], [13.410685, 52.498472], [13.410904, 52.498481], [13.411494, 52.498507], [13.411871, 52.498522], [13.412022, 52.498526], [13.412194, 52.498532], [13.412852, 52.498519], [13.413466, 52.498476], [13.414077, 52.498437], [13.414277, 52.498442], [13.414332, 52.498449], [13.414409, 52.498461], [13.414744, 52.498513], [13.41585, 52.49868], [13.416286, 52.498735], [13.416593, 52.498778], [13.416781, 52.498801], [13.416975, 52.498823], [13.417054, 52.498828], [13.417284, 52.49884], [13.417377, 52.498842], [13.417494, 52.498842], [13.417886, 52.498826], [13.418009, 52.498815], [13.418104, 52.498788], [13.418306, 52.498776], [13.418381, 52.498785], [13.41845, 52.498801], [13.418509, 52.498822], [13.418611, 52.498879], [13.418665, 52.49893], [13.41871, 52.499023], [13.418706, 52.499107], [13.41868, 52.49916], [13.418648, 52.4992], [13.418549, 52.499271], [13.418485, 52.499299], [13.418407, 52.499321], [13.418262, 52.499337], [13.418189, 52.499335], [13.41811, 52.499324], [13.418033, 52.499305], [13.417901, 52.49924], [13.417859, 52.499207], [13.417835, 52.49918], [13.417815, 52.499151], [13.417791, 52.499093], [13.4178, 52.498989], [13.417828, 52.498956]]\n",
      "[[13.417828, 52.498956], [13.417898, 52.498873], [13.418009, 52.498815], [13.418104, 52.498788], [13.418306, 52.498776], [13.418381, 52.498785], [13.41845, 52.498801], [13.418509, 52.498822], [13.418611, 52.498879], [13.418665, 52.49893], [13.41871, 52.499023], [13.418706, 52.499107], [13.41868, 52.49916], [13.418648, 52.4992], [13.418549, 52.499271], [13.418485, 52.499299], [13.418407, 52.499321], [13.418262, 52.499337], [13.418189, 52.499335], [13.418158, 52.499396], [13.41809, 52.499537], [13.418097, 52.499617], [13.418113, 52.499647], [13.418205, 52.499775], [13.418266, 52.499856], [13.418417, 52.500068], [13.418426, 52.50008], [13.418441, 52.500101], [13.418487, 52.500163], [13.418508, 52.500193], [13.41854, 52.500236], [13.418698, 52.500458], [13.418751, 52.500529], [13.418839, 52.500648], [13.418847, 52.50066], [13.418934, 52.500786], [13.419053, 52.500959], [13.419121, 52.501057], [13.419215, 52.501187], [13.419284, 52.501284], [13.419344, 52.50137], [13.419451, 52.501517], [13.419547, 52.50165], [13.419571, 52.501682], [13.419589, 52.501708], [13.419677, 52.50183], [13.419832, 52.502043], [13.419937, 52.502188], [13.419982, 52.502249], [13.420026, 52.502313], [13.420057, 52.502357], [13.420213, 52.502581], [13.420233, 52.50261], [13.420243, 52.502625], [13.420439, 52.502907], [13.420452, 52.502924], [13.420579, 52.503106], [13.420622, 52.503169], [13.420672, 52.50324], [13.420714, 52.503301], [13.420896, 52.503551], [13.420948, 52.503655], [13.421184, 52.503988], [13.421234, 52.504058], [13.421299, 52.50415], [13.421344, 52.504214], [13.421517, 52.504457], [13.421605, 52.504577], [13.421954, 52.505064], [13.421987, 52.505109], [13.422115, 52.505097], [13.422339, 52.50508], [13.422942, 52.505063], [13.423653, 52.505081], [13.423896, 52.505101], [13.424699, 52.50521], [13.425036, 52.505285], [13.425388, 52.505378], [13.425822, 52.505515], [13.426266, 52.50569], [13.426495, 52.5058], [13.426614, 52.505862], [13.427277, 52.506259], [13.427512, 52.506445], [13.427722, 52.506639], [13.427971, 52.506952], [13.427996, 52.506984], [13.428081, 52.507104], [13.428168, 52.507217], [13.428191, 52.507249], [13.428259, 52.507353], [13.428279, 52.507481], [13.428301, 52.507947], [13.42836, 52.508137], [13.428437, 52.508261], [13.428562, 52.508413], [13.428805, 52.508687], [13.429018, 52.508933], [13.429519, 52.509494], [13.429708, 52.509697], [13.430028, 52.510057], [13.430052, 52.51009], [13.430113, 52.510193], [13.430249, 52.510477], [13.430049, 52.510559], [13.429583, 52.510738], [13.429098, 52.510926], [13.428229, 52.511271], [13.427495, 52.511588], [13.427035, 52.511799], [13.426788, 52.511924], [13.426447, 52.512093], [13.426169, 52.512256], [13.42533, 52.512853], [13.425128, 52.512991], [13.424461, 52.513395], [13.424399, 52.513427], [13.424272, 52.513493], [13.424413, 52.513592], [13.424466, 52.513632], [13.425128, 52.514129], [13.425206, 52.514193], [13.425256, 52.514238], [13.425604, 52.514564], [13.425809, 52.51478], [13.425952, 52.514957], [13.426056, 52.515085], [13.426387, 52.515449], [13.426629, 52.515717], [13.426713, 52.515812], [13.42679, 52.515907], [13.426858, 52.515986], [13.427051, 52.516228], [13.427206, 52.516442], [13.427254, 52.516509], [13.427306, 52.516585], [13.42735, 52.51665], [13.427537, 52.516948], [13.427646, 52.517133], [13.427812, 52.51742], [13.42792, 52.517604], [13.427958, 52.517676], [13.428055, 52.517839], [13.428144, 52.517946], [13.428254, 52.51802], [13.428281, 52.518036], [13.428336, 52.518065], [13.428442, 52.518111], [13.428576, 52.518142], [13.428718, 52.518177], [13.428862, 52.51823], [13.428982, 52.518319], [13.429021, 52.518379], [13.429036, 52.518432], [13.429018, 52.518556], [13.428947, 52.518657], [13.428866, 52.518735], [13.428809, 52.518803], [13.428727, 52.518915], [13.428704, 52.518953], [13.428689, 52.518992], [13.428689, 52.519032], [13.428696, 52.51906], [13.428816, 52.519341]]\n",
      "[[13.428816, 52.519341], [13.428868, 52.519461], [13.428647, 52.519501], [13.428469, 52.5192], [13.428426, 52.519127], [13.428405, 52.519105], [13.428347, 52.519058], [13.428301, 52.519029], [13.42828, 52.519016], [13.42812, 52.518945], [13.428024, 52.518916], [13.427918, 52.518889], [13.427719, 52.518822], [13.427621, 52.518755], [13.427592, 52.518717], [13.427575, 52.518681], [13.427569, 52.518534], [13.427625, 52.518435], [13.427651, 52.518392], [13.427696, 52.518329], [13.427815, 52.518148], [13.427815, 52.518135], [13.427816, 52.518061], [13.427808, 52.518026], [13.427793, 52.517991], [13.42779, 52.517984], [13.427664, 52.517735], [13.427616, 52.517643], [13.427499, 52.517418], [13.427312, 52.517108], [13.427188, 52.516931], [13.427077, 52.516775], [13.426962, 52.516625], [13.426917, 52.516571], [13.426793, 52.516417], [13.426653, 52.516251], [13.426489, 52.516072], [13.426387, 52.515958], [13.426303, 52.515862], [13.426218, 52.51577], [13.426189, 52.515737], [13.425982, 52.515508], [13.425588, 52.51507], [13.425456, 52.514924], [13.425188, 52.514632], [13.425051, 52.514479], [13.424839, 52.514241], [13.424703, 52.514117], [13.424638, 52.514058], [13.424554, 52.513975], [13.424291, 52.513692], [13.424279, 52.513679], [13.424194, 52.513591], [13.424155, 52.513552], [13.424028, 52.513433], [13.423979, 52.513316], [13.423957, 52.513293], [13.423944, 52.513279], [13.423804, 52.51313], [13.423734, 52.513056], [13.423558, 52.512862], [13.423388, 52.51268], [13.422893, 52.512134], [13.42277, 52.51199], [13.422548, 52.511702], [13.422543, 52.511695], [13.422487, 52.511618], [13.422299, 52.511357], [13.42227, 52.511316], [13.422144, 52.511139], [13.421986, 52.510917], [13.421853, 52.51073], [13.421805, 52.510663], [13.421668, 52.510471], [13.421615, 52.510397], [13.421478, 52.510205], [13.421381, 52.51007], [13.421268, 52.509911], [13.421236, 52.509867], [13.42117, 52.509775], [13.421043, 52.50981], [13.420973, 52.509828], [13.420293, 52.510004], [13.419979, 52.510086], [13.419657, 52.51017], [13.418625, 52.51044], [13.418581, 52.510452], [13.417522, 52.510729], [13.417456, 52.510746], [13.417225, 52.510806], [13.417143, 52.510827], [13.416691, 52.510944], [13.416454, 52.511006], [13.416406, 52.510932], [13.416142, 52.510578], [13.415982, 52.510369], [13.415893, 52.510259], [13.415419, 52.509649], [13.415363, 52.509578], [13.415163, 52.509321], [13.414485, 52.508448], [13.414149, 52.507992], [13.413581, 52.507276], [13.413465, 52.507131], [13.413333, 52.506967], [13.413222, 52.506824], [13.413103, 52.506678], [13.412767, 52.506261], [13.412626, 52.506078], [13.41242, 52.505806], [13.411922, 52.505172], [13.411806, 52.50502], [13.41172, 52.504909], [13.411647, 52.504819], [13.411542, 52.504683], [13.411441, 52.504557], [13.411367, 52.504465], [13.411262, 52.50433], [13.411175, 52.504218], [13.411141, 52.504174], [13.411044, 52.504052], [13.410938, 52.503979], [13.410916, 52.50396], [13.410804, 52.50387], [13.410675, 52.50387], [13.410559, 52.503848], [13.410458, 52.503807], [13.410381, 52.503748], [13.410348, 52.503686], [13.410346, 52.503611], [13.410381, 52.503539], [13.410464, 52.503469], [13.410548, 52.503432], [13.410469, 52.503339], [13.410394, 52.503246], [13.410238, 52.503054], [13.410071, 52.502848], [13.410055, 52.502828], [13.410034, 52.502801], [13.409963, 52.502716], [13.409882, 52.502611], [13.409678, 52.502346], [13.409649, 52.502308], [13.409602, 52.502246], [13.409519, 52.502141], [13.409292, 52.501849], [13.40922, 52.501754], [13.409124, 52.501637], [13.409045, 52.501538], [13.408947, 52.501413], [13.408884, 52.501334], [13.408862, 52.501306], [13.408556, 52.50092], [13.408424, 52.500754], [13.40824, 52.500521], [13.408065, 52.500293], [13.407951, 52.500143], [13.407882, 52.500053], [13.407849, 52.500009], [13.407784, 52.499925], [13.407073, 52.499005], [13.407021, 52.498937], [13.406867, 52.49873], [13.406724, 52.498536], [13.406679, 52.498478], [13.406376, 52.498475], [13.405612, 52.498469], [13.404661, 52.498463], [13.404337, 52.498462], [13.403565, 52.498456], [13.403069, 52.498451], [13.401457, 52.498438], [13.400581, 52.498431], [13.399882, 52.498427], [13.399833, 52.498427], [13.39962, 52.498425], [13.399398, 52.498423], [13.398823, 52.498419], [13.39668, 52.498406], [13.396581, 52.498402], [13.396381, 52.498394], [13.396098, 52.498374], [13.395962, 52.498362], [13.39573, 52.498341], [13.395519, 52.498321], [13.395325, 52.498304], [13.394651, 52.498197], [13.392248, 52.497957], [13.391984, 52.497934], [13.391789, 52.497918], [13.391737, 52.497913], [13.39128, 52.497886], [13.390812, 52.497888], [13.390251, 52.497898], [13.389753, 52.497944], [13.389235, 52.498033], [13.389107, 52.498058], [13.388784, 52.498126], [13.388676, 52.498147], [13.388255, 52.498248], [13.387499, 52.498436], [13.386475, 52.498691], [13.385564, 52.498915], [13.385509, 52.498928], [13.385329, 52.498971], [13.385186, 52.499001], [13.384577, 52.499127], [13.384224, 52.499186], [13.383427, 52.49926], [13.382848, 52.499263], [13.382068, 52.499204], [13.381398, 52.49918], [13.381088, 52.499193], [13.380584, 52.499243], [13.380443, 52.499264], [13.380302, 52.499284], [13.380008, 52.499338], [13.379554, 52.499429], [13.379005, 52.499637], [13.378812, 52.499746], [13.378537, 52.499935], [13.378367, 52.50008], [13.37823, 52.500229], [13.377442, 52.501372], [13.37697, 52.501862], [13.376889, 52.501948], [13.376718, 52.501871], [13.376683, 52.501856], [13.376312, 52.501682], [13.3763, 52.501677], [13.376167, 52.501606], [13.376247, 52.501533], [13.376631, 52.501187], [13.376727, 52.50107], [13.376886, 52.500827], [13.377236, 52.500292], [13.377462, 52.499987], [13.377633, 52.49981], [13.377511, 52.499769], [13.377418, 52.499725], [13.376843, 52.499843], [13.376787, 52.499865], [13.376653, 52.499892], [13.37642, 52.49994], [13.376364, 52.499962], [13.376289, 52.499978], [13.37603, 52.500031], [13.375956, 52.500035], [13.375685, 52.50009], [13.375375, 52.500153], [13.374999, 52.500229], [13.374879, 52.500254], [13.374791, 52.500272], [13.374714, 52.500296], [13.374467, 52.500345], [13.374416, 52.500356], [13.374281, 52.500383], [13.374204, 52.500374], [13.374117, 52.500341], [13.374038, 52.500312], [13.373954, 52.500281], [13.373604, 52.498827], [13.373522, 52.49859], [13.373472, 52.498444], [13.373403, 52.498243], [13.373179, 52.49767], [13.37311, 52.497606]]\n",
      "[[13.37311, 52.497606], [13.373179, 52.49767], [13.373403, 52.498243], [13.373472, 52.498444], [13.373522, 52.49859], [13.373604, 52.498827], [13.373954, 52.500281], [13.374038, 52.500312], [13.374117, 52.500341], [13.374204, 52.500374], [13.374281, 52.500383], [13.374252, 52.500423], [13.374211, 52.500602], [13.374211, 52.500653], [13.374231, 52.500686], [13.374313, 52.50073], [13.374342, 52.500745], [13.37485, 52.500984], [13.375085, 52.501094], [13.375241, 52.501168], [13.375599, 52.501336], [13.375626, 52.501349], [13.37592, 52.501486], [13.37597, 52.50151], [13.376042, 52.501548], [13.376167, 52.501606], [13.3763, 52.501677], [13.376312, 52.501682], [13.376683, 52.501856], [13.376718, 52.501871], [13.376889, 52.501948], [13.376813, 52.502018], [13.376537, 52.502273], [13.376119, 52.502525], [13.375111, 52.502944], [13.374937, 52.503023], [13.374833, 52.503068], [13.374568, 52.503191], [13.374258, 52.503379], [13.373952, 52.503619], [13.373362, 52.50429], [13.373108, 52.504509], [13.372682, 52.504811], [13.372228, 52.505044], [13.372162, 52.505073], [13.37208, 52.505107], [13.372138, 52.505196], [13.37215, 52.505244], [13.372367, 52.506147], [13.372375, 52.506177], [13.372477, 52.506541], [13.372549, 52.506932], [13.372529, 52.507236], [13.372473, 52.50748], [13.372005, 52.508973], [13.371872, 52.50938], [13.371752, 52.509747], [13.371564, 52.510341], [13.371501, 52.510549], [13.371397, 52.510896], [13.371037, 52.511986], [13.370568, 52.51308], [13.370432, 52.513325], [13.370281, 52.513579], [13.370146, 52.51394], [13.37008, 52.514148], [13.37001, 52.514506], [13.369954, 52.515144], [13.369955, 52.515668], [13.369975, 52.515857], [13.37001, 52.51604], [13.37018, 52.516626], [13.370382, 52.517133], [13.370633, 52.517656], [13.371901, 52.519931], [13.371965, 52.52013], [13.371982, 52.520493], [13.371975, 52.520622], [13.371927, 52.520802], [13.371699, 52.521246], [13.371441, 52.521623], [13.370823, 52.522382], [13.370249, 52.523016], [13.369856, 52.52333], [13.369757, 52.523381], [13.369383, 52.523482], [13.36918, 52.523541], [13.36882, 52.523674], [13.368545, 52.523826], [13.368336, 52.523969], [13.368186, 52.524109], [13.368065, 52.524291], [13.368005, 52.524463], [13.367966, 52.524813], [13.367972, 52.525122], [13.367987, 52.525423], [13.36798, 52.525713], [13.367982, 52.525749], [13.367964, 52.525858], [13.367952, 52.525882], [13.368219, 52.525963], [13.368335, 52.525999], [13.368923, 52.52618], [13.369041, 52.526217], [13.369174, 52.526258], [13.369232, 52.526275], [13.369891, 52.526478], [13.370382, 52.526628], [13.370448, 52.526655], [13.370568, 52.526706], [13.3707, 52.52676], [13.370759, 52.526785], [13.370798, 52.526801], [13.370982, 52.526875], [13.371671, 52.527093], [13.372583, 52.527379], [13.373406, 52.527632], [13.373549, 52.527676], [13.373645, 52.527706], [13.374101, 52.527841], [13.374277, 52.527893], [13.374328, 52.52795], [13.374369, 52.527982], [13.374415, 52.527998], [13.375277, 52.528265], [13.375868, 52.528443], [13.375962, 52.528472], [13.376248, 52.528538], [13.377073, 52.528782], [13.377269, 52.528843], [13.37763, 52.528932], [13.377639, 52.528935], [13.377719, 52.528954], [13.377893, 52.528986], [13.378223, 52.529085], [13.378334, 52.529135], [13.378445, 52.529199], [13.378562, 52.529234], [13.379031, 52.529373], [13.379141, 52.529409], [13.379219, 52.529438], [13.379366, 52.529493], [13.379522, 52.529556], [13.379752, 52.529628], [13.380296, 52.529789], [13.38122, 52.530063], [13.381436, 52.530127], [13.381512, 52.530149], [13.381634, 52.53017], [13.38204, 52.530241], [13.382385, 52.530337], [13.382625, 52.530404], [13.382964, 52.530509], [13.383071, 52.530567], [13.383231, 52.530604], [13.383484, 52.530673], [13.383755, 52.530747], [13.38494, 52.531073], [13.385313, 52.531179], [13.3854, 52.531188], [13.386139, 52.531306], [13.386251, 52.531325], [13.386229, 52.531359], [13.38619, 52.531412], [13.386172, 52.531434], [13.386091, 52.53153], [13.385259, 52.532266], [13.385147, 52.532376], [13.385084, 52.532451], [13.384972, 52.532581], [13.384875, 52.532667], [13.384727, 52.5328], [13.384092, 52.533363], [13.38395, 52.533489]]\n"
     ]
    }
   ],
   "source": [
    "# route_list[0]['features'][0]['geometry']['coordinates']\n",
    "for idx, el in enumerate(route_list):\n",
    "    print(el['features'][0]['geometry']['coordinates'])\n",
    "\n",
    "# api.carthography.map_route(route_list[3]['features'][0]['geometry']['coordinates'], map_object)[0]"
   ]
  },
  {
   "cell_type": "code",
   "execution_count": 73,
   "metadata": {},
   "outputs": [],
   "source": [
    "map_object = routing.directional.display_directional_route_round_trip_on_map(route_list, coordinates, index_list)"
   ]
  },
  {
   "cell_type": "code",
   "execution_count": 74,
   "metadata": {},
   "outputs": [
    {
     "data": {
      "text/html": [
       "<div style=\"width:100%;\"><div style=\"position:relative;width:100%;height:0;padding-bottom:60%;\"><span style=\"color:#565656\">Make this Notebook Trusted to load map: File -> Trust Notebook</span><iframe srcdoc=\"&lt;!DOCTYPE html&gt;\n",
       "&lt;html&gt;\n",
       "&lt;head&gt;\n",
       "    \n",
       "    &lt;meta http-equiv=&quot;content-type&quot; content=&quot;text/html; charset=UTF-8&quot; /&gt;\n",
       "    \n",
       "        &lt;script&gt;\n",
       "            L_NO_TOUCH = false;\n",
       "            L_DISABLE_3D = false;\n",
       "        &lt;/script&gt;\n",
       "    \n",
       "    &lt;style&gt;html, body {width: 100%;height: 100%;margin: 0;padding: 0;}&lt;/style&gt;\n",
       "    &lt;style&gt;#map {position:absolute;top:0;bottom:0;right:0;left:0;}&lt;/style&gt;\n",
       "    &lt;script src=&quot;https://cdn.jsdelivr.net/npm/leaflet@1.9.3/dist/leaflet.js&quot;&gt;&lt;/script&gt;\n",
       "    &lt;script src=&quot;https://code.jquery.com/jquery-1.12.4.min.js&quot;&gt;&lt;/script&gt;\n",
       "    &lt;script src=&quot;https://cdn.jsdelivr.net/npm/bootstrap@5.2.2/dist/js/bootstrap.bundle.min.js&quot;&gt;&lt;/script&gt;\n",
       "    &lt;script src=&quot;https://cdnjs.cloudflare.com/ajax/libs/Leaflet.awesome-markers/2.0.2/leaflet.awesome-markers.js&quot;&gt;&lt;/script&gt;\n",
       "    &lt;link rel=&quot;stylesheet&quot; href=&quot;https://cdn.jsdelivr.net/npm/leaflet@1.9.3/dist/leaflet.css&quot;/&gt;\n",
       "    &lt;link rel=&quot;stylesheet&quot; href=&quot;https://cdn.jsdelivr.net/npm/bootstrap@5.2.2/dist/css/bootstrap.min.css&quot;/&gt;\n",
       "    &lt;link rel=&quot;stylesheet&quot; href=&quot;https://netdna.bootstrapcdn.com/bootstrap/3.0.0/css/bootstrap.min.css&quot;/&gt;\n",
       "    &lt;link rel=&quot;stylesheet&quot; href=&quot;https://cdn.jsdelivr.net/npm/@fortawesome/fontawesome-free@6.2.0/css/all.min.css&quot;/&gt;\n",
       "    &lt;link rel=&quot;stylesheet&quot; href=&quot;https://cdnjs.cloudflare.com/ajax/libs/Leaflet.awesome-markers/2.0.2/leaflet.awesome-markers.css&quot;/&gt;\n",
       "    &lt;link rel=&quot;stylesheet&quot; href=&quot;https://cdn.jsdelivr.net/gh/python-visualization/folium/folium/templates/leaflet.awesome.rotate.min.css&quot;/&gt;\n",
       "    \n",
       "            &lt;meta name=&quot;viewport&quot; content=&quot;width=device-width,\n",
       "                initial-scale=1.0, maximum-scale=1.0, user-scalable=no&quot; /&gt;\n",
       "            &lt;style&gt;\n",
       "                #map_18195fbcde92a48f0df9d62391d8adad {\n",
       "                    position: relative;\n",
       "                    width: 100.0%;\n",
       "                    height: 100.0%;\n",
       "                    left: 0.0%;\n",
       "                    top: 0.0%;\n",
       "                }\n",
       "                .leaflet-container { font-size: 1rem; }\n",
       "            &lt;/style&gt;\n",
       "        \n",
       "&lt;/head&gt;\n",
       "&lt;body&gt;\n",
       "    \n",
       "    \n",
       "            &lt;div class=&quot;folium-map&quot; id=&quot;map_18195fbcde92a48f0df9d62391d8adad&quot; &gt;&lt;/div&gt;\n",
       "        \n",
       "&lt;/body&gt;\n",
       "&lt;script&gt;\n",
       "    \n",
       "    \n",
       "            var map_18195fbcde92a48f0df9d62391d8adad = L.map(\n",
       "                &quot;map_18195fbcde92a48f0df9d62391d8adad&quot;,\n",
       "                {\n",
       "                    center: [52.497395, 13.41871],\n",
       "                    crs: L.CRS.EPSG3857,\n",
       "                    zoom: 15,\n",
       "                    zoomControl: true,\n",
       "                    preferCanvas: false,\n",
       "                }\n",
       "            );\n",
       "\n",
       "            \n",
       "\n",
       "        \n",
       "    \n",
       "            var tile_layer_d9d1fab0f2089a65a9a5ca05a92dbdb9 = L.tileLayer(\n",
       "                &quot;https://cartodb-basemaps-{s}.global.ssl.fastly.net/light_all/{z}/{x}/{y}.png&quot;,\n",
       "                {&quot;attribution&quot;: &quot;\\u0026copy; \\u003ca target=\\&quot;_blank\\&quot; href=\\&quot;http://www.openstreetmap.org/copyright\\&quot;\\u003eOpenStreetMap\\u003c/a\\u003e contributors \\u0026copy; \\u003ca target=\\&quot;_blank\\&quot; href=\\&quot;http://cartodb.com/attributions\\&quot;\\u003eCartoDB\\u003c/a\\u003e, CartoDB \\u003ca target=\\&quot;_blank\\&quot; href =\\&quot;http://cartodb.com/attributions\\&quot;\\u003eattributions\\u003c/a\\u003e&quot;, &quot;detectRetina&quot;: false, &quot;maxNativeZoom&quot;: 18, &quot;maxZoom&quot;: 18, &quot;minZoom&quot;: 0, &quot;noWrap&quot;: false, &quot;opacity&quot;: 1, &quot;subdomains&quot;: &quot;abc&quot;, &quot;tms&quot;: false}\n",
       "            ).addTo(map_18195fbcde92a48f0df9d62391d8adad);\n",
       "        \n",
       "    \n",
       "            var poly_line_364aea4d64056180283051e06788694e = L.polyline(\n",
       "                [[52.533489, 13.38395], [52.533363, 13.384092], [52.5328, 13.384727], [52.532667, 13.384875], [52.532581, 13.384972], [52.532451, 13.385084], [52.532376, 13.385147], [52.532266, 13.385259], [52.53153, 13.386091], [52.531434, 13.386172], [52.531409, 13.386034], [52.531299, 13.385607], [52.531215, 13.385381], [52.531179, 13.385313], [52.531073, 13.38494], [52.530747, 13.383755], [52.530673, 13.383484], [52.530604, 13.383231], [52.530567, 13.383071], [52.530569, 13.383054], [52.53058, 13.382935], [52.530569, 13.382775], [52.530268, 13.381736], [52.530186, 13.381584], [52.530149, 13.381512], [52.530127, 13.381436], [52.530063, 13.38122], [52.529789, 13.380296], [52.529628, 13.379752], [52.529556, 13.379522], [52.529493, 13.379366], [52.529438, 13.379219], [52.529409, 13.379141], [52.529373, 13.379031], [52.529234, 13.378562], [52.529199, 13.378445], [52.529193, 13.378316], [52.529187, 13.378212], [52.529077, 13.377822], [52.529043, 13.377651], [52.528952, 13.377251], [52.528654, 13.376227], [52.528636, 13.376169], [52.528512, 13.376011], [52.528472, 13.375962], [52.528443, 13.375868], [52.528265, 13.375277], [52.527998, 13.374415], [52.527982, 13.374369], [52.527976, 13.37429], [52.527972, 13.374211], [52.527957, 13.37409], [52.527946, 13.374033], [52.52781, 13.373581], [52.527794, 13.373529], [52.527777, 13.373473], [52.527731, 13.373325], [52.527071, 13.371183], [52.527052, 13.371104], [52.526987, 13.370789], [52.526947, 13.370625], [52.526931, 13.370558], [52.526897, 13.370417], [52.526862, 13.370274], [52.526846, 13.370208], [52.526713, 13.369779], [52.526642, 13.36955], [52.526564, 13.369297], [52.526514, 13.369137], [52.526494, 13.369071], [52.526483, 13.369035], [52.52641, 13.3688], [52.526203, 13.368132], [52.526099, 13.367831], [52.526007, 13.367564], [52.525806, 13.367703], [52.525721, 13.36776], [52.525673, 13.367794], [52.525175, 13.3678], [52.525105, 13.367804], [52.524792, 13.367838], [52.524498, 13.367921], [52.524174, 13.368073], [52.523929, 13.368275], [52.523713, 13.36858], [52.523564, 13.368803], [52.523395, 13.369325], [52.523318, 13.369544], [52.523216, 13.369759], [52.523109, 13.369919], [52.522052, 13.370878], [52.521594, 13.371262], [52.521126, 13.3716], [52.520774, 13.371779], [52.520478, 13.371824], [52.520141, 13.37181], [52.519952, 13.371749], [52.517668, 13.370463], [52.516924, 13.370122], [52.516257, 13.369897], [52.515959, 13.36982], [52.515848, 13.369797], [52.515661, 13.369775], [52.515107, 13.369779], [52.514766, 13.369805], [52.514434, 13.369851], [52.513911, 13.369981], [52.513515, 13.370085], [52.512991, 13.370168], [52.511626, 13.370772], [52.511203, 13.371004], [52.510874, 13.371214], [52.510314, 13.371435], [52.507457, 13.372353], [52.50723, 13.372403], [52.506944, 13.372417], [52.506565, 13.372338], [52.506203, 13.372234], [52.506169, 13.372224], [52.505286, 13.372015], [52.50524, 13.372001], [52.505161, 13.371964], [52.505091, 13.371884], [52.504911, 13.371665], [52.504884, 13.371633], [52.504804, 13.371536], [52.504756, 13.371639], [52.504713, 13.37173], [52.504415, 13.372297], [52.504264, 13.372512], [52.50395, 13.372873], [52.503757, 13.373037], [52.503656, 13.373123], [52.503624, 13.37315], [52.503509, 13.373245], [52.503233, 13.373489], [52.503111, 13.37363], [52.502984, 13.373826], [52.502859, 13.374029], [52.502726, 13.374243], [52.502603, 13.374464], [52.502571, 13.37452], [52.502531, 13.374589], [52.502435, 13.374754], [52.502218, 13.375123], [52.501961, 13.375561], [52.501692, 13.376017], [52.501661, 13.376069], [52.501606, 13.376167], [52.501533, 13.376247], [52.501187, 13.376631], [52.50107, 13.376727], [52.500827, 13.376886], [52.500292, 13.377236], [52.499987, 13.377462], [52.49981, 13.377633], [52.499672, 13.37778], [52.499512, 13.377985], [52.49935, 13.378217], [52.499211, 13.378463], [52.499077, 13.378752], [52.49897, 13.379045], [52.498903, 13.379277], [52.498762, 13.380064], [52.498735, 13.380225], [52.498723, 13.380317], [52.498683, 13.38065], [52.49866, 13.38088], [52.498638, 13.381294], [52.498639, 13.381676], [52.498646, 13.382035], [52.498651, 13.382252], [52.498663, 13.38264], [52.498669, 13.382895], [52.498672, 13.382986], [52.498673, 13.383039], [52.498676, 13.383218], [52.498678, 13.383336], [52.498678, 13.383399], [52.498679, 13.383731], [52.498654, 13.384107], [52.498606, 13.384507], [52.498508, 13.385087], [52.498492, 13.385167], [52.49847, 13.385266], [52.49764, 13.388778], [52.497613, 13.388931], [52.497569, 13.389215], [52.497545, 13.389386], [52.497498, 13.38975], [52.497487, 13.389836], [52.497463, 13.390046], [52.4974, 13.390967], [52.497395, 13.391708], [52.497396, 13.391808], [52.497399, 13.392039], [52.497405, 13.392192], [52.497432, 13.392629], [52.497449, 13.392821], [52.497458, 13.392932], [52.497571, 13.394214], [52.497599, 13.394523], [52.497615, 13.394671], [52.497634, 13.394803], [52.497668, 13.394982], [52.497755, 13.395339], [52.497764, 13.395373], [52.497782, 13.395433], [52.497832, 13.395606], [52.497918, 13.395873], [52.497968, 13.396009], [52.497983, 13.396052], [52.498146, 13.396591], [52.498207, 13.396917], [52.498248, 13.397243], [52.498273, 13.397738], [52.498271, 13.398526], [52.498276, 13.399242], [52.498277, 13.399284], [52.498278, 13.399517], [52.498276, 13.399718], [52.498295, 13.402172], [52.498304, 13.403054], [52.498303, 13.403469], [52.498309, 13.405255], [52.498311, 13.405754], [52.498318, 13.406347], [52.498323, 13.406568], [52.498324, 13.406847], [52.498327, 13.407104], [52.498349, 13.408214], [52.498394, 13.409072], [52.498408, 13.409326], [52.498416, 13.409511], [52.498439, 13.409999], [52.49846, 13.410435], [52.498466, 13.410546], [52.498472, 13.410685], [52.498481, 13.410904], [52.498507, 13.411494], [52.498522, 13.411871], [52.498526, 13.412022], [52.498532, 13.412194], [52.498519, 13.412852], [52.498476, 13.413466], [52.498437, 13.414077], [52.498442, 13.414277], [52.498449, 13.414332], [52.498461, 13.414409], [52.498513, 13.414744], [52.49868, 13.41585], [52.498735, 13.416286], [52.498778, 13.416593], [52.498801, 13.416781], [52.498823, 13.416975], [52.498828, 13.417054], [52.49884, 13.417284], [52.498842, 13.417377], [52.498842, 13.417494], [52.498826, 13.417886], [52.498815, 13.418009], [52.498788, 13.418104], [52.498776, 13.418306], [52.498785, 13.418381], [52.498801, 13.41845], [52.498822, 13.418509], [52.498879, 13.418611], [52.49893, 13.418665], [52.499023, 13.41871], [52.499107, 13.418706], [52.49916, 13.41868], [52.4992, 13.418648], [52.499271, 13.418549], [52.499299, 13.418485], [52.499321, 13.418407], [52.499337, 13.418262], [52.499335, 13.418189], [52.499324, 13.41811], [52.499305, 13.418033], [52.49924, 13.417901], [52.499207, 13.417859], [52.49918, 13.417835], [52.499151, 13.417815], [52.499093, 13.417791], [52.498989, 13.4178], [52.498956, 13.417828]],\n",
       "                {&quot;bubblingMouseEvents&quot;: true, &quot;color&quot;: &quot;#3388ff&quot;, &quot;dashArray&quot;: null, &quot;dashOffset&quot;: null, &quot;fill&quot;: false, &quot;fillColor&quot;: &quot;#3388ff&quot;, &quot;fillOpacity&quot;: 0.2, &quot;fillRule&quot;: &quot;evenodd&quot;, &quot;lineCap&quot;: &quot;round&quot;, &quot;lineJoin&quot;: &quot;round&quot;, &quot;noClip&quot;: false, &quot;opacity&quot;: 1.0, &quot;smoothFactor&quot;: 1.0, &quot;stroke&quot;: true, &quot;weight&quot;: 3}\n",
       "            ).addTo(map_18195fbcde92a48f0df9d62391d8adad);\n",
       "        \n",
       "    \n",
       "            var marker_ab14f0c5b9e4d57b3dd5408dac8c5567 = L.marker(\n",
       "                [52.533558, 13.384116],\n",
       "                {}\n",
       "            ).addTo(map_18195fbcde92a48f0df9d62391d8adad);\n",
       "        \n",
       "    \n",
       "        var popup_02c18459084aba3b631f4a0731061617 = L.popup({&quot;maxWidth&quot;: &quot;100%&quot;});\n",
       "\n",
       "        \n",
       "            \n",
       "                var html_8b61ce4342162a036626392cf918931d = $(`&lt;div id=&quot;html_8b61ce4342162a036626392cf918931d&quot; style=&quot;width: 100.0%; height: 100.0%;&quot;&gt;ID: 0&lt;/div&gt;`)[0];\n",
       "                popup_02c18459084aba3b631f4a0731061617.setContent(html_8b61ce4342162a036626392cf918931d);\n",
       "            \n",
       "        \n",
       "\n",
       "        marker_ab14f0c5b9e4d57b3dd5408dac8c5567.bindPopup(popup_02c18459084aba3b631f4a0731061617)\n",
       "        ;\n",
       "\n",
       "        \n",
       "    \n",
       "    \n",
       "            var poly_line_660565216e24ee9aa58dc146631eb8cd = L.polyline(\n",
       "                [[52.498956, 13.417828], [52.498873, 13.417898], [52.498815, 13.418009], [52.498788, 13.418104], [52.498776, 13.418306], [52.498785, 13.418381], [52.498801, 13.41845], [52.498822, 13.418509], [52.498879, 13.418611], [52.49893, 13.418665], [52.499023, 13.41871], [52.499107, 13.418706], [52.49916, 13.41868], [52.4992, 13.418648], [52.499271, 13.418549], [52.499299, 13.418485], [52.499321, 13.418407], [52.499337, 13.418262], [52.499335, 13.418189], [52.499396, 13.418158], [52.499537, 13.41809], [52.499617, 13.418097], [52.499647, 13.418113], [52.499775, 13.418205], [52.499856, 13.418266], [52.500068, 13.418417], [52.50008, 13.418426], [52.500101, 13.418441], [52.500163, 13.418487], [52.500193, 13.418508], [52.500236, 13.41854], [52.500458, 13.418698], [52.500529, 13.418751], [52.500648, 13.418839], [52.50066, 13.418847], [52.500786, 13.418934], [52.500959, 13.419053], [52.501057, 13.419121], [52.501187, 13.419215], [52.501284, 13.419284], [52.50137, 13.419344], [52.501517, 13.419451], [52.50165, 13.419547], [52.501682, 13.419571], [52.501708, 13.419589], [52.50183, 13.419677], [52.502043, 13.419832], [52.502188, 13.419937], [52.502249, 13.419982], [52.502313, 13.420026], [52.502357, 13.420057], [52.502581, 13.420213], [52.50261, 13.420233], [52.502625, 13.420243], [52.502907, 13.420439], [52.502924, 13.420452], [52.503106, 13.420579], [52.503169, 13.420622], [52.50324, 13.420672], [52.503301, 13.420714], [52.503551, 13.420896], [52.503655, 13.420948], [52.503988, 13.421184], [52.504058, 13.421234], [52.50415, 13.421299], [52.504214, 13.421344], [52.504457, 13.421517], [52.504577, 13.421605], [52.505064, 13.421954], [52.505109, 13.421987], [52.505097, 13.422115], [52.50508, 13.422339], [52.505063, 13.422942], [52.505081, 13.423653], [52.505101, 13.423896], [52.50521, 13.424699], [52.505285, 13.425036], [52.505378, 13.425388], [52.505515, 13.425822], [52.50569, 13.426266], [52.5058, 13.426495], [52.505862, 13.426614], [52.506259, 13.427277], [52.506445, 13.427512], [52.506639, 13.427722], [52.506952, 13.427971], [52.506984, 13.427996], [52.507104, 13.428081], [52.507217, 13.428168], [52.507249, 13.428191], [52.507353, 13.428259], [52.507481, 13.428279], [52.507947, 13.428301], [52.508137, 13.42836], [52.508261, 13.428437], [52.508413, 13.428562], [52.508687, 13.428805], [52.508933, 13.429018], [52.509494, 13.429519], [52.509697, 13.429708], [52.510057, 13.430028], [52.51009, 13.430052], [52.510193, 13.430113], [52.510477, 13.430249], [52.510559, 13.430049], [52.510738, 13.429583], [52.510926, 13.429098], [52.511271, 13.428229], [52.511588, 13.427495], [52.511799, 13.427035], [52.511924, 13.426788], [52.512093, 13.426447], [52.512256, 13.426169], [52.512853, 13.42533], [52.512991, 13.425128], [52.513395, 13.424461], [52.513427, 13.424399], [52.513493, 13.424272], [52.513592, 13.424413], [52.513632, 13.424466], [52.514129, 13.425128], [52.514193, 13.425206], [52.514238, 13.425256], [52.514564, 13.425604], [52.51478, 13.425809], [52.514957, 13.425952], [52.515085, 13.426056], [52.515449, 13.426387], [52.515717, 13.426629], [52.515812, 13.426713], [52.515907, 13.42679], [52.515986, 13.426858], [52.516228, 13.427051], [52.516442, 13.427206], [52.516509, 13.427254], [52.516585, 13.427306], [52.51665, 13.42735], [52.516948, 13.427537], [52.517133, 13.427646], [52.51742, 13.427812], [52.517604, 13.42792], [52.517676, 13.427958], [52.517839, 13.428055], [52.517946, 13.428144], [52.51802, 13.428254], [52.518036, 13.428281], [52.518065, 13.428336], [52.518111, 13.428442], [52.518142, 13.428576], [52.518177, 13.428718], [52.51823, 13.428862], [52.518319, 13.428982], [52.518379, 13.429021], [52.518432, 13.429036], [52.518556, 13.429018], [52.518657, 13.428947], [52.518735, 13.428866], [52.518803, 13.428809], [52.518915, 13.428727], [52.518953, 13.428704], [52.518992, 13.428689], [52.519032, 13.428689], [52.51906, 13.428696], [52.519341, 13.428816]],\n",
       "                {&quot;bubblingMouseEvents&quot;: true, &quot;color&quot;: &quot;#3388ff&quot;, &quot;dashArray&quot;: null, &quot;dashOffset&quot;: null, &quot;fill&quot;: false, &quot;fillColor&quot;: &quot;#3388ff&quot;, &quot;fillOpacity&quot;: 0.2, &quot;fillRule&quot;: &quot;evenodd&quot;, &quot;lineCap&quot;: &quot;round&quot;, &quot;lineJoin&quot;: &quot;round&quot;, &quot;noClip&quot;: false, &quot;opacity&quot;: 1.0, &quot;smoothFactor&quot;: 1.0, &quot;stroke&quot;: true, &quot;weight&quot;: 3}\n",
       "            ).addTo(map_18195fbcde92a48f0df9d62391d8adad);\n",
       "        \n",
       "    \n",
       "            var marker_1c447621cf7b90fd75b8d6a0b7f1d160 = L.marker(\n",
       "                [52.498929, 13.41774],\n",
       "                {}\n",
       "            ).addTo(map_18195fbcde92a48f0df9d62391d8adad);\n",
       "        \n",
       "    \n",
       "        var popup_fbbf9a49304b16714979f7ffea543b54 = L.popup({&quot;maxWidth&quot;: &quot;100%&quot;});\n",
       "\n",
       "        \n",
       "            \n",
       "                var html_acededd5971c660949df3da03a6738c3 = $(`&lt;div id=&quot;html_acededd5971c660949df3da03a6738c3&quot; style=&quot;width: 100.0%; height: 100.0%;&quot;&gt;ID: 1&lt;/div&gt;`)[0];\n",
       "                popup_fbbf9a49304b16714979f7ffea543b54.setContent(html_acededd5971c660949df3da03a6738c3);\n",
       "            \n",
       "        \n",
       "\n",
       "        marker_1c447621cf7b90fd75b8d6a0b7f1d160.bindPopup(popup_fbbf9a49304b16714979f7ffea543b54)\n",
       "        ;\n",
       "\n",
       "        \n",
       "    \n",
       "    \n",
       "            var poly_line_2c13754bf2f605cafcbac282533397c9 = L.polyline(\n",
       "                [[52.519341, 13.428816], [52.519461, 13.428868], [52.519501, 13.428647], [52.5192, 13.428469], [52.519127, 13.428426], [52.519105, 13.428405], [52.519058, 13.428347], [52.519029, 13.428301], [52.519016, 13.42828], [52.518945, 13.42812], [52.518916, 13.428024], [52.518889, 13.427918], [52.518822, 13.427719], [52.518755, 13.427621], [52.518717, 13.427592], [52.518681, 13.427575], [52.518534, 13.427569], [52.518435, 13.427625], [52.518392, 13.427651], [52.518329, 13.427696], [52.518148, 13.427815], [52.518135, 13.427815], [52.518061, 13.427816], [52.518026, 13.427808], [52.517991, 13.427793], [52.517984, 13.42779], [52.517735, 13.427664], [52.517643, 13.427616], [52.517418, 13.427499], [52.517108, 13.427312], [52.516931, 13.427188], [52.516775, 13.427077], [52.516625, 13.426962], [52.516571, 13.426917], [52.516417, 13.426793], [52.516251, 13.426653], [52.516072, 13.426489], [52.515958, 13.426387], [52.515862, 13.426303], [52.51577, 13.426218], [52.515737, 13.426189], [52.515508, 13.425982], [52.51507, 13.425588], [52.514924, 13.425456], [52.514632, 13.425188], [52.514479, 13.425051], [52.514241, 13.424839], [52.514117, 13.424703], [52.514058, 13.424638], [52.513975, 13.424554], [52.513692, 13.424291], [52.513679, 13.424279], [52.513591, 13.424194], [52.513552, 13.424155], [52.513433, 13.424028], [52.513316, 13.423979], [52.513293, 13.423957], [52.513279, 13.423944], [52.51313, 13.423804], [52.513056, 13.423734], [52.512862, 13.423558], [52.51268, 13.423388], [52.512134, 13.422893], [52.51199, 13.42277], [52.511702, 13.422548], [52.511695, 13.422543], [52.511618, 13.422487], [52.511357, 13.422299], [52.511316, 13.42227], [52.511139, 13.422144], [52.510917, 13.421986], [52.51073, 13.421853], [52.510663, 13.421805], [52.510471, 13.421668], [52.510397, 13.421615], [52.510205, 13.421478], [52.51007, 13.421381], [52.509911, 13.421268], [52.509867, 13.421236], [52.509775, 13.42117], [52.50981, 13.421043], [52.509828, 13.420973], [52.510004, 13.420293], [52.510086, 13.419979], [52.51017, 13.419657], [52.51044, 13.418625], [52.510452, 13.418581], [52.510729, 13.417522], [52.510746, 13.417456], [52.510806, 13.417225], [52.510827, 13.417143], [52.510944, 13.416691], [52.511006, 13.416454], [52.510932, 13.416406], [52.510578, 13.416142], [52.510369, 13.415982], [52.510259, 13.415893], [52.509649, 13.415419], [52.509578, 13.415363], [52.509321, 13.415163], [52.508448, 13.414485], [52.507992, 13.414149], [52.507276, 13.413581], [52.507131, 13.413465], [52.506967, 13.413333], [52.506824, 13.413222], [52.506678, 13.413103], [52.506261, 13.412767], [52.506078, 13.412626], [52.505806, 13.41242], [52.505172, 13.411922], [52.50502, 13.411806], [52.504909, 13.41172], [52.504819, 13.411647], [52.504683, 13.411542], [52.504557, 13.411441], [52.504465, 13.411367], [52.50433, 13.411262], [52.504218, 13.411175], [52.504174, 13.411141], [52.504052, 13.411044], [52.503979, 13.410938], [52.50396, 13.410916], [52.50387, 13.410804], [52.50387, 13.410675], [52.503848, 13.410559], [52.503807, 13.410458], [52.503748, 13.410381], [52.503686, 13.410348], [52.503611, 13.410346], [52.503539, 13.410381], [52.503469, 13.410464], [52.503432, 13.410548], [52.503339, 13.410469], [52.503246, 13.410394], [52.503054, 13.410238], [52.502848, 13.410071], [52.502828, 13.410055], [52.502801, 13.410034], [52.502716, 13.409963], [52.502611, 13.409882], [52.502346, 13.409678], [52.502308, 13.409649], [52.502246, 13.409602], [52.502141, 13.409519], [52.501849, 13.409292], [52.501754, 13.40922], [52.501637, 13.409124], [52.501538, 13.409045], [52.501413, 13.408947], [52.501334, 13.408884], [52.501306, 13.408862], [52.50092, 13.408556], [52.500754, 13.408424], [52.500521, 13.40824], [52.500293, 13.408065], [52.500143, 13.407951], [52.500053, 13.407882], [52.500009, 13.407849], [52.499925, 13.407784], [52.499005, 13.407073], [52.498937, 13.407021], [52.49873, 13.406867], [52.498536, 13.406724], [52.498478, 13.406679], [52.498475, 13.406376], [52.498469, 13.405612], [52.498463, 13.404661], [52.498462, 13.404337], [52.498456, 13.403565], [52.498451, 13.403069], [52.498438, 13.401457], [52.498431, 13.400581], [52.498427, 13.399882], [52.498427, 13.399833], [52.498425, 13.39962], [52.498423, 13.399398], [52.498419, 13.398823], [52.498406, 13.39668], [52.498402, 13.396581], [52.498394, 13.396381], [52.498374, 13.396098], [52.498362, 13.395962], [52.498341, 13.39573], [52.498321, 13.395519], [52.498304, 13.395325], [52.498197, 13.394651], [52.497957, 13.392248], [52.497934, 13.391984], [52.497918, 13.391789], [52.497913, 13.391737], [52.497886, 13.39128], [52.497888, 13.390812], [52.497898, 13.390251], [52.497944, 13.389753], [52.498033, 13.389235], [52.498058, 13.389107], [52.498126, 13.388784], [52.498147, 13.388676], [52.498248, 13.388255], [52.498436, 13.387499], [52.498691, 13.386475], [52.498915, 13.385564], [52.498928, 13.385509], [52.498971, 13.385329], [52.499001, 13.385186], [52.499127, 13.384577], [52.499186, 13.384224], [52.49926, 13.383427], [52.499263, 13.382848], [52.499204, 13.382068], [52.49918, 13.381398], [52.499193, 13.381088], [52.499243, 13.380584], [52.499264, 13.380443], [52.499284, 13.380302], [52.499338, 13.380008], [52.499429, 13.379554], [52.499637, 13.379005], [52.499746, 13.378812], [52.499935, 13.378537], [52.50008, 13.378367], [52.500229, 13.37823], [52.501372, 13.377442], [52.501862, 13.37697], [52.501948, 13.376889], [52.501871, 13.376718], [52.501856, 13.376683], [52.501682, 13.376312], [52.501677, 13.3763], [52.501606, 13.376167], [52.501533, 13.376247], [52.501187, 13.376631], [52.50107, 13.376727], [52.500827, 13.376886], [52.500292, 13.377236], [52.499987, 13.377462], [52.49981, 13.377633], [52.499769, 13.377511], [52.499725, 13.377418], [52.499843, 13.376843], [52.499865, 13.376787], [52.499892, 13.376653], [52.49994, 13.37642], [52.499962, 13.376364], [52.499978, 13.376289], [52.500031, 13.37603], [52.500035, 13.375956], [52.50009, 13.375685], [52.500153, 13.375375], [52.500229, 13.374999], [52.500254, 13.374879], [52.500272, 13.374791], [52.500296, 13.374714], [52.500345, 13.374467], [52.500356, 13.374416], [52.500383, 13.374281], [52.500374, 13.374204], [52.500341, 13.374117], [52.500312, 13.374038], [52.500281, 13.373954], [52.498827, 13.373604], [52.49859, 13.373522], [52.498444, 13.373472], [52.498243, 13.373403], [52.49767, 13.373179], [52.497606, 13.37311]],\n",
       "                {&quot;bubblingMouseEvents&quot;: true, &quot;color&quot;: &quot;#3388ff&quot;, &quot;dashArray&quot;: null, &quot;dashOffset&quot;: null, &quot;fill&quot;: false, &quot;fillColor&quot;: &quot;#3388ff&quot;, &quot;fillOpacity&quot;: 0.2, &quot;fillRule&quot;: &quot;evenodd&quot;, &quot;lineCap&quot;: &quot;round&quot;, &quot;lineJoin&quot;: &quot;round&quot;, &quot;noClip&quot;: false, &quot;opacity&quot;: 1.0, &quot;smoothFactor&quot;: 1.0, &quot;stroke&quot;: true, &quot;weight&quot;: 3}\n",
       "            ).addTo(map_18195fbcde92a48f0df9d62391d8adad);\n",
       "        \n",
       "    \n",
       "            var marker_fed51cf9ef7e4e639e55df1902f20ae4 = L.marker(\n",
       "                [52.519355, 13.428726],\n",
       "                {}\n",
       "            ).addTo(map_18195fbcde92a48f0df9d62391d8adad);\n",
       "        \n",
       "    \n",
       "        var popup_1d86e933163c377b6e1cea672b90db19 = L.popup({&quot;maxWidth&quot;: &quot;100%&quot;});\n",
       "\n",
       "        \n",
       "            \n",
       "                var html_bc09814102e5cc101daac610d5487e3d = $(`&lt;div id=&quot;html_bc09814102e5cc101daac610d5487e3d&quot; style=&quot;width: 100.0%; height: 100.0%;&quot;&gt;ID: 2&lt;/div&gt;`)[0];\n",
       "                popup_1d86e933163c377b6e1cea672b90db19.setContent(html_bc09814102e5cc101daac610d5487e3d);\n",
       "            \n",
       "        \n",
       "\n",
       "        marker_fed51cf9ef7e4e639e55df1902f20ae4.bindPopup(popup_1d86e933163c377b6e1cea672b90db19)\n",
       "        ;\n",
       "\n",
       "        \n",
       "    \n",
       "    \n",
       "            var poly_line_39156699a124e4790813592b65e2da6e = L.polyline(\n",
       "                [[52.497606, 13.37311], [52.49767, 13.373179], [52.498243, 13.373403], [52.498444, 13.373472], [52.49859, 13.373522], [52.498827, 13.373604], [52.500281, 13.373954], [52.500312, 13.374038], [52.500341, 13.374117], [52.500374, 13.374204], [52.500383, 13.374281], [52.500423, 13.374252], [52.500602, 13.374211], [52.500653, 13.374211], [52.500686, 13.374231], [52.50073, 13.374313], [52.500745, 13.374342], [52.500984, 13.37485], [52.501094, 13.375085], [52.501168, 13.375241], [52.501336, 13.375599], [52.501349, 13.375626], [52.501486, 13.37592], [52.50151, 13.37597], [52.501548, 13.376042], [52.501606, 13.376167], [52.501677, 13.3763], [52.501682, 13.376312], [52.501856, 13.376683], [52.501871, 13.376718], [52.501948, 13.376889], [52.502018, 13.376813], [52.502273, 13.376537], [52.502525, 13.376119], [52.502944, 13.375111], [52.503023, 13.374937], [52.503068, 13.374833], [52.503191, 13.374568], [52.503379, 13.374258], [52.503619, 13.373952], [52.50429, 13.373362], [52.504509, 13.373108], [52.504811, 13.372682], [52.505044, 13.372228], [52.505073, 13.372162], [52.505107, 13.37208], [52.505196, 13.372138], [52.505244, 13.37215], [52.506147, 13.372367], [52.506177, 13.372375], [52.506541, 13.372477], [52.506932, 13.372549], [52.507236, 13.372529], [52.50748, 13.372473], [52.508973, 13.372005], [52.50938, 13.371872], [52.509747, 13.371752], [52.510341, 13.371564], [52.510549, 13.371501], [52.510896, 13.371397], [52.511986, 13.371037], [52.51308, 13.370568], [52.513325, 13.370432], [52.513579, 13.370281], [52.51394, 13.370146], [52.514148, 13.37008], [52.514506, 13.37001], [52.515144, 13.369954], [52.515668, 13.369955], [52.515857, 13.369975], [52.51604, 13.37001], [52.516626, 13.37018], [52.517133, 13.370382], [52.517656, 13.370633], [52.519931, 13.371901], [52.52013, 13.371965], [52.520493, 13.371982], [52.520622, 13.371975], [52.520802, 13.371927], [52.521246, 13.371699], [52.521623, 13.371441], [52.522382, 13.370823], [52.523016, 13.370249], [52.52333, 13.369856], [52.523381, 13.369757], [52.523482, 13.369383], [52.523541, 13.36918], [52.523674, 13.36882], [52.523826, 13.368545], [52.523969, 13.368336], [52.524109, 13.368186], [52.524291, 13.368065], [52.524463, 13.368005], [52.524813, 13.367966], [52.525122, 13.367972], [52.525423, 13.367987], [52.525713, 13.36798], [52.525749, 13.367982], [52.525858, 13.367964], [52.525882, 13.367952], [52.525963, 13.368219], [52.525999, 13.368335], [52.52618, 13.368923], [52.526217, 13.369041], [52.526258, 13.369174], [52.526275, 13.369232], [52.526478, 13.369891], [52.526628, 13.370382], [52.526655, 13.370448], [52.526706, 13.370568], [52.52676, 13.3707], [52.526785, 13.370759], [52.526801, 13.370798], [52.526875, 13.370982], [52.527093, 13.371671], [52.527379, 13.372583], [52.527632, 13.373406], [52.527676, 13.373549], [52.527706, 13.373645], [52.527841, 13.374101], [52.527893, 13.374277], [52.52795, 13.374328], [52.527982, 13.374369], [52.527998, 13.374415], [52.528265, 13.375277], [52.528443, 13.375868], [52.528472, 13.375962], [52.528538, 13.376248], [52.528782, 13.377073], [52.528843, 13.377269], [52.528932, 13.37763], [52.528935, 13.377639], [52.528954, 13.377719], [52.528986, 13.377893], [52.529085, 13.378223], [52.529135, 13.378334], [52.529199, 13.378445], [52.529234, 13.378562], [52.529373, 13.379031], [52.529409, 13.379141], [52.529438, 13.379219], [52.529493, 13.379366], [52.529556, 13.379522], [52.529628, 13.379752], [52.529789, 13.380296], [52.530063, 13.38122], [52.530127, 13.381436], [52.530149, 13.381512], [52.53017, 13.381634], [52.530241, 13.38204], [52.530337, 13.382385], [52.530404, 13.382625], [52.530509, 13.382964], [52.530567, 13.383071], [52.530604, 13.383231], [52.530673, 13.383484], [52.530747, 13.383755], [52.531073, 13.38494], [52.531179, 13.385313], [52.531188, 13.3854], [52.531306, 13.386139], [52.531325, 13.386251], [52.531359, 13.386229], [52.531412, 13.38619], [52.531434, 13.386172], [52.53153, 13.386091], [52.532266, 13.385259], [52.532376, 13.385147], [52.532451, 13.385084], [52.532581, 13.384972], [52.532667, 13.384875], [52.5328, 13.384727], [52.533363, 13.384092], [52.533489, 13.38395]],\n",
       "                {&quot;bubblingMouseEvents&quot;: true, &quot;color&quot;: &quot;#3388ff&quot;, &quot;dashArray&quot;: null, &quot;dashOffset&quot;: null, &quot;fill&quot;: false, &quot;fillColor&quot;: &quot;#3388ff&quot;, &quot;fillOpacity&quot;: 0.2, &quot;fillRule&quot;: &quot;evenodd&quot;, &quot;lineCap&quot;: &quot;round&quot;, &quot;lineJoin&quot;: &quot;round&quot;, &quot;noClip&quot;: false, &quot;opacity&quot;: 1.0, &quot;smoothFactor&quot;: 1.0, &quot;stroke&quot;: true, &quot;weight&quot;: 3}\n",
       "            ).addTo(map_18195fbcde92a48f0df9d62391d8adad);\n",
       "        \n",
       "    \n",
       "            var marker_222caec857be18355468b622303bba64 = L.marker(\n",
       "                [52.496369, 13.374825],\n",
       "                {}\n",
       "            ).addTo(map_18195fbcde92a48f0df9d62391d8adad);\n",
       "        \n",
       "    \n",
       "        var popup_3a47dfa06bb2ed3680c440c24f1aa760 = L.popup({&quot;maxWidth&quot;: &quot;100%&quot;});\n",
       "\n",
       "        \n",
       "            \n",
       "                var html_1f87460af4bf9d5686b8e04fc7368da0 = $(`&lt;div id=&quot;html_1f87460af4bf9d5686b8e04fc7368da0&quot; style=&quot;width: 100.0%; height: 100.0%;&quot;&gt;ID: 3&lt;/div&gt;`)[0];\n",
       "                popup_3a47dfa06bb2ed3680c440c24f1aa760.setContent(html_1f87460af4bf9d5686b8e04fc7368da0);\n",
       "            \n",
       "        \n",
       "\n",
       "        marker_222caec857be18355468b622303bba64.bindPopup(popup_3a47dfa06bb2ed3680c440c24f1aa760)\n",
       "        ;\n",
       "\n",
       "        \n",
       "    \n",
       "&lt;/script&gt;\n",
       "&lt;/html&gt;\" style=\"position:absolute;width:100%;height:100%;left:0;top:0;border:none !important;\" allowfullscreen webkitallowfullscreen mozallowfullscreen></iframe></div></div>"
      ],
      "text/plain": [
       "<folium.folium.Map at 0x122780e20>"
      ]
     },
     "execution_count": 74,
     "metadata": {},
     "output_type": "execute_result"
    }
   ],
   "source": [
    "map_object"
   ]
  },
  {
   "cell_type": "code",
   "execution_count": null,
   "metadata": {},
   "outputs": [],
   "source": [
    "# TODO: test mapping points\n",
    "# TODO: test mapping directional routes\n"
   ]
  },
  {
   "cell_type": "code",
   "execution_count": null,
   "metadata": {},
   "outputs": [],
   "source": [
    "# TODO: implement: permutational routes\n",
    "# TODO: mapping permutational routes\n",
    "# TODO: implement: distancial routes\n"
   ]
  },
  {
   "cell_type": "code",
   "execution_count": null,
   "metadata": {},
   "outputs": [],
   "source": [
    "# TODO: implement: inexact algorithm (minmax, minsum)"
   ]
  },
  {
   "attachments": {},
   "cell_type": "markdown",
   "metadata": {},
   "source": [
    "# routing\n",
    "* directional\n",
    "* permutational\n",
    "* distancial\n",
    "___\n",
    "* \\+  solving: minmax, minsum"
   ]
  },
  {
   "cell_type": "code",
   "execution_count": 93,
   "metadata": {},
   "outputs": [
    {
     "data": {
      "text/plain": [
       "<module 'routing.permutational' from '/Users/marv/Documents/uni/relief-routing-models/routing/permutational.py'>"
      ]
     },
     "execution_count": 93,
     "metadata": {},
     "output_type": "execute_result"
    }
   ],
   "source": [
    "import routing.permutational\n",
    "importlib.reload(routing.directional)\n",
    "importlib.reload(routing.permutational)"
   ]
  },
  {
   "cell_type": "code",
   "execution_count": 77,
   "metadata": {},
   "outputs": [],
   "source": [
    "coordinates_permuted, indices_permuted = routing.permutational.get_permutations(\n",
    "    coordinates, index_list\n",
    ")"
   ]
  },
  {
   "cell_type": "code",
   "execution_count": 80,
   "metadata": {},
   "outputs": [
    {
     "data": {
      "text/plain": [
       "[[13.384116, 52.533558],\n",
       " [13.41774, 52.498929],\n",
       " [13.428726, 52.519355],\n",
       " [13.374825, 52.496369],\n",
       " [13.384116, 52.533558]]"
      ]
     },
     "execution_count": 80,
     "metadata": {},
     "output_type": "execute_result"
    }
   ],
   "source": [
    "coordinates"
   ]
  },
  {
   "cell_type": "code",
   "execution_count": 88,
   "metadata": {},
   "outputs": [
    {
     "data": {
      "text/plain": [
       "[[13.384116, 52.533558],\n",
       " [13.374825, 52.496369],\n",
       " [13.41774, 52.498929],\n",
       " [13.428726, 52.519355],\n",
       " [13.384116, 52.533558]]"
      ]
     },
     "execution_count": 88,
     "metadata": {},
     "output_type": "execute_result"
    }
   ],
   "source": [
    "coordinates_permuted[4]"
   ]
  },
  {
   "cell_type": "code",
   "execution_count": 89,
   "metadata": {},
   "outputs": [
    {
     "data": {
      "text/plain": [
       "[[0, 1, 2, 3, 0],\n",
       " [0, 1, 3, 2, 0],\n",
       " [0, 2, 1, 3, 0],\n",
       " [0, 2, 3, 1, 0],\n",
       " [0, 3, 1, 2, 0],\n",
       " [0, 3, 2, 1, 0]]"
      ]
     },
     "execution_count": 89,
     "metadata": {},
     "output_type": "execute_result"
    }
   ],
   "source": [
    "\n",
    "indices_permuted"
   ]
  },
  {
   "cell_type": "code",
   "execution_count": 94,
   "metadata": {},
   "outputs": [
    {
     "name": "stdout",
     "output_type": "stream",
     "text": [
      "index: 0, indices_permuted: [0, 1, 2, 3, 0], coords_permuted: [[13.384116, 52.533558], [13.41774, 52.498929], [13.428726, 52.519355], [13.374825, 52.496369], [13.384116, 52.533558]] \n",
      "\tnode 0: [13.384116, 52.533558] \t| node 1: [13.41774, 52.498929]\n",
      "\tnode 1: [13.41774, 52.498929] \t| node 2: [13.428726, 52.519355]\n",
      "\tnode 2: [13.428726, 52.519355] \t| node 3: [13.374825, 52.496369]\n",
      "\tnode 3: [13.374825, 52.496369] \t| node 0: [13.384116, 52.533558]\n",
      "index: 1, indices_permuted: [0, 1, 3, 2, 0], coords_permuted: [[13.384116, 52.533558], [13.41774, 52.498929], [13.374825, 52.496369], [13.428726, 52.519355], [13.384116, 52.533558]] \n",
      "\tnode 0: [13.384116, 52.533558] \t| node 1: [13.41774, 52.498929]\n",
      "\tnode 1: [13.41774, 52.498929] \t| node 3: [13.374825, 52.496369]\n",
      "\tnode 3: [13.374825, 52.496369] \t| node 2: [13.428726, 52.519355]\n",
      "\tnode 2: [13.428726, 52.519355] \t| node 0: [13.384116, 52.533558]\n",
      "index: 2, indices_permuted: [0, 2, 1, 3, 0], coords_permuted: [[13.384116, 52.533558], [13.428726, 52.519355], [13.41774, 52.498929], [13.374825, 52.496369], [13.384116, 52.533558]] \n",
      "\tnode 0: [13.384116, 52.533558] \t| node 2: [13.428726, 52.519355]\n",
      "\tnode 2: [13.428726, 52.519355] \t| node 1: [13.41774, 52.498929]\n",
      "\tnode 1: [13.41774, 52.498929] \t| node 3: [13.374825, 52.496369]\n",
      "\tnode 3: [13.374825, 52.496369] \t| node 0: [13.384116, 52.533558]\n",
      "index: 3, indices_permuted: [0, 2, 3, 1, 0], coords_permuted: [[13.384116, 52.533558], [13.428726, 52.519355], [13.374825, 52.496369], [13.41774, 52.498929], [13.384116, 52.533558]] \n",
      "\tnode 0: [13.384116, 52.533558] \t| node 2: [13.428726, 52.519355]\n",
      "\tnode 2: [13.428726, 52.519355] \t| node 3: [13.374825, 52.496369]\n",
      "\tnode 3: [13.374825, 52.496369] \t| node 1: [13.41774, 52.498929]\n",
      "\tnode 1: [13.41774, 52.498929] \t| node 0: [13.384116, 52.533558]\n",
      "index: 4, indices_permuted: [0, 3, 1, 2, 0], coords_permuted: [[13.384116, 52.533558], [13.374825, 52.496369], [13.41774, 52.498929], [13.428726, 52.519355], [13.384116, 52.533558]] \n",
      "\tnode 0: [13.384116, 52.533558] \t| node 3: [13.374825, 52.496369]\n",
      "\tnode 3: [13.374825, 52.496369] \t| node 1: [13.41774, 52.498929]\n",
      "\tnode 1: [13.41774, 52.498929] \t| node 2: [13.428726, 52.519355]\n",
      "\tnode 2: [13.428726, 52.519355] \t| node 0: [13.384116, 52.533558]\n",
      "index: 5, indices_permuted: [0, 3, 2, 1, 0], coords_permuted: [[13.384116, 52.533558], [13.374825, 52.496369], [13.428726, 52.519355], [13.41774, 52.498929], [13.384116, 52.533558]] \n",
      "\tnode 0: [13.384116, 52.533558] \t| node 3: [13.374825, 52.496369]\n",
      "\tnode 3: [13.374825, 52.496369] \t| node 2: [13.428726, 52.519355]\n",
      "\tnode 2: [13.428726, 52.519355] \t| node 1: [13.41774, 52.498929]\n",
      "\tnode 1: [13.41774, 52.498929] \t| node 0: [13.384116, 52.533558]\n"
     ]
    }
   ],
   "source": [
    "permutations_route_list = routing.permutational.route_permutational_with_ors(\n",
    "    coordinates=coordinates,\n",
    "    indices= index_list,\n",
    ")"
   ]
  },
  {
   "cell_type": "code",
   "execution_count": 121,
   "metadata": {},
   "outputs": [
    {
     "data": {
      "text/html": [
       "<div>\n",
       "<style scoped>\n",
       "    .dataframe tbody tr th:only-of-type {\n",
       "        vertical-align: middle;\n",
       "    }\n",
       "\n",
       "    .dataframe tbody tr th {\n",
       "        vertical-align: top;\n",
       "    }\n",
       "\n",
       "    .dataframe thead th {\n",
       "        text-align: right;\n",
       "    }\n",
       "</style>\n",
       "<table border=\"1\" class=\"dataframe\">\n",
       "  <thead>\n",
       "    <tr style=\"text-align: right;\">\n",
       "      <th></th>\n",
       "      <th>index</th>\n",
       "      <th>distance</th>\n",
       "      <th>duration</th>\n",
       "    </tr>\n",
       "  </thead>\n",
       "  <tbody>\n",
       "    <tr>\n",
       "      <th>0</th>\n",
       "      <td>1</td>\n",
       "      <td>7884.4</td>\n",
       "      <td>999.5</td>\n",
       "    </tr>\n",
       "    <tr>\n",
       "      <th>1</th>\n",
       "      <td>2</td>\n",
       "      <td>3037.7</td>\n",
       "      <td>521.1</td>\n",
       "    </tr>\n",
       "    <tr>\n",
       "      <th>2</th>\n",
       "      <td>3</td>\n",
       "      <td>6234.4</td>\n",
       "      <td>856.6</td>\n",
       "    </tr>\n",
       "    <tr>\n",
       "      <th>3</th>\n",
       "      <td>0</td>\n",
       "      <td>5196.7</td>\n",
       "      <td>683.8</td>\n",
       "    </tr>\n",
       "  </tbody>\n",
       "</table>\n",
       "</div>"
      ],
      "text/plain": [
       "   index  distance  duration\n",
       "0      1    7884.4     999.5\n",
       "1      2    3037.7     521.1\n",
       "2      3    6234.4     856.6\n",
       "3      0    5196.7     683.8"
      ]
     },
     "execution_count": 121,
     "metadata": {},
     "output_type": "execute_result"
    }
   ],
   "source": [
    "permutations_route_list[0]['route_sum_df']"
   ]
  },
  {
   "cell_type": "code",
   "execution_count": 117,
   "metadata": {},
   "outputs": [
    {
     "data": {
      "text/plain": [
       "<module 'routing.distancial' from '/Users/marv/Documents/uni/relief-routing-models/routing/distancial.py'>"
      ]
     },
     "execution_count": 117,
     "metadata": {},
     "output_type": "execute_result"
    }
   ],
   "source": [
    "import routing.distancial\n",
    "importlib.reload(routing.distancial)"
   ]
  },
  {
   "cell_type": "code",
   "execution_count": 119,
   "metadata": {},
   "outputs": [],
   "source": [
    "matrix = routing.distancial.route_distancial_with_ors(coordinates)"
   ]
  },
  {
   "cell_type": "code",
   "execution_count": 134,
   "metadata": {},
   "outputs": [
    {
     "name": "stdout",
     "output_type": "stream",
     "text": [
      "0.0\n",
      "7884.37\n",
      "4044.07\n",
      "5455.42\n",
      "0.0\n"
     ]
    }
   ],
   "source": [
    "for ind in range(0, len(matrix['sources'])):\n",
    "    print(matrix['distances'][0][ind])"
   ]
  },
  {
   "cell_type": "code",
   "execution_count": 135,
   "metadata": {},
   "outputs": [],
   "source": [
    "import pandas as pd\n",
    "route_summary_dict_list = []\n",
    "route_summary_df_list = []\n",
    "for step_index in range (1, len(coordinates)):\n",
    "    current_el_indices = []\n",
    "    current_el_distances = []\n",
    "    current_el_durations = []\n",
    "    for index in range(0, len(matrix['sources'])):\n",
    "        current_el_indices.append(index)\n",
    "        current_el_distances.append(matrix['distances'][step_index][index])\n",
    "        current_el_durations.append(matrix['durations'][step_index][index])\n",
    "    route_summary_dict = {\n",
    "            'run': step_index,\n",
    "            'index': current_el_indices,\n",
    "            'distances': current_el_distances,\n",
    "            'durations': current_el_durations\n",
    "    }\n",
    "    route_summary_dict_list.append(route_summary_dict)\n",
    "    route_summary_df_list.append(\n",
    "        pd.DataFrame(route_summary_dict)\n",
    "    )"
   ]
  },
  {
   "cell_type": "code",
   "execution_count": 141,
   "metadata": {},
   "outputs": [
    {
     "data": {
      "text/html": [
       "<div>\n",
       "<style scoped>\n",
       "    .dataframe tbody tr th:only-of-type {\n",
       "        vertical-align: middle;\n",
       "    }\n",
       "\n",
       "    .dataframe tbody tr th {\n",
       "        vertical-align: top;\n",
       "    }\n",
       "\n",
       "    .dataframe thead th {\n",
       "        text-align: right;\n",
       "    }\n",
       "</style>\n",
       "<table border=\"1\" class=\"dataframe\">\n",
       "  <thead>\n",
       "    <tr style=\"text-align: right;\">\n",
       "      <th></th>\n",
       "      <th>run</th>\n",
       "      <th>index</th>\n",
       "      <th>distances</th>\n",
       "      <th>durations</th>\n",
       "    </tr>\n",
       "  </thead>\n",
       "  <tbody>\n",
       "    <tr>\n",
       "      <th>0</th>\n",
       "      <td>4</td>\n",
       "      <td>0</td>\n",
       "      <td>0.00</td>\n",
       "      <td>0.00</td>\n",
       "    </tr>\n",
       "    <tr>\n",
       "      <th>1</th>\n",
       "      <td>4</td>\n",
       "      <td>1</td>\n",
       "      <td>7884.37</td>\n",
       "      <td>999.50</td>\n",
       "    </tr>\n",
       "    <tr>\n",
       "      <th>2</th>\n",
       "      <td>4</td>\n",
       "      <td>2</td>\n",
       "      <td>4044.07</td>\n",
       "      <td>677.44</td>\n",
       "    </tr>\n",
       "    <tr>\n",
       "      <th>3</th>\n",
       "      <td>4</td>\n",
       "      <td>3</td>\n",
       "      <td>5455.42</td>\n",
       "      <td>717.34</td>\n",
       "    </tr>\n",
       "    <tr>\n",
       "      <th>4</th>\n",
       "      <td>4</td>\n",
       "      <td>4</td>\n",
       "      <td>0.00</td>\n",
       "      <td>0.00</td>\n",
       "    </tr>\n",
       "  </tbody>\n",
       "</table>\n",
       "</div>"
      ],
      "text/plain": [
       "   run  index  distances  durations\n",
       "0    4      0       0.00       0.00\n",
       "1    4      1    7884.37     999.50\n",
       "2    4      2    4044.07     677.44\n",
       "3    4      3    5455.42     717.34\n",
       "4    4      4       0.00       0.00"
      ]
     },
     "execution_count": 141,
     "metadata": {},
     "output_type": "execute_result"
    }
   ],
   "source": [
    "route_summary_df_list[3]"
   ]
  },
  {
   "attachments": {},
   "cell_type": "markdown",
   "metadata": {},
   "source": [
    "# Adjacency-Matrix\n",
    "* $\\forall$ nodes: calc all distances\n",
    "* programmatically create adjacency matrix\n",
    "* visualize matrix"
   ]
  },
  {
   "cell_type": "code",
   "execution_count": 70,
   "metadata": {},
   "outputs": [],
   "source": [
    "from copy import deepcopy"
   ]
  },
  {
   "cell_type": "code",
   "execution_count": 8,
   "metadata": {},
   "outputs": [
    {
     "data": {
      "text/plain": [
       "<module 'routing.distancial' from '/Users/marv/Documents/uni/bua/relief-routing-models/routing/distancial.py'>"
      ]
     },
     "execution_count": 8,
     "metadata": {},
     "output_type": "execute_result"
    }
   ],
   "source": [
    "import importlib\n",
    "import routing.distancial\n",
    "importlib.reload(routing.distancial)"
   ]
  },
  {
   "cell_type": "code",
   "execution_count": 10,
   "metadata": {},
   "outputs": [],
   "source": [
    "coordinates = [[13.384116, 52.533558], [13.41774, 52.498929], [13.428726, 52.519355], [13.374825, 52.496369]]\n",
    "index_list = [0,1,2,3]"
   ]
  },
  {
   "cell_type": "code",
   "execution_count": 11,
   "metadata": {},
   "outputs": [],
   "source": [
    "route_list = []\n",
    "matrix, route_summary_dict_list, route_summary_df_list = routing.distancial.route_distancial_with_ors(coordinates_list=coordinates)"
   ]
  },
  {
   "cell_type": "code",
   "execution_count": 30,
   "metadata": {},
   "outputs": [
    {
     "data": {
      "text/plain": [
       "[[0.0, 7884.37, 4044.07, 5455.42],\n",
       " [7755.53, 0.0, 3037.68, 4007.69],\n",
       " [3925.67, 2961.43, 0.0, 6234.41],\n",
       " [5196.67, 3753.86, 5953.24, 0.0]]"
      ]
     },
     "execution_count": 30,
     "metadata": {},
     "output_type": "execute_result"
    }
   ],
   "source": [
    "matrix['distances']"
   ]
  },
  {
   "cell_type": "code",
   "execution_count": 71,
   "metadata": {},
   "outputs": [],
   "source": [
    "adjacency_matrix = [[0.0, 7884.37, 4044.07, 5455.42],\n",
    " [7755.53, 0.0, 3037.68, 4007.69],\n",
    " [3925.67, 2961.43, 0.0, 6234.41],\n",
    " [5196.67, 3753.86, 5953.24, 0.0]]"
   ]
  },
  {
   "cell_type": "code",
   "execution_count": 74,
   "metadata": {},
   "outputs": [],
   "source": [
    "adjacency_matrix_big= [[     0,    200,    300,    600,   3999,   7000,   4000,    300,\n",
    "           500],\n",
    "       [   200,      0,    234,   2345,   9233,  23908,    234,    243,\n",
    "           848],\n",
    "       [   300,    234,      0,    345,    933,    238,  23234,   2243,\n",
    "         23848],\n",
    "       [   600,   2345,    345,      0,  12933,  23348,    244,   2543,\n",
    "        223848],\n",
    "       [  3999,   9233,    933,  12933,      0,    234,    544,   2593,\n",
    "         89238],\n",
    "       [  7000,  23908,    238,  23348,    234,      0,   5442,    254,\n",
    "           238],\n",
    "       [  4000,    234,  23234,    244,    544,   5442,      0,    204,\n",
    "           203],\n",
    "       [   300,    243,   2243,   2543,   2593,    254,    204,      0,\n",
    "           874],\n",
    "       [   500,    848,  23848, 223848,  89238,    238,    203,    874,\n",
    "             0]]"
   ]
  },
  {
   "cell_type": "code",
   "execution_count": 75,
   "metadata": {},
   "outputs": [],
   "source": [
    "# greedy graph search\n",
    "\n",
    "def greedy_search(adjacency_matrix):\n",
    "    index_order = [0]\n",
    "    chosen_index = 0\n",
    "    distance_sum = 0\n",
    "    for iteration in range(0, len(adjacency_matrix)-1):\n",
    "        # TODO: get elements from chosen index\n",
    "        node_list = deepcopy(adjacency_matrix[chosen_index])\n",
    "        print('chosen index: ',chosen_index)\n",
    "        print('\\tadjacency_matrix ', adjacency_matrix)\n",
    "        print('\\tnode_el ', node_list)\n",
    "        # TODO: set indices from index_order to 'inf'\n",
    "        for el in index_order:\n",
    "            node_list[el] = float('inf')\n",
    "            \n",
    "        print('\\tnew_list ',node_list)\n",
    "\n",
    "        min_value = min(node_list)\n",
    "        chosen_index = node_list.index(min_value)\n",
    "        index_order.append(chosen_index)\n",
    "        distance_sum += min_value\n",
    "\n",
    "        print('\\t\\tindex ', chosen_index)\n",
    "        print('\\t\\tindex_order ', index_order)\n",
    "        print('\\t\\tdistance ', min_value)\n",
    "        print('\\t\\tdistance_sum ', distance_sum)\n",
    "\n",
    "\n"
   ]
  },
  {
   "cell_type": "code",
   "execution_count": 77,
   "metadata": {},
   "outputs": [
    {
     "name": "stdout",
     "output_type": "stream",
     "text": [
      "chosen index:  0\n",
      "\tadjacency_matrix  [[0, 200, 300, 600, 3999, 7000, 4000, 300, 500], [200, 0, 234, 2345, 9233, 23908, 234, 243, 848], [300, 234, 0, 345, 933, 238, 23234, 2243, 23848], [600, 2345, 345, 0, 12933, 23348, 244, 2543, 223848], [3999, 9233, 933, 12933, 0, 234, 544, 2593, 89238], [7000, 23908, 238, 23348, 234, 0, 5442, 254, 238], [4000, 234, 23234, 244, 544, 5442, 0, 204, 203], [300, 243, 2243, 2543, 2593, 254, 204, 0, 874], [500, 848, 23848, 223848, 89238, 238, 203, 874, 0]]\n",
      "\tnode_el  [0, 200, 300, 600, 3999, 7000, 4000, 300, 500]\n",
      "\tnew_list  [inf, 200, 300, 600, 3999, 7000, 4000, 300, 500]\n",
      "\t\tindex  1\n",
      "\t\tindex_order  [0, 1]\n",
      "\t\tdistance  200\n",
      "\t\tdistance_sum  200\n",
      "chosen index:  1\n",
      "\tadjacency_matrix  [[0, 200, 300, 600, 3999, 7000, 4000, 300, 500], [200, 0, 234, 2345, 9233, 23908, 234, 243, 848], [300, 234, 0, 345, 933, 238, 23234, 2243, 23848], [600, 2345, 345, 0, 12933, 23348, 244, 2543, 223848], [3999, 9233, 933, 12933, 0, 234, 544, 2593, 89238], [7000, 23908, 238, 23348, 234, 0, 5442, 254, 238], [4000, 234, 23234, 244, 544, 5442, 0, 204, 203], [300, 243, 2243, 2543, 2593, 254, 204, 0, 874], [500, 848, 23848, 223848, 89238, 238, 203, 874, 0]]\n",
      "\tnode_el  [200, 0, 234, 2345, 9233, 23908, 234, 243, 848]\n",
      "\tnew_list  [inf, inf, 234, 2345, 9233, 23908, 234, 243, 848]\n",
      "\t\tindex  2\n",
      "\t\tindex_order  [0, 1, 2]\n",
      "\t\tdistance  234\n",
      "\t\tdistance_sum  434\n",
      "chosen index:  2\n",
      "\tadjacency_matrix  [[0, 200, 300, 600, 3999, 7000, 4000, 300, 500], [200, 0, 234, 2345, 9233, 23908, 234, 243, 848], [300, 234, 0, 345, 933, 238, 23234, 2243, 23848], [600, 2345, 345, 0, 12933, 23348, 244, 2543, 223848], [3999, 9233, 933, 12933, 0, 234, 544, 2593, 89238], [7000, 23908, 238, 23348, 234, 0, 5442, 254, 238], [4000, 234, 23234, 244, 544, 5442, 0, 204, 203], [300, 243, 2243, 2543, 2593, 254, 204, 0, 874], [500, 848, 23848, 223848, 89238, 238, 203, 874, 0]]\n",
      "\tnode_el  [300, 234, 0, 345, 933, 238, 23234, 2243, 23848]\n",
      "\tnew_list  [inf, inf, inf, 345, 933, 238, 23234, 2243, 23848]\n",
      "\t\tindex  5\n",
      "\t\tindex_order  [0, 1, 2, 5]\n",
      "\t\tdistance  238\n",
      "\t\tdistance_sum  672\n",
      "chosen index:  5\n",
      "\tadjacency_matrix  [[0, 200, 300, 600, 3999, 7000, 4000, 300, 500], [200, 0, 234, 2345, 9233, 23908, 234, 243, 848], [300, 234, 0, 345, 933, 238, 23234, 2243, 23848], [600, 2345, 345, 0, 12933, 23348, 244, 2543, 223848], [3999, 9233, 933, 12933, 0, 234, 544, 2593, 89238], [7000, 23908, 238, 23348, 234, 0, 5442, 254, 238], [4000, 234, 23234, 244, 544, 5442, 0, 204, 203], [300, 243, 2243, 2543, 2593, 254, 204, 0, 874], [500, 848, 23848, 223848, 89238, 238, 203, 874, 0]]\n",
      "\tnode_el  [7000, 23908, 238, 23348, 234, 0, 5442, 254, 238]\n",
      "\tnew_list  [inf, inf, inf, 23348, 234, inf, 5442, 254, 238]\n",
      "\t\tindex  4\n",
      "\t\tindex_order  [0, 1, 2, 5, 4]\n",
      "\t\tdistance  234\n",
      "\t\tdistance_sum  906\n",
      "chosen index:  4\n",
      "\tadjacency_matrix  [[0, 200, 300, 600, 3999, 7000, 4000, 300, 500], [200, 0, 234, 2345, 9233, 23908, 234, 243, 848], [300, 234, 0, 345, 933, 238, 23234, 2243, 23848], [600, 2345, 345, 0, 12933, 23348, 244, 2543, 223848], [3999, 9233, 933, 12933, 0, 234, 544, 2593, 89238], [7000, 23908, 238, 23348, 234, 0, 5442, 254, 238], [4000, 234, 23234, 244, 544, 5442, 0, 204, 203], [300, 243, 2243, 2543, 2593, 254, 204, 0, 874], [500, 848, 23848, 223848, 89238, 238, 203, 874, 0]]\n",
      "\tnode_el  [3999, 9233, 933, 12933, 0, 234, 544, 2593, 89238]\n",
      "\tnew_list  [inf, inf, inf, 12933, inf, inf, 544, 2593, 89238]\n",
      "\t\tindex  6\n",
      "\t\tindex_order  [0, 1, 2, 5, 4, 6]\n",
      "\t\tdistance  544\n",
      "\t\tdistance_sum  1450\n",
      "chosen index:  6\n",
      "\tadjacency_matrix  [[0, 200, 300, 600, 3999, 7000, 4000, 300, 500], [200, 0, 234, 2345, 9233, 23908, 234, 243, 848], [300, 234, 0, 345, 933, 238, 23234, 2243, 23848], [600, 2345, 345, 0, 12933, 23348, 244, 2543, 223848], [3999, 9233, 933, 12933, 0, 234, 544, 2593, 89238], [7000, 23908, 238, 23348, 234, 0, 5442, 254, 238], [4000, 234, 23234, 244, 544, 5442, 0, 204, 203], [300, 243, 2243, 2543, 2593, 254, 204, 0, 874], [500, 848, 23848, 223848, 89238, 238, 203, 874, 0]]\n",
      "\tnode_el  [4000, 234, 23234, 244, 544, 5442, 0, 204, 203]\n",
      "\tnew_list  [inf, inf, inf, 244, inf, inf, inf, 204, 203]\n",
      "\t\tindex  8\n",
      "\t\tindex_order  [0, 1, 2, 5, 4, 6, 8]\n",
      "\t\tdistance  203\n",
      "\t\tdistance_sum  1653\n",
      "chosen index:  8\n",
      "\tadjacency_matrix  [[0, 200, 300, 600, 3999, 7000, 4000, 300, 500], [200, 0, 234, 2345, 9233, 23908, 234, 243, 848], [300, 234, 0, 345, 933, 238, 23234, 2243, 23848], [600, 2345, 345, 0, 12933, 23348, 244, 2543, 223848], [3999, 9233, 933, 12933, 0, 234, 544, 2593, 89238], [7000, 23908, 238, 23348, 234, 0, 5442, 254, 238], [4000, 234, 23234, 244, 544, 5442, 0, 204, 203], [300, 243, 2243, 2543, 2593, 254, 204, 0, 874], [500, 848, 23848, 223848, 89238, 238, 203, 874, 0]]\n",
      "\tnode_el  [500, 848, 23848, 223848, 89238, 238, 203, 874, 0]\n",
      "\tnew_list  [inf, inf, inf, 223848, inf, inf, inf, 874, inf]\n",
      "\t\tindex  7\n",
      "\t\tindex_order  [0, 1, 2, 5, 4, 6, 8, 7]\n",
      "\t\tdistance  874\n",
      "\t\tdistance_sum  2527\n",
      "chosen index:  7\n",
      "\tadjacency_matrix  [[0, 200, 300, 600, 3999, 7000, 4000, 300, 500], [200, 0, 234, 2345, 9233, 23908, 234, 243, 848], [300, 234, 0, 345, 933, 238, 23234, 2243, 23848], [600, 2345, 345, 0, 12933, 23348, 244, 2543, 223848], [3999, 9233, 933, 12933, 0, 234, 544, 2593, 89238], [7000, 23908, 238, 23348, 234, 0, 5442, 254, 238], [4000, 234, 23234, 244, 544, 5442, 0, 204, 203], [300, 243, 2243, 2543, 2593, 254, 204, 0, 874], [500, 848, 23848, 223848, 89238, 238, 203, 874, 0]]\n",
      "\tnode_el  [300, 243, 2243, 2543, 2593, 254, 204, 0, 874]\n",
      "\tnew_list  [inf, inf, inf, 2543, inf, inf, inf, inf, inf]\n",
      "\t\tindex  3\n",
      "\t\tindex_order  [0, 1, 2, 5, 4, 6, 8, 7, 3]\n",
      "\t\tdistance  2543\n",
      "\t\tdistance_sum  5070\n"
     ]
    }
   ],
   "source": [
    "greedy_search(adjacency_matrix_big)"
   ]
  },
  {
   "cell_type": "code",
   "execution_count": 84,
   "metadata": {},
   "outputs": [
    {
     "data": {
      "text/plain": [
       "<module 'solver.greedy_solver' from '/Users/marv/Documents/uni/bua/relief-routing-models/solver/greedy_solver.py'>"
      ]
     },
     "execution_count": 84,
     "metadata": {},
     "output_type": "execute_result"
    }
   ],
   "source": [
    "import solver.greedy_solver\n",
    "importlib.reload(solver.greedy_solver)"
   ]
  },
  {
   "cell_type": "code",
   "execution_count": 85,
   "metadata": {},
   "outputs": [
    {
     "name": "stdout",
     "output_type": "stream",
     "text": [
      "current_index:  0\n",
      "\t\tchosen_index:  1\n",
      "\t\tindex_order:  [0, 1]\n",
      "\t\tdistance:  200\n",
      "\t\tdistance_sum:  200\n",
      "current_index:  1\n",
      "\t\tchosen_index:  2\n",
      "\t\tindex_order:  [0, 1, 2]\n",
      "\t\tdistance:  234\n",
      "\t\tdistance_sum:  434\n",
      "current_index:  2\n",
      "\t\tchosen_index:  5\n",
      "\t\tindex_order:  [0, 1, 2, 5]\n",
      "\t\tdistance:  238\n",
      "\t\tdistance_sum:  672\n",
      "current_index:  5\n",
      "\t\tchosen_index:  4\n",
      "\t\tindex_order:  [0, 1, 2, 5, 4]\n",
      "\t\tdistance:  234\n",
      "\t\tdistance_sum:  906\n",
      "current_index:  4\n",
      "\t\tchosen_index:  6\n",
      "\t\tindex_order:  [0, 1, 2, 5, 4, 6]\n",
      "\t\tdistance:  544\n",
      "\t\tdistance_sum:  1450\n",
      "current_index:  6\n",
      "\t\tchosen_index:  8\n",
      "\t\tindex_order:  [0, 1, 2, 5, 4, 6, 8]\n",
      "\t\tdistance:  203\n",
      "\t\tdistance_sum:  1653\n",
      "current_index:  8\n",
      "\t\tchosen_index:  7\n",
      "\t\tindex_order:  [0, 1, 2, 5, 4, 6, 8, 7]\n",
      "\t\tdistance:  874\n",
      "\t\tdistance_sum:  2527\n",
      "current_index:  7\n",
      "\t\tchosen_index:  3\n",
      "\t\tindex_order:  [0, 1, 2, 5, 4, 6, 8, 7, 3]\n",
      "\t\tdistance:  2543\n",
      "\t\tdistance_sum:  5070\n"
     ]
    }
   ],
   "source": [
    "index_distances_list = solver.greedy_solver.greedy_search(adjacency_matrix_big)"
   ]
  },
  {
   "cell_type": "code",
   "execution_count": 86,
   "metadata": {},
   "outputs": [
    {
     "data": {
      "text/plain": [
       "[(0, 1, 200),\n",
       " (1, 2, 234),\n",
       " (2, 5, 238),\n",
       " (5, 4, 234),\n",
       " (4, 6, 544),\n",
       " (6, 8, 203),\n",
       " (8, 7, 874),\n",
       " (7, 3, 2543)]"
      ]
     },
     "execution_count": 86,
     "metadata": {},
     "output_type": "execute_result"
    }
   ],
   "source": [
    "index_distances_list"
   ]
  }
 ],
 "metadata": {
  "kernelspec": {
   "display_name": ".venv",
   "language": "python",
   "name": "python3"
  },
  "language_info": {
   "codemirror_mode": {
    "name": "ipython",
    "version": 3
   },
   "file_extension": ".py",
   "mimetype": "text/x-python",
   "name": "python",
   "nbconvert_exporter": "python",
   "pygments_lexer": "ipython3",
   "version": "3.10.4"
  },
  "orig_nbformat": 4
 },
 "nbformat": 4,
 "nbformat_minor": 2
}
